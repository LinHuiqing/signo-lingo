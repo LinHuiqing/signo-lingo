{
 "cells": [
  {
   "cell_type": "markdown",
   "id": "23f68ae4",
   "metadata": {},
   "source": [
    "# Load Data"
   ]
  },
  {
   "cell_type": "code",
   "execution_count": 1,
   "id": "2c81e8bb",
   "metadata": {},
   "outputs": [],
   "source": [
    "# Matplotlib\n",
    "import matplotlib.pyplot as plt\n",
    "# Numpy\n",
    "import numpy as np\n",
    "# Pillow\n",
    "from PIL import Image\n",
    "# Torch\n",
    "import torch\n",
    "from torch.utils.data import Dataset, DataLoader\n",
    "import torch.nn as nn\n",
    "import torch.optim as optim\n",
    "import torch.nn.functional as F\n",
    "import torch.optim.lr_scheduler as lr_scheduler\n",
    "from torchvision import transforms\n",
    "# from torchsummary import summary\n",
    "# Misc\n",
    "import time\n",
    "from datetime import datetime\n",
    "# preprocessing \n",
    "import sys\n",
    "import av\n",
    "import pandas as pd\n",
    "import os\n",
    "import cv2\n",
    "import matplotlib.pyplot as plt"
   ]
  },
  {
   "cell_type": "code",
   "execution_count": 2,
   "id": "07bb4a4f",
   "metadata": {},
   "outputs": [],
   "source": [
    "data_dir = \"dataset\"\n",
    "test_dir = f'../../{data_dir}/test'"
   ]
  },
  {
   "cell_type": "code",
   "execution_count": 3,
   "id": "9b1b0841",
   "metadata": {},
   "outputs": [],
   "source": [
    "# All labels\n",
    "filtered_data = \"data\"\n",
    "test_label_df = pd.read_csv(f'../../{filtered_data}/test.csv', header=None)\n",
    "\n",
    "# convert all into hashmap - key = u_vid_name , value = label\n",
    "test_label = {f\"../../{test_dir}/{k[0]}\": k[1] for k in test_label_df.values.tolist()}"
   ]
  },
  {
   "cell_type": "code",
   "execution_count": 4,
   "id": "940d649b",
   "metadata": {},
   "outputs": [
    {
     "name": "stdout",
     "output_type": "stream",
     "text": [
      "total unique label: 10\n"
     ]
    }
   ],
   "source": [
    "# Total label + turkish to english translation\n",
    "total_label = pd.read_csv(f'../../{filtered_data}/filtered_ClassId.csv')\n",
    "u_len_label = len(total_label['ClassId'].unique())\n",
    "print(\"total unique label:\", u_len_label)"
   ]
  },
  {
   "cell_type": "code",
   "execution_count": 5,
   "id": "1e603bf8",
   "metadata": {},
   "outputs": [],
   "source": [
    "class_id_to_label = {k[0]: k[2] for k in total_label.values.tolist()}"
   ]
  },
  {
   "cell_type": "code",
   "execution_count": 6,
   "id": "b9b5ec02",
   "metadata": {},
   "outputs": [
    {
     "name": "stdout",
     "output_type": "stream",
     "text": [
      "{0: 'champion', 1: 'glass', 2: 'wrong', 3: 'bad', 4: 'married', 5: 'potato', 6: 'congratulations', 7: 'child', 8: 'inform', 9: 'father'}\n"
     ]
    }
   ],
   "source": [
    "print(class_id_to_label)"
   ]
  },
  {
   "cell_type": "markdown",
   "id": "9e80dc5e",
   "metadata": {},
   "source": [
    "# Load video"
   ]
  },
  {
   "cell_type": "code",
   "execution_count": 7,
   "id": "fa309e48",
   "metadata": {},
   "outputs": [],
   "source": [
    "def extract_frames(vid_path, frames_cap, transforms=None):\n",
    "    \"\"\"Extract and transform video frames\n",
    "\n",
    "    Parameters:\n",
    "    vid_path (str): path to video file\n",
    "    frames_cap (int): number of frames to extract, evenly spaced\n",
    "    transforms (torchvision.transforms, optional): transformations to apply to frame\n",
    "\n",
    "    Returns:\n",
    "    list of numpy.array: vid_arr\n",
    "\n",
    "    \"\"\"\n",
    "    vid_arr = []\n",
    "    with av.open(vid_path) as container:\n",
    "        stream = container.streams.video[0]\n",
    "        n_frames = stream.frames\n",
    "        remainder = n_frames % frames_cap\n",
    "        interval = n_frames // frames_cap\n",
    "        take_frame_idx = 0\n",
    "        for frame_no, frame in enumerate(container.decode(stream)):\n",
    "            if frame_no == take_frame_idx:\n",
    "                img = frame.to_image()\n",
    "                if transforms:\n",
    "                    img = transforms(img)\n",
    "                vid_arr.append(np.array(img))\n",
    "                if remainder > 0:\n",
    "                    take_frame_idx += 1\n",
    "                    remainder -= 1\n",
    "                take_frame_idx += interval\n",
    "    if len(vid_arr) < frames_cap:\n",
    "        raise ValueError(f\"video with path '{vid_path}' is too short, please make sure that video has >={frames_cap} frames\")\n",
    "    return vid_arr"
   ]
  },
  {
   "cell_type": "code",
   "execution_count": 8,
   "id": "877eae1d",
   "metadata": {},
   "outputs": [
    {
     "name": "stdout",
     "output_type": "stream",
     "text": [
      "(30, 3, 256, 256)\n"
     ]
    }
   ],
   "source": [
    "transforms_compose = transforms.Compose([transforms.Resize(256), \n",
    "                                         transforms.ToTensor(),\n",
    "                                         transforms.Normalize(mean=[0.5], std=[0.5])])\n",
    "vid_name = \"signer34_sample4\"\n",
    "vid_color_path = f\"{test_dir}/{vid_name}_color.mp4\"\n",
    "rgb_arr = extract_frames(vid_color_path, 30, transforms=transforms_compose)\n",
    "vid_arr = np.array(rgb_arr)\n",
    "print(vid_arr.shape)\n",
    "vid_arr = torch.from_numpy(vid_arr).float()\n",
    "vid_arr = vid_arr.unsqueeze(0)\n",
    "# batch_size, timesteps, C, H, W = x.size()"
   ]
  },
  {
   "cell_type": "code",
   "execution_count": 9,
   "id": "7c0674a1",
   "metadata": {},
   "outputs": [
    {
     "name": "stdout",
     "output_type": "stream",
     "text": [
      "torch.Size([1, 30, 3, 256, 256])\n"
     ]
    }
   ],
   "source": [
    "print(vid_arr.size())"
   ]
  },
  {
   "cell_type": "code",
   "execution_count": 10,
   "id": "76b55340",
   "metadata": {},
   "outputs": [
    {
     "name": "stdout",
     "output_type": "stream",
     "text": [
      "torch.Size([30, 3, 256, 256])\n"
     ]
    },
    {
     "data": {
      "image/png": "[encoded data removed]",
      "text/plain": [
       "<Figure size 432x288 with 1 Axes>"
      ]
     },
     "metadata": {
      "needs_background": "light"
     },
     "output_type": "display_data"
    }
   ],
   "source": [
    "print(vid_arr[0].shape)\n",
    "img_np_arr = vid_arr[0][0][0].numpy()\n",
    "plt.imshow(img_np_arr)\n",
    "plt.show()"
   ]
  },
  {
   "cell_type": "markdown",
   "id": "b42e3645",
   "metadata": {},
   "source": [
    "# Load and test model"
   ]
  },
  {
   "cell_type": "code",
   "execution_count": 11,
   "id": "3bff3d9b",
   "metadata": {},
   "outputs": [],
   "source": [
    "module_path = os.path.abspath(os.path.join('../../'))\n",
    "if module_path not in sys.path:\n",
    "    sys.path.append(module_path)"
   ]
  },
  {
   "cell_type": "code",
   "execution_count": 12,
   "id": "73935aca",
   "metadata": {},
   "outputs": [
    {
     "data": {
      "text/plain": [
       "CNN_LSTM(\n",
       "  (encoder): CNN_Encoder(\n",
       "    (conv1): Conv2d(3, 64, kernel_size=(3, 3), stride=(2, 2))\n",
       "    (maxpool): MaxPool2d(kernel_size=3, stride=2, padding=0, dilation=1, ceil_mode=False)\n",
       "    (layers): Sequential(\n",
       "      (0): ConvBlock(\n",
       "        (conv1): Conv2d(64, 64, kernel_size=(3, 3), stride=(1, 1))\n",
       "        (conv2): Conv2d(64, 64, kernel_size=(3, 3), stride=(1, 1))\n",
       "        (batchnorm1): BatchNorm2d(64, eps=1e-05, momentum=0.01, affine=True, track_running_stats=True)\n",
       "        (batchnorm2): BatchNorm2d(64, eps=1e-05, momentum=0.01, affine=True, track_running_stats=True)\n",
       "        (a_fn): ReLU()\n",
       "        (pool): MaxPool2d(kernel_size=2, stride=2, padding=0, dilation=1, ceil_mode=False)\n",
       "      )\n",
       "      (1): ConvBlock(\n",
       "        (conv1): Conv2d(64, 128, kernel_size=(3, 3), stride=(1, 1))\n",
       "        (conv2): Conv2d(128, 128, kernel_size=(3, 3), stride=(1, 1))\n",
       "        (batchnorm1): BatchNorm2d(128, eps=1e-05, momentum=0.01, affine=True, track_running_stats=True)\n",
       "        (batchnorm2): BatchNorm2d(128, eps=1e-05, momentum=0.01, affine=True, track_running_stats=True)\n",
       "        (a_fn): ReLU()\n",
       "        (pool): MaxPool2d(kernel_size=2, stride=2, padding=0, dilation=1, ceil_mode=False)\n",
       "      )\n",
       "      (2): ConvBlock(\n",
       "        (conv1): Conv2d(128, 128, kernel_size=(3, 3), stride=(1, 1))\n",
       "        (conv2): Conv2d(128, 128, kernel_size=(3, 3), stride=(1, 1))\n",
       "        (batchnorm1): BatchNorm2d(128, eps=1e-05, momentum=0.01, affine=True, track_running_stats=True)\n",
       "        (batchnorm2): BatchNorm2d(128, eps=1e-05, momentum=0.01, affine=True, track_running_stats=True)\n",
       "        (a_fn): ReLU()\n",
       "      )\n",
       "      (3): ConvBlock(\n",
       "        (conv1): Conv2d(128, 256, kernel_size=(3, 3), stride=(1, 1))\n",
       "        (conv2): Conv2d(256, 256, kernel_size=(3, 3), stride=(1, 1))\n",
       "        (batchnorm1): BatchNorm2d(256, eps=1e-05, momentum=0.01, affine=True, track_running_stats=True)\n",
       "        (batchnorm2): BatchNorm2d(256, eps=1e-05, momentum=0.01, affine=True, track_running_stats=True)\n",
       "        (a_fn): ReLU()\n",
       "        (pool): MaxPool2d(kernel_size=2, stride=2, padding=0, dilation=1, ceil_mode=False)\n",
       "      )\n",
       "      (4): ConvBlock(\n",
       "        (conv1): Conv2d(256, 256, kernel_size=(3, 3), stride=(1, 1))\n",
       "        (conv2): Conv2d(256, 256, kernel_size=(3, 3), stride=(1, 1))\n",
       "        (batchnorm1): BatchNorm2d(256, eps=1e-05, momentum=0.01, affine=True, track_running_stats=True)\n",
       "        (batchnorm2): BatchNorm2d(256, eps=1e-05, momentum=0.01, affine=True, track_running_stats=True)\n",
       "        (a_fn): ReLU()\n",
       "      )\n",
       "    )\n",
       "    (conv2): ConvBlock(\n",
       "      (conv1): Conv2d(256, 512, kernel_size=(3, 3), stride=(1, 1))\n",
       "      (conv2): Conv2d(512, 512, kernel_size=(3, 3), stride=(1, 1))\n",
       "      (batchnorm1): BatchNorm2d(512, eps=1e-05, momentum=0.01, affine=True, track_running_stats=True)\n",
       "      (batchnorm2): BatchNorm2d(512, eps=1e-05, momentum=0.01, affine=True, track_running_stats=True)\n",
       "      (a_fn): ReLU()\n",
       "      (pool): AdaptiveAvgPool2d(output_size=1)\n",
       "    )\n",
       "    (fc): Linear(in_features=512, out_features=512, bias=True)\n",
       "  )\n",
       "  (decoder): LSTM_Decoder(\n",
       "    (lstm): LSTM(512, 512, batch_first=True, bidirectional=True)\n",
       "    (fc1): Linear(in_features=1024, out_features=10, bias=True)\n",
       "    (a_fn): ReLU()\n",
       "    (attention_layer): Linear(in_features=1024, out_features=1, bias=True)\n",
       "  )\n",
       "  (dropout): Dropout(p=0.8, inplace=False)\n",
       ")"
      ]
     },
     "execution_count": 12,
     "metadata": {},
     "output_type": "execute_result"
    }
   ],
   "source": [
    "from models import CNN_LSTM\n",
    "model = CNN_LSTM(10, \n",
    "                 latent_size=512, \n",
    "                 n_cnn_layers=6, \n",
    "                 n_rnn_layers=1, \n",
    "                 n_rnn_hidden_dim=512, \n",
    "                 cnn_bn=True, \n",
    "                 bidirectional=True, \n",
    "                 dropout_rate=0.8,\n",
    "                 device=\"cpu\",\n",
    "                 attention=True)\n",
    "checkpoint = torch.load(\"../../models/8-checkpoint.pt\", map_location=torch.device(\"cpu\"))\n",
    "model.load_state_dict(checkpoint['model_state_dict'])\n",
    "model.eval()"
   ]
  },
  {
   "cell_type": "code",
   "execution_count": 13,
   "id": "ffb93d67",
   "metadata": {},
   "outputs": [
    {
     "name": "stdout",
     "output_type": "stream",
     "text": [
      "4\n"
     ]
    }
   ],
   "source": [
    "output = model.forward(vid_arr)\n",
    "output = output.argmax(1)\n",
    "output = output.item()\n",
    "print(output)"
   ]
  },
  {
   "cell_type": "code",
   "execution_count": 28,
   "id": "f84413fa",
   "metadata": {},
   "outputs": [],
   "source": [
    "transforms_compose = transforms.Compose([transforms.Resize(256), \n",
    "                                     transforms.ToTensor(),\n",
    "                                     transforms.Normalize(mean=[0.5], std=[0.5])])\n",
    "test_dir = f'../../{data_dir}/test'\n",
    "def load_and_test_image(vid_name):\n",
    "    vid_color_path = f\"{test_dir}/{vid_name}_color.mp4\"\n",
    "    rgb_arr = extract_frames(vid_color_path, 30, transforms=transforms_compose)\n",
    "    vid_arr = np.array(rgb_arr)\n",
    "    vid_arr = vid_arr/255\n",
    "    vid_arr = torch.from_numpy(vid_arr).float()\n",
    "    vid_arr = vid_arr.unsqueeze(0)\n",
    "    predict_id = model.forward(vid_arr)\n",
    "    predict_id = predict_id.argmax(1).item()\n",
    "    real_id = test_label[f\"../../{test_dir}/{vid_name}\"]\n",
    "    return predict_id, class_id_to_label[predict_id], real_id, class_id_to_label[real_id]\n",
    "    \n"
   ]
  },
  {
   "cell_type": "code",
   "execution_count": 31,
   "id": "d2764cf5",
   "metadata": {},
   "outputs": [
    {
     "name": "stdout",
     "output_type": "stream",
     "text": [
      "0\n",
      "2\n",
      "8\n",
      "4\n",
      "7\n",
      "8\n",
      "0\n",
      "6\n",
      "9\n",
      "9\n",
      "7\n",
      "1\n",
      "8\n",
      "2\n",
      "1\n",
      "3\n",
      "6\n",
      "0\n",
      "5\n",
      "4\n",
      "6\n",
      "3\n",
      "5\n",
      "1\n",
      "3\n",
      "4\n",
      "2\n",
      "7\n",
      "9\n",
      "5\n",
      "5\n",
      "3\n",
      "4\n",
      "3\n",
      "9\n",
      "1\n",
      "3\n",
      "6\n",
      "8\n",
      "6\n",
      "4\n",
      "0\n",
      "9\n",
      "9\n",
      "7\n",
      "0\n",
      "4\n",
      "8\n",
      "0\n",
      "5\n",
      "1\n",
      "5\n",
      "2\n",
      "8\n",
      "2\n",
      "7\n",
      "1\n",
      "7\n",
      "2\n",
      "6\n",
      "4\n",
      "8\n",
      "2\n",
      "5\n",
      "1\n",
      "3\n",
      "7\n",
      "5\n",
      "0\n",
      "2\n",
      "0\n",
      "0\n",
      "1\n",
      "4\n",
      "9\n",
      "7\n",
      "8\n",
      "7\n",
      "1\n",
      "9\n",
      "5\n",
      "9\n",
      "2\n",
      "3\n",
      "4\n",
      "8\n",
      "3\n",
      "5\n",
      "3\n",
      "4\n",
      "8\n",
      "7\n",
      "0\n",
      "1\n",
      "7\n",
      "3\n",
      "0\n",
      "6\n",
      "1\n",
      "8\n",
      "2\n",
      "5\n",
      "2\n",
      "6\n",
      "9\n",
      "4\n",
      "9\n",
      "5\n",
      "3\n",
      "6\n",
      "8\n",
      "4\n",
      "2\n",
      "2\n",
      "3\n",
      "0\n",
      "1\n",
      "6\n",
      "9\n",
      "2\n",
      "6\n",
      "8\n",
      "7\n",
      "5\n",
      "3\n",
      "0\n",
      "7\n",
      "8\n",
      "9\n",
      "4\n",
      "7\n",
      "0\n",
      "5\n",
      "4\n",
      "1\n",
      "2\n",
      "7\n",
      "9\n",
      "7\n",
      "2\n",
      "9\n",
      "8\n",
      "5\n",
      "4\n",
      "1\n",
      "8\n",
      "1\n",
      "0\n",
      "7\n",
      "5\n",
      "9\n",
      "8\n",
      "6\n",
      "0\n",
      "2\n",
      "3\n",
      "0\n",
      "5\n",
      "1\n",
      "3\n",
      "4\n",
      "6\n",
      "6\n",
      "3\n"
     ]
    }
   ],
   "source": [
    "df = pd.read_csv(\"../../data/test.csv\", names=[\"video_name\", \"class_id\"])\n",
    "predict_ids = []\n",
    "predict_labels = []\n",
    "real_ids = []\n",
    "real_labels = []\n",
    "for index, row in df.iterrows():\n",
    "    predict_id, predict_label, real_id, real_label = load_and_test_image(row['video_name'])\n",
    "    predict_ids.append(predict_id)\n",
    "    predict_labels.append(predict_label)\n",
    "    real_ids.append(real_id)\n",
    "    real_labels.append(real_label)\n",
    "\n",
    "df['predict_id'] = predict_ids\n",
    "df['predict_label'] = predict_labels\n",
    "df['real_id'] = real_ids\n",
    "df['real_label'] = real_labels\n",
    "    \n",
    "    # df[\"prediction\"] = df.apply(lambda row : copy_data(source_dir, row['video_name'], save_dir), axis = 1)\n",
    "# df[['prediction', 'label']] = df.apply(lambda row : load_and_test_image(row['video_name']), axis = 1)"
   ]
  },
  {
   "cell_type": "code",
   "execution_count": 32,
   "id": "2d41296d",
   "metadata": {},
   "outputs": [
    {
     "data": {
      "text/html": [
       "<div>\n",
       "<style scoped>\n",
       "    .dataframe tbody tr th:only-of-type {\n",
       "        vertical-align: middle;\n",
       "    }\n",
       "\n",
       "    .dataframe tbody tr th {\n",
       "        vertical-align: top;\n",
       "    }\n",
       "\n",
       "    .dataframe thead th {\n",
       "        text-align: right;\n",
       "    }\n",
       "</style>\n",
       "<table border=\"1\" class=\"dataframe\">\n",
       "  <thead>\n",
       "    <tr style=\"text-align: right;\">\n",
       "      <th></th>\n",
       "      <th>video_name</th>\n",
       "      <th>class_id</th>\n",
       "      <th>predict_id</th>\n",
       "      <th>predict_label</th>\n",
       "      <th>real_id</th>\n",
       "      <th>real_label</th>\n",
       "    </tr>\n",
       "  </thead>\n",
       "  <tbody>\n",
       "    <tr>\n",
       "      <th>0</th>\n",
       "      <td>signer34_sample4</td>\n",
       "      <td>0</td>\n",
       "      <td>0</td>\n",
       "      <td>champion</td>\n",
       "      <td>0</td>\n",
       "      <td>champion</td>\n",
       "    </tr>\n",
       "    <tr>\n",
       "      <th>1</th>\n",
       "      <td>signer34_sample43</td>\n",
       "      <td>2</td>\n",
       "      <td>2</td>\n",
       "      <td>wrong</td>\n",
       "      <td>2</td>\n",
       "      <td>wrong</td>\n",
       "    </tr>\n",
       "    <tr>\n",
       "      <th>2</th>\n",
       "      <td>signer34_sample130</td>\n",
       "      <td>8</td>\n",
       "      <td>0</td>\n",
       "      <td>champion</td>\n",
       "      <td>8</td>\n",
       "      <td>inform</td>\n",
       "    </tr>\n",
       "    <tr>\n",
       "      <th>3</th>\n",
       "      <td>signer34_sample145</td>\n",
       "      <td>4</td>\n",
       "      <td>4</td>\n",
       "      <td>married</td>\n",
       "      <td>4</td>\n",
       "      <td>married</td>\n",
       "    </tr>\n",
       "    <tr>\n",
       "      <th>4</th>\n",
       "      <td>signer34_sample170</td>\n",
       "      <td>7</td>\n",
       "      <td>3</td>\n",
       "      <td>bad</td>\n",
       "      <td>7</td>\n",
       "      <td>child</td>\n",
       "    </tr>\n",
       "    <tr>\n",
       "      <th>...</th>\n",
       "      <td>...</td>\n",
       "      <td>...</td>\n",
       "      <td>...</td>\n",
       "      <td>...</td>\n",
       "      <td>...</td>\n",
       "      <td>...</td>\n",
       "    </tr>\n",
       "    <tr>\n",
       "      <th>159</th>\n",
       "      <td>signer30_sample575</td>\n",
       "      <td>3</td>\n",
       "      <td>6</td>\n",
       "      <td>congratulations</td>\n",
       "      <td>3</td>\n",
       "      <td>bad</td>\n",
       "    </tr>\n",
       "    <tr>\n",
       "      <th>160</th>\n",
       "      <td>signer30_sample576</td>\n",
       "      <td>4</td>\n",
       "      <td>5</td>\n",
       "      <td>potato</td>\n",
       "      <td>4</td>\n",
       "      <td>married</td>\n",
       "    </tr>\n",
       "    <tr>\n",
       "      <th>161</th>\n",
       "      <td>signer30_sample588</td>\n",
       "      <td>6</td>\n",
       "      <td>5</td>\n",
       "      <td>potato</td>\n",
       "      <td>6</td>\n",
       "      <td>congratulations</td>\n",
       "    </tr>\n",
       "    <tr>\n",
       "      <th>162</th>\n",
       "      <td>signer30_sample617</td>\n",
       "      <td>6</td>\n",
       "      <td>5</td>\n",
       "      <td>potato</td>\n",
       "      <td>6</td>\n",
       "      <td>congratulations</td>\n",
       "    </tr>\n",
       "    <tr>\n",
       "      <th>163</th>\n",
       "      <td>signer30_sample623</td>\n",
       "      <td>3</td>\n",
       "      <td>6</td>\n",
       "      <td>congratulations</td>\n",
       "      <td>3</td>\n",
       "      <td>bad</td>\n",
       "    </tr>\n",
       "  </tbody>\n",
       "</table>\n",
       "<p>164 rows × 6 columns</p>\n",
       "</div>"
      ],
      "text/plain": [
       "             video_name  class_id  predict_id    predict_label  real_id  \\\n",
       "0      signer34_sample4         0           0         champion        0   \n",
       "1     signer34_sample43         2           2            wrong        2   \n",
       "2    signer34_sample130         8           0         champion        8   \n",
       "3    signer34_sample145         4           4          married        4   \n",
       "4    signer34_sample170         7           3              bad        7   \n",
       "..                  ...       ...         ...              ...      ...   \n",
       "159  signer30_sample575         3           6  congratulations        3   \n",
       "160  signer30_sample576         4           5           potato        4   \n",
       "161  signer30_sample588         6           5           potato        6   \n",
       "162  signer30_sample617         6           5           potato        6   \n",
       "163  signer30_sample623         3           6  congratulations        3   \n",
       "\n",
       "          real_label  \n",
       "0           champion  \n",
       "1              wrong  \n",
       "2             inform  \n",
       "3            married  \n",
       "4              child  \n",
       "..               ...  \n",
       "159              bad  \n",
       "160          married  \n",
       "161  congratulations  \n",
       "162  congratulations  \n",
       "163              bad  \n",
       "\n",
       "[164 rows x 6 columns]"
      ]
     },
     "execution_count": 32,
     "metadata": {},
     "output_type": "execute_result"
    }
   ],
   "source": [
    "df"
   ]
  },
  {
   "cell_type": "code",
   "execution_count": 33,
   "id": "f26249e0",
   "metadata": {},
   "outputs": [
    {
     "name": "stdout",
     "output_type": "stream",
     "text": [
      "0\n"
     ]
    }
   ],
   "source": [
    "real_label = test_label[f\"../../{test_dir}/{vid_name}\"]\n",
    "print(real_label)\n",
    "# output = F.one_hot(output, num_classes=labels.shape[1])"
   ]
  },
  {
   "cell_type": "code",
   "execution_count": 34,
   "id": "1da65696",
   "metadata": {},
   "outputs": [
    {
     "name": "stdout",
     "output_type": "stream",
     "text": [
      "Output label: married\n",
      "Real label: champion\n"
     ]
    }
   ],
   "source": [
    "output_label = class_id_to_label[output]\n",
    "real_label = class_id_to_label[real_label]\n",
    "print(f\"Output label: {output_label}\")\n",
    "print(f\"Real label: {real_label}\")"
   ]
  }
 ],
 "metadata": {
  "kernelspec": {
   "display_name": "Python 3",
   "language": "python",
   "name": "python3"
  },
  "language_info": {
   "codemirror_mode": {
    "name": "ipython",
    "version": 3
   },
   "file_extension": ".py",
   "mimetype": "text/x-python",
   "name": "python",
   "nbconvert_exporter": "python",
   "pygments_lexer": "ipython3",
   "version": "3.8.8"
  }
 },
 "nbformat": 4,
 "nbformat_minor": 5
}
