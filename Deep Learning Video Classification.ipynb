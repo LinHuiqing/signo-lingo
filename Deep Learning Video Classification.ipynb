{
 "cells": [
  {
   "cell_type": "markdown",
   "metadata": {},
   "source": [
    "# Load Data"
   ]
  },
  {
   "cell_type": "code",
   "execution_count": 1,
   "metadata": {},
   "outputs": [],
   "source": [
    "# Matplotlib\n",
    "import matplotlib.pyplot as plt\n",
    "# Numpy\n",
    "import numpy as np\n",
    "# Pillow\n",
    "from PIL import Image\n",
    "# Torch\n",
    "import torch\n",
    "from torch.utils.data import Dataset, DataLoader\n",
    "import torch.nn as nn\n",
    "import torch.optim as optim\n",
    "import torch.nn.functional as F\n",
    "import torch.optim.lr_scheduler as lr_scheduler\n",
    "from torchvision import transforms\n",
    "# from torchsummary import summary\n",
    "# Misc\n",
    "import time\n",
    "from datetime import datetime\n",
    "# preprocessing \n",
    "import av\n",
    "import pandas as pd\n",
    "import os\n",
    "import cv2\n",
    "import matplotlib.pyplot as plt"
   ]
  },
  {
   "cell_type": "code",
   "execution_count": 16,
   "metadata": {},
   "outputs": [],
   "source": [
    "data_dir = \"dataset\"\n",
    "train_dir = f'{data_dir}/train'\n",
    "val_dir = f'{data_dir}/val'\n",
    "test_dir = f'{data_dir}/test'"
   ]
  },
  {
   "cell_type": "code",
   "execution_count": 17,
   "metadata": {},
   "outputs": [],
   "source": [
    "# All training dataset paths\n",
    "\n",
    "train_path = [os.path.join(train_dir, f) for f in os.listdir(train_dir)]\n",
    "val_path = [os.path.join(val_dir, f) for f in os.listdir(val_dir)]\n",
    "test_path = [os.path.join(test_dir, f) for f in os.listdir(test_dir)]"
   ]
  },
  {
   "cell_type": "code",
   "execution_count": 18,
   "metadata": {},
   "outputs": [],
   "source": [
    "# All labels\n",
    "\n",
    "train_label_df = pd.read_csv(f'{data_dir}/train_labels.csv', header=None)\n",
    "test_label_df = pd.read_csv(f'{data_dir}/test_ground_truth.csv', header=None)\n",
    "val_label_df = pd.read_csv(f'{data_dir}/val_ground_truth.csv', header=None)\n",
    "\n",
    "# convert all into hashmap - key = u_vid_name , value = label\n",
    "\n",
    "train_label = {f\"{train_dir}/{k[0]}\": k[1] for k in train_label_df.values.tolist()}\n",
    "test_label = {f\"{test_dir}/{k[0]}\": k[1] for k in test_label_df.values.tolist()}\n",
    "val_label = {f\"{val_dir}/{k[0]}\": k[1] for k in val_label_df.values.tolist()}"
   ]
  },
  {
   "cell_type": "code",
   "execution_count": 19,
   "metadata": {},
   "outputs": [
    {
     "name": "stdout",
     "output_type": "stream",
     "text": [
      "total unique label: 226\n"
     ]
    }
   ],
   "source": [
    "# Total label + turkish to english translation\n",
    "\n",
    "total_label = pd.read_csv(f'{data_dir}/SignList_ClassId_TR_EN.csv')\n",
    "u_len_label = len(total_label['ClassId'].unique())\n",
    "print(\"total unique label:\", u_len_label)\n"
   ]
  },
  {
   "cell_type": "markdown",
   "metadata": {},
   "source": [
    "# Preprocessing"
   ]
  },
  {
   "cell_type": "code",
   "execution_count": 20,
   "metadata": {},
   "outputs": [],
   "source": [
    "# mask rbg image\n",
    "def masking(rbg_vid, depth_vid):\n",
    "    \"\"\"\n",
    "    input\n",
    "        - path for rbg\n",
    "        - path for depth\n",
    "    output\n",
    "        - array of numpy arrays\n",
    "    \"\"\"\n",
    "    rbg_arr = []\n",
    "    container_rbg = av.open(rbg_vid)\n",
    "\n",
    "    for packet in container_rbg.demux():\n",
    "        for frame in packet.decode():\n",
    "            rbg_arr.append(np.array(frame.to_image()))\n",
    "\n",
    "    depth_arr = []\n",
    "    container_depth = av.open(depth_vid)\n",
    "\n",
    "    for packet in container_depth.demux():\n",
    "        for frame in packet.decode():\n",
    "            depth_arr.append(np.array(frame.to_image()))\n",
    "\n",
    "    # display - correct color orientation\n",
    "    overlay_arr = []\n",
    "    for i in range(len(rbg_arr)):\n",
    "        c = cv2.cvtColor(rbg_arr[i], cv2.COLOR_BGR2RGB)\n",
    "\n",
    "        gray = cv2.cvtColor(depth_arr[i], cv2.COLOR_BGR2GRAY)\n",
    "        overlay = cv2.bitwise_and(c,c, mask= gray)\n",
    "        overlay_arr.append(overlay)\n",
    "        \n",
    "    return np.array(overlay_arr)"
   ]
  },
  {
   "cell_type": "markdown",
   "metadata": {},
   "source": [
    "# Custom Dataset"
   ]
  },
  {
   "cell_type": "code",
   "execution_count": 21,
   "metadata": {},
   "outputs": [],
   "source": [
    "class Turkish_Dataset(Dataset):\n",
    "    def __init__(self, paths, labels):\n",
    "        self.paths = paths\n",
    "        self.labels = labels\n",
    "        self._get_unique()\n",
    "        \n",
    "    def _get_unique(self):\n",
    "        u_vid_depth = {}\n",
    "        u_vid_color = {}\n",
    "        u_vid = set()\n",
    "        for path in self.paths:\n",
    "            vid = path.split(\"\\\\\")[-1].split(\".\")[0] # train\\\\signer0_sample1_color.mp4 or train\\\\signer0_sample1_depth.mp4\n",
    "            vid_split = vid.split(\"_\")\n",
    "            vid_type = vid_split[-1] # color or depth\n",
    "            vid_name = \"_\".join(vid_split[:-1]) # signer0_sample1_color\n",
    "            if vid_type == \"color\":\n",
    "                u_vid_color[vid_name] = path\n",
    "            elif vid_type == \"depth\":\n",
    "                u_vid_depth[vid_name] = path\n",
    "            else:\n",
    "                raise ValueError('Detected vid type as neither color nor depth. type is', vid_type)\n",
    "            u_vid.add(vid_name)\n",
    "        self.u_vid_depth = u_vid_depth\n",
    "        self.u_vid_color = u_vid_color\n",
    "        self.u_vid = list(u_vid)\n",
    "    \n",
    "    def __getitem__(self, index):\n",
    "        vid_name = self.u_vid[index]\n",
    "        vid_label = self.labels[vid_name]\n",
    "        \n",
    "        vid_color = self.u_vid_color[vid_name]\n",
    "        vid_depth = self.u_vid_depth[vid_name]\n",
    "        \n",
    "        # preprocessing\n",
    "        vid_arr = masking(vid_color, vid_depth)\n",
    "        \n",
    "        # create one-hot-encoding for label\n",
    "        label = np.zeros(u_len_label)\n",
    "        label[vid_label] = 1\n",
    "        \n",
    "        # convert arr to tensors\n",
    "        vid_arr = torch.from_numpy(vid_arr).float()\n",
    "        label = torch.from_numpy(label).float()\n",
    "        \n",
    "        # return masked video array and label\n",
    "        return vid_arr, label\n",
    "                \n",
    "    \n",
    "    def __len__(self):\n",
    "        return len(self.u_vid)"
   ]
  },
  {
   "cell_type": "code",
   "execution_count": 22,
   "metadata": {
    "scrolled": true
   },
   "outputs": [
    {
     "name": "stdout",
     "output_type": "stream",
     "text": [
      "shape of first array torch.Size([59, 512, 512, 3])\n"
     ]
    },
    {
     "name": "stderr",
     "output_type": "stream",
     "text": [
      "Clipping input data to the valid range for imshow with RGB data ([0..1] for floats or [0..255] for integers).\n"
     ]
    },
    {
     "data": {
      "image/png": "[encoded data removed]",
      "text/plain": "<Figure size 432x288 with 1 Axes>"
     },
     "metadata": {
      "needs_background": "light"
     },
     "output_type": "display_data"
    }
   ],
   "source": [
    "# Create train dataset\n",
    "\n",
    "ld_train = Turkish_Dataset(train_path, train_label)\n",
    "print(\"shape of first array\", ld_train[0][0].shape)\n",
    "\n",
    "# show image but clip rbg values\n",
    "plt.imshow(ld_train[0][0][0])\n",
    "plt.show()"
   ]
  },
  {
   "cell_type": "code",
   "execution_count": 23,
   "metadata": {},
   "outputs": [
    {
     "name": "stdout",
     "output_type": "stream",
     "text": [
      "shape of first array torch.Size([59, 512, 512, 3])\n"
     ]
    },
    {
     "name": "stderr",
     "output_type": "stream",
     "text": [
      "Clipping input data to the valid range for imshow with RGB data ([0..1] for floats or [0..255] for integers).\n"
     ]
    },
    {
     "data": {
      "image/png": "[encoded data removed]",
      "text/plain": "<Figure size 432x288 with 1 Axes>"
     },
     "metadata": {
      "needs_background": "light"
     },
     "output_type": "display_data"
    }
   ],
   "source": [
    "# Create test dataset\n",
    "\n",
    "ld_test = Turkish_Dataset(test_path, test_label)\n",
    "print(\"shape of first array\", ld_test[0][0].shape)\n",
    "\n",
    "# show image but clip rbg values\n",
    "plt.imshow(ld_test[0][0][0])\n",
    "plt.show()"
   ]
  },
  {
   "cell_type": "code",
   "execution_count": 24,
   "metadata": {},
   "outputs": [
    {
     "name": "stdout",
     "output_type": "stream",
     "text": [
      "shape of first array torch.Size([57, 512, 512, 3])\n"
     ]
    },
    {
     "name": "stderr",
     "output_type": "stream",
     "text": [
      "Clipping input data to the valid range for imshow with RGB data ([0..1] for floats or [0..255] for integers).\n"
     ]
    },
    {
     "data": {
      "image/png": "[encoded data removed]",
      "text/plain": "<Figure size 432x288 with 1 Axes>"
     },
     "metadata": {
      "needs_background": "light"
     },
     "output_type": "display_data"
    }
   ],
   "source": [
    "# Create val dataset\n",
    "\n",
    "ld_val = Turkish_Dataset(val_path, val_label)\n",
    "print(\"shape of first array\", ld_val[0][0].shape)\n",
    "\n",
    "# show image but clip rbg values\n",
    "plt.imshow(ld_val[0][0][0])\n",
    "plt.show()"
   ]
  },
  {
   "cell_type": "markdown",
   "metadata": {},
   "source": [
    "# Custom Dataloader"
   ]
  },
  {
   "cell_type": "code",
   "execution_count": 34,
   "metadata": {},
   "outputs": [],
   "source": [
    "bs_train = 1\n",
    "bs_test = 1\n",
    "bs_val = 1\n",
    "train_loader = DataLoader(ld_train, batch_size = bs_train, shuffle = True)\n",
    "test_loader = DataLoader(ld_test, batch_size = bs_test, shuffle = True)\n",
    "val_loader = DataLoader(ld_val, batch_size = bs_val, shuffle = True)"
   ]
  },
  {
   "cell_type": "code",
   "execution_count": 35,
   "metadata": {},
   "outputs": [
    {
     "name": "stdout",
     "output_type": "stream",
     "text": [
      "0\n",
      "torch.Size([1, 67, 512, 512, 3])\n",
      "torch.Size([1, 226])\n",
      "1\n",
      "torch.Size([1, 64, 512, 512, 3])\n",
      "torch.Size([1, 226])\n",
      "2\n",
      "torch.Size([1, 67, 512, 512, 3])\n",
      "torch.Size([1, 226])\n",
      "3\n",
      "torch.Size([1, 50, 512, 512, 3])\n",
      "torch.Size([1, 226])\n",
      "4\n",
      "torch.Size([1, 54, 512, 512, 3])\n",
      "torch.Size([1, 226])\n",
      "5\n",
      "torch.Size([1, 63, 512, 512, 3])\n",
      "torch.Size([1, 226])\n",
      "6\n",
      "torch.Size([1, 61, 512, 512, 3])\n",
      "torch.Size([1, 226])\n"
     ]
    }
   ],
   "source": [
    "for batch_idx, (images_data, target_labels) in enumerate(train_loader):\n",
    "    print(batch_idx)\n",
    "    print(images_data.shape)\n",
    "    print(target_labels.shape)\n",
    "    if batch_idx >5:\n",
    "        break"
   ]
  },
  {
   "cell_type": "markdown",
   "metadata": {},
   "source": [
    "# Architecture"
   ]
  },
  {
   "cell_type": "code",
   "execution_count": 36,
   "metadata": {},
   "outputs": [],
   "source": [
    "from models import CNN_RNN"
   ]
  },
  {
   "cell_type": "code",
   "execution_count": null,
   "metadata": {},
   "outputs": [],
   "source": [
    "model = CNN_RNN()"
   ]
  },
  {
   "cell_type": "markdown",
   "metadata": {},
   "source": [
    "# Training"
   ]
  },
  {
   "cell_type": "code",
   "execution_count": null,
   "metadata": {},
   "outputs": [],
   "source": []
  },
  {
   "cell_type": "markdown",
   "metadata": {},
   "source": [
    "# Graph"
   ]
  },
  {
   "cell_type": "code",
   "execution_count": null,
   "metadata": {},
   "outputs": [],
   "source": []
  }
 ],
 "metadata": {
  "kernelspec": {
   "display_name": "Python 3.9.4 64-bit ('dl-big-proj': conda)",
   "name": "python394jvsc74a57bd0c59ee75707a964a61405bccdeb1a46befea7dc047b520cc718fb5a48f1771fff"
  },
  "language_info": {
   "codemirror_mode": {
    "name": "ipython",
    "version": 3
   },
   "file_extension": ".py",
   "mimetype": "text/x-python",
   "name": "python",
   "nbconvert_exporter": "python",
   "pygments_lexer": "ipython3",
   "version": "3.9.4"
  }
 },
 "nbformat": 4,
 "nbformat_minor": 4
}