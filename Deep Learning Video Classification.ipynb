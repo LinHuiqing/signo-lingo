{
 "cells": [
  {
   "cell_type": "markdown",
   "metadata": {},
   "source": [
    "# Load Data"
   ]
  },
  {
   "cell_type": "code",
   "execution_count": 1,
   "metadata": {},
   "outputs": [],
   "source": [
    "# Matplotlib\n",
    "import matplotlib.pyplot as plt\n",
    "# Numpy\n",
    "import numpy as np\n",
    "# Pillow\n",
    "from PIL import Image\n",
    "# Torch\n",
    "import torch\n",
    "from torch.utils.data import Dataset, DataLoader\n",
    "import torch.nn as nn\n",
    "import torch.optim as optim\n",
    "import torch.nn.functional as F\n",
    "import torch.optim.lr_scheduler as lr_scheduler\n",
    "from torchvision import transforms\n",
    "\n",
    "# Misc\n",
    "import time\n",
    "from datetime import datetime\n",
    "\n",
    "# preprocessing \n",
    "import av\n",
    "import pandas as pd\n",
    "import os\n",
    "import cv2\n",
    "import matplotlib.pyplot as plt\n",
    "\n",
    "from model_fns import train\n",
    "from models import CNN_LSTM, ResNet_LSTM, VGG_LSTM, CRNN, CNN_GRU\n",
    "\n",
    "# view model info\n",
    "\n",
    "# UNCOMMENT FOR PIP VERSION\n",
    "from torchinfo import summary\n",
    "\n",
    "# # UNCOMMENT FOR CONDA VERSION\n",
    "# from pytorch_model_summary import summary"
   ]
  },
  {
   "cell_type": "code",
   "execution_count": 2,
   "metadata": {},
   "outputs": [
    {
     "name": "stderr",
     "output_type": "stream",
     "text": [
      "Logging to file...\n"
     ]
    }
   ],
   "source": [
    "import logging\n",
    "from torch.utils.tensorboard import SummaryWriter\n",
    "log_path = \"log/cnnlstm_{:%Y-%m-%d_%H-%M-%S}.log\".format(datetime.now())\n",
    "sum_path = \"runs/cnnlstm_{:%Y-%m-%d_%H-%M-%S}\".format(datetime.now())\n",
    "\n",
    "# Log to file & tensorboard writer\n",
    "logging.basicConfig(level=logging.INFO, format='%(message)s', handlers=[logging.FileHandler(log_path), logging.StreamHandler()])\n",
    "logger = logging.getLogger('signo-lingo')\n",
    "logger.info('Logging to file...')\n",
    "writer = SummaryWriter(sum_path)"
   ]
  },
  {
   "cell_type": "code",
   "execution_count": 3,
   "metadata": {},
   "outputs": [
    {
     "name": "stdout",
     "output_type": "stream",
     "text": [
      "cuda\n"
     ]
    }
   ],
   "source": [
    "device = torch.device('cuda' if torch.cuda.is_available() else 'cpu')\n",
    "print(device)"
   ]
  },
  {
   "cell_type": "code",
   "execution_count": 4,
   "metadata": {},
   "outputs": [],
   "source": [
    "data_dir = \"../scratch/AUTSL_dataset\"\n",
    "train_dir = f'{data_dir}/train'\n",
    "val_dir = f'{data_dir}/val'\n",
    "test_dir = f'{data_dir}/test'"
   ]
  },
  {
   "cell_type": "code",
   "execution_count": 5,
   "metadata": {},
   "outputs": [],
   "source": [
    "# All labels\n",
    "filtered_data = \"data\"\n",
    "train_label_df = pd.read_csv(f'{filtered_data}/train.csv', header=None)\n",
    "test_label_df = pd.read_csv(f'{filtered_data}/test.csv', header=None)\n",
    "val_label_df = pd.read_csv(f'{filtered_data}/val.csv', header=None)"
   ]
  },
  {
   "cell_type": "code",
   "execution_count": 6,
   "metadata": {},
   "outputs": [
    {
     "name": "stdout",
     "output_type": "stream",
     "text": [
      "total unique label: 10\n"
     ]
    }
   ],
   "source": [
    "# Total label + turkish to english translation\n",
    "\n",
    "total_label = pd.read_csv(f'{filtered_data}/filtered_ClassId.csv')\n",
    "n_classes = len(total_label['ClassId'].unique())\n",
    "print(\"total unique label:\", n_classes)\n"
   ]
  },
  {
   "cell_type": "markdown",
   "metadata": {},
   "source": [
    "# Preprocessing"
   ]
  },
  {
   "cell_type": "code",
   "execution_count": 7,
   "metadata": {},
   "outputs": [],
   "source": [
    "def extract_frames(vid_path, transforms=None, frames_cap=None): \n",
    "    \"\"\"Extract and transform video frames\n",
    "\n",
    "    Parameters:\n",
    "    vid_path (str): path to video file\n",
    "    frames_cap (int): number of frames to extract, evenly spaced\n",
    "    transforms (torchvision.transforms, optional): transformations to apply to frame\n",
    "\n",
    "    Returns:\n",
    "    list of numpy.array: vid_arr\n",
    "\n",
    "    \"\"\"\n",
    "    vid_arr = []\n",
    "    with av.open(vid_path) as container:\n",
    "        stream = container.streams.video[0]\n",
    "        n_frames = stream.frames\n",
    "        if frames_cap:\n",
    "            remainder = n_frames % frames_cap\n",
    "            interval = n_frames // frames_cap\n",
    "            take_frame_idx = 0\n",
    "            if interval < 1:\n",
    "                raise ValueError(f\"video with path '{vid_path}' is too short, please make sure that video has >={frames_cap} frames\")\n",
    "        for frame_no, frame in enumerate(container.decode(stream)):\n",
    "            if frames_cap and frame_no != take_frame_idx:\n",
    "                continue\n",
    "#             if frame_no == take_frame_idx:\n",
    "            img = frame.to_image()\n",
    "            if transforms:\n",
    "                img = transforms(img)\n",
    "            vid_arr.append(np.array(img))\n",
    "            if frames_cap:\n",
    "                if remainder > 0:\n",
    "                    take_frame_idx += 1\n",
    "                    remainder -= 1\n",
    "                take_frame_idx += interval\n",
    "    return vid_arr"
   ]
  },
  {
   "cell_type": "code",
   "execution_count": 8,
   "metadata": {},
   "outputs": [],
   "source": [
    "# mask rbg image\n",
    "def masking(rbg_arr, depth_arr):\n",
    "    \"\"\"\n",
    "    input\n",
    "        - path for rbg\n",
    "        - path for depth\n",
    "    output\n",
    "        - array of numpy arrays\n",
    "    \"\"\"\n",
    "\n",
    "    # display - correct color orientation\n",
    "    overlay_arr = []\n",
    "    for i in range(len(rbg_arr)):\n",
    "        # c = cv2.cvtColor(rbg_arr[i], cv2.COLOR_BGR2RGB)\n",
    "        c = cv2.cvtColor(rbg_arr[i], cv2.COLOR_BGR2GRAY)\n",
    "\n",
    "        gray = cv2.cvtColor(depth_arr[i], cv2.COLOR_BGR2GRAY)\n",
    "        overlay = cv2.bitwise_and(c,c, mask= gray)\n",
    "        overlay_arr.append(overlay)\n",
    "    \n",
    "    overlay_np_arr = np.array(overlay_arr)\n",
    "    # print(overlay_np_arr.shape)\n",
    "    overlay_np_arr = np.moveaxis(overlay_np_arr, -1, 1)\n",
    "    # print(overlay_np_arr.shape)\n",
    "    return overlay_np_arr"
   ]
  },
  {
   "cell_type": "markdown",
   "metadata": {},
   "source": [
    "# Custom Dataset"
   ]
  },
  {
   "cell_type": "code",
   "execution_count": 9,
   "metadata": {},
   "outputs": [],
   "source": [
    "class Turkish_Dataset(Dataset):\n",
    "    def __init__(self, df, data_dir, n_classes, file_ext=\".mp4\", transforms=None, frames_cap=None):\n",
    "        self.df = df\n",
    "        self.frames_cap = frames_cap\n",
    "        self.transforms = transforms\n",
    "        self.file_ext = file_ext\n",
    "        self.data_dir = data_dir\n",
    "        self.n_classes = n_classes\n",
    "    \n",
    "    def __getitem__(self, index):\n",
    "\n",
    "        vid_name = self.df.iloc[index, 0]\n",
    "        vid_label = self.df.iloc[index, 1]\n",
    "        \n",
    "        vid_color = f\"{self.data_dir}/{vid_name}_color{self.file_ext}\"\n",
    "        # vid_depth = f\"{self.data_dir}/{vid_name}_depth{self.file_ext}\"\n",
    "\n",
    "        # get videos\n",
    "        rgb_arr = extract_frames(vid_color, transforms=self.transforms, frames_cap=self.frames_cap) # self.frames_cap, \n",
    "        # depth_arr = extract_frames(vid_depth, self.frames_cap, transforms=self.transforms)\n",
    "\n",
    "        vid_arr = np.array(rgb_arr)\n",
    "\n",
    "        # vid_arr = np.stack((rgb_arr, depth_arr))\n",
    "#         vid_arr = np.moveaxis(vid_arr, -1, 1)\n",
    "        vid_arr = vid_arr / 255\n",
    "        \n",
    "        # preprocessing\n",
    "        # vid_arr = masking(rgb_arr, depth_arr)\n",
    "        # print(vid_arr.shape)\n",
    "        \n",
    "        # create one-hot-encoding for label\n",
    "        label = np.zeros(self.n_classes)\n",
    "        label[vid_label] = 1\n",
    "        \n",
    "        # convert arr to tensors\n",
    "        vid_arr = torch.from_numpy(vid_arr).float()\n",
    "        label = torch.from_numpy(label).long().argmax()\n",
    "        \n",
    "        # return masked video array and label\n",
    "        return vid_arr, label\n",
    "    \n",
    "    def __len__(self):\n",
    "        return len(self.df)\n",
    "#         return 10"
   ]
  },
  {
   "cell_type": "code",
   "execution_count": 10,
   "metadata": {},
   "outputs": [],
   "source": [
    "n_frames = 30\n",
    "transforms_compose = transforms.Compose([transforms.Resize(256), \n",
    "                                         transforms.ToTensor(),\n",
    "                                         transforms.Normalize(mean=[0.5], std=[0.5])])\n",
    "                                         #transforms.CenterCrop(200)])#, transforms.Grayscale()])"
   ]
  },
  {
   "cell_type": "code",
   "execution_count": 11,
   "metadata": {
    "scrolled": true
   },
   "outputs": [
    {
     "name": "stdout",
     "output_type": "stream",
     "text": [
      "shape of first array torch.Size([30, 3, 256, 256])\n"
     ]
    },
    {
     "data": {
      "image/png": "[encoded data removed]",
      "text/plain": [
       "<Figure size 432x288 with 1 Axes>"
      ]
     },
     "metadata": {
      "needs_background": "light"
     },
     "output_type": "display_data"
    }
   ],
   "source": [
    "# Create train dataset\n",
    "\n",
    "ld_train = Turkish_Dataset(train_label_df, train_dir, n_classes, transforms=transforms_compose, frames_cap=n_frames)\n",
    "print(\"shape of first array\", ld_train[0][0].shape)\n",
    "\n",
    "# show image but clip rbg values\n",
    "img_np_arr = ld_train[0][0][0].numpy()\n",
    "img_np_arr -= img_np_arr.min() \n",
    "img_np_arr /= img_np_arr.max()\n",
    "# img_np_arr *= 255 # [0, 255] range\n",
    "\n",
    "plt.imshow(img_np_arr.transpose(1, 2, 0))#.astype('uint8'))\n",
    "plt.show()"
   ]
  },
  {
   "cell_type": "code",
   "execution_count": 12,
   "metadata": {},
   "outputs": [],
   "source": [
    "# # UNCOMMENT TO SEE SAMPLED FRAMES\n",
    "# nrows, ncols = 6, 5\n",
    "# fig, ax = plt.subplots(nrows=nrows, ncols=ncols, figsize=(25, 25))\n",
    "# for i in range(n_frames):\n",
    "#     row_idx = i // ncols\n",
    "#     col_idx = i % ncols\n",
    "#     ax[row_idx][col_idx].imshow(ld_train[0][0][i].numpy().transpose(1, 2, 0))\n",
    "\n",
    "# # # UNCOMMENT TO SAVE PLOT\n",
    "# # plt.savefig('train_30_0.png')\n",
    "\n",
    "# plt.show()"
   ]
  },
  {
   "cell_type": "code",
   "execution_count": 13,
   "metadata": {},
   "outputs": [
    {
     "name": "stdout",
     "output_type": "stream",
     "text": [
      "shape of first array torch.Size([30, 3, 256, 256])\n"
     ]
    },
    {
     "data": {
      "image/png": "[encoded data removed]",
      "text/plain": [
       "<Figure size 432x288 with 1 Axes>"
      ]
     },
     "metadata": {
      "needs_background": "light"
     },
     "output_type": "display_data"
    }
   ],
   "source": [
    "# Create test dataset\n",
    "\n",
    "ld_test = Turkish_Dataset(test_label_df, test_dir, n_classes, transforms=transforms_compose, frames_cap=n_frames)\n",
    "print(\"shape of first array\", ld_test[0][0].shape)\n",
    "\n",
    "# show image but clip rbg values\n",
    "img_np_arr = ld_test[0][0][0].numpy()\n",
    "img_np_arr -= img_np_arr.min() \n",
    "img_np_arr /= img_np_arr.max()\n",
    "plt.imshow(img_np_arr.transpose(1, 2, 0))#.astype('uint8'))\n",
    "plt.show()"
   ]
  },
  {
   "cell_type": "code",
   "execution_count": 14,
   "metadata": {},
   "outputs": [
    {
     "name": "stdout",
     "output_type": "stream",
     "text": [
      "shape of first array torch.Size([30, 3, 256, 256])\n"
     ]
    },
    {
     "data": {
      "image/png": "[encoded data removed]",
      "text/plain": [
       "<Figure size 432x288 with 1 Axes>"
      ]
     },
     "metadata": {
      "needs_background": "light"
     },
     "output_type": "display_data"
    }
   ],
   "source": [
    "# Create val dataset\n",
    "\n",
    "ld_val = Turkish_Dataset(val_label_df, val_dir, n_classes, transforms=transforms_compose, frames_cap=n_frames)\n",
    "print(\"shape of first array\", ld_val[0][0].shape)\n",
    "\n",
    "# show image but clip rbg values\n",
    "img_np_arr = ld_val[0][0][0].numpy()\n",
    "img_np_arr -= img_np_arr.min() \n",
    "img_np_arr /= img_np_arr.max()\n",
    "plt.imshow(img_np_arr.transpose(1, 2, 0))#.astype('uint8'))\n",
    "plt.show()"
   ]
  },
  {
   "cell_type": "markdown",
   "metadata": {},
   "source": [
    "# Custom Dataloader"
   ]
  },
  {
   "cell_type": "code",
   "execution_count": 15,
   "metadata": {},
   "outputs": [],
   "source": [
    "bs_train = 4\n",
    "bs_test = 4\n",
    "bs_val = 4\n",
    "train_loader = DataLoader(ld_train, batch_size = bs_train, shuffle = True)\n",
    "test_loader = DataLoader(ld_test, batch_size = bs_test, shuffle = True)\n",
    "val_loader = DataLoader(ld_val, batch_size = bs_val, shuffle = True)"
   ]
  },
  {
   "cell_type": "markdown",
   "metadata": {},
   "source": [
    "# Model Exploration"
   ]
  },
  {
   "cell_type": "markdown",
   "metadata": {},
   "source": [
    "## No. of Conv Layers in CNN"
   ]
  },
  {
   "cell_type": "markdown",
   "metadata": {},
   "source": [
    "### 3 layers"
   ]
  },
  {
   "cell_type": "code",
   "execution_count": 16,
   "metadata": {},
   "outputs": [],
   "source": [
    "model = CNN_LSTM(n_classes, \n",
    "                 latent_size=512, \n",
    "                 n_cnn_layers=3, \n",
    "                 n_rnn_layers=1, \n",
    "                 n_rnn_hidden_dim=512, \n",
    "                 cnn_bn=True)"
   ]
  },
  {
   "cell_type": "code",
   "execution_count": 17,
   "metadata": {
    "scrolled": true
   },
   "outputs": [
    {
     "data": {
      "text/plain": [
       "CNN_LSTM(\n",
       "  (CNN): CNN(\n",
       "    (conv1): Conv2d(3, 64, kernel_size=(3, 3), stride=(2, 2))\n",
       "    (maxpool): MaxPool2d(kernel_size=3, stride=2, padding=0, dilation=1, ceil_mode=False)\n",
       "    (layers): Sequential(\n",
       "      (0): ConvBlock(\n",
       "        (conv1): Conv2d(64, 64, kernel_size=(3, 3), stride=(1, 1))\n",
       "        (conv2): Conv2d(64, 64, kernel_size=(3, 3), stride=(1, 1))\n",
       "        (batchnorm1): BatchNorm2d(64, eps=1e-05, momentum=0.01, affine=True, track_running_stats=True)\n",
       "        (batchnorm2): BatchNorm2d(64, eps=1e-05, momentum=0.01, affine=True, track_running_stats=True)\n",
       "        (a_fn): ReLU()\n",
       "        (pool): MaxPool2d(kernel_size=2, stride=2, padding=0, dilation=1, ceil_mode=False)\n",
       "      )\n",
       "    )\n",
       "    (conv2): ConvBlock(\n",
       "      (conv1): Conv2d(64, 128, kernel_size=(3, 3), stride=(1, 1))\n",
       "      (conv2): Conv2d(128, 128, kernel_size=(3, 3), stride=(1, 1))\n",
       "      (batchnorm1): BatchNorm2d(128, eps=1e-05, momentum=0.01, affine=True, track_running_stats=True)\n",
       "      (batchnorm2): BatchNorm2d(128, eps=1e-05, momentum=0.01, affine=True, track_running_stats=True)\n",
       "      (a_fn): ReLU()\n",
       "      (pool): AdaptiveAvgPool2d(output_size=1)\n",
       "    )\n",
       "    (fc): Linear(in_features=128, out_features=512, bias=True)\n",
       "  )\n",
       "  (RNN): RNN(\n",
       "    (lstm): LSTM(512, 512, batch_first=True)\n",
       "    (fc1): Linear(in_features=512, out_features=10, bias=True)\n",
       "    (a_fn): ReLU()\n",
       "  )\n",
       "  (dropout): Dropout(p=0.1, inplace=False)\n",
       "  (softmax): Softmax(dim=1)\n",
       ")"
      ]
     },
     "execution_count": 17,
     "metadata": {},
     "output_type": "execute_result"
    }
   ],
   "source": [
    "model"
   ]
  },
  {
   "cell_type": "code",
   "execution_count": 18,
   "metadata": {
    "scrolled": true
   },
   "outputs": [
    {
     "data": {
      "text/plain": [
       "==========================================================================================\n",
       "Layer (type:depth-idx)                   Output Shape              Param #\n",
       "==========================================================================================\n",
       "├─CNN: 1-1                               [30, 512]                 --\n",
       "|    └─Conv2d: 2-1                       [30, 64, 127, 127]        1,792\n",
       "|    └─Sequential: 2-2                   [30, 64, 61, 61]          --\n",
       "|    |    └─ConvBlock: 3-1               [30, 64, 61, 61]          74,112\n",
       "|    └─ConvBlock: 2-3                    [30, 128, 1, 1]           --\n",
       "|    |    └─Conv2d: 3-2                  [30, 128, 59, 59]         73,856\n",
       "|    |    └─BatchNorm2d: 3-3             [30, 128, 59, 59]         256\n",
       "|    |    └─ReLU: 3-4                    [30, 128, 59, 59]         --\n",
       "|    |    └─Conv2d: 3-5                  [30, 128, 57, 57]         147,584\n",
       "|    |    └─BatchNorm2d: 3-6             [30, 128, 57, 57]         256\n",
       "|    |    └─ReLU: 3-7                    [30, 128, 57, 57]         --\n",
       "|    |    └─AdaptiveAvgPool2d: 3-8       [30, 128, 1, 1]           --\n",
       "|    └─Linear: 2-4                       [30, 512]                 66,048\n",
       "├─Dropout: 1-2                           [1, 30, 512]              --\n",
       "├─RNN: 1-3                               [1, 10]                   --\n",
       "|    └─LSTM: 2-5                         [1, 30, 512]              2,101,248\n",
       "|    └─Linear: 2-6                       [1, 10]                   5,130\n",
       "==========================================================================================\n",
       "Total params: 2,470,282\n",
       "Trainable params: 2,470,282\n",
       "Non-trainable params: 0\n",
       "Total mult-adds (G): 63.71\n",
       "==========================================================================================\n",
       "Input size (MB): 23.59\n",
       "Forward/backward pass size (MB): 1606.24\n",
       "Params size (MB): 9.88\n",
       "Estimated Total Size (MB): 1639.72\n",
       "=========================================================================================="
      ]
     },
     "execution_count": 18,
     "metadata": {},
     "output_type": "execute_result"
    }
   ],
   "source": [
    "# UNCOMMENT FOR PIP VERSION (torchinfo)\n",
    "summary(model, input_size=(1, 30, 3, 256, 256))\n",
    "\n",
    "# # UNCOMMENT FOR CONDA VERSION (pytorch_model_summary)\n",
    "# summary(model, torch.zeros((1, 30, 3, 256, 256)), show_input=False)"
   ]
  },
  {
   "cell_type": "code",
   "execution_count": 19,
   "metadata": {},
   "outputs": [],
   "source": [
    "if torch.cuda.device_count() > 1:\n",
    "    logger.info(\"Using {} GPUs\".format(torch.cuda.device_count()))\n",
    "    model = nn.DataParallel(model)"
   ]
  },
  {
   "cell_type": "code",
   "execution_count": 20,
   "metadata": {},
   "outputs": [],
   "source": [
    "# Hyperparams\n",
    "no_of_epochs = 1000\n",
    "optimizer_lr = 1e-5\n",
    "save_dir = \"saved_models/cnn_lstm2_512_3_1_512\""
   ]
  },
  {
   "cell_type": "code",
   "execution_count": 21,
   "metadata": {
    "scrolled": true
   },
   "outputs": [
    {
     "name": "stderr",
     "output_type": "stream",
     "text": [
      "######################Training Started######################\n",
      "Epoch 1\n",
      "100%|██████████| 311/311 [05:34<00:00,  1.08s/batch, accuracy=0, loss=2.32]   \n",
      "Average Training Loss of Epoch 1: 2.306807 | Acc: 8.69%\n",
      "100%|██████████| 49/49 [00:48<00:00,  1.02batch/s, accuracy=0.5, loss=2.26] \n",
      "Average Validation Loss of Epoch 1: 2.302974 | Acc: 10.31%\n",
      "####################Epoch 1 Model Saved#####################\n",
      "Epoch 2\n",
      "100%|██████████| 311/311 [05:33<00:00,  1.07s/batch, accuracy=0, loss=2.31]   \n",
      "Average Training Loss of Epoch 2: 2.305804 | Acc: 8.21%\n",
      "100%|██████████| 49/49 [00:46<00:00,  1.05batch/s, accuracy=0, loss=2.32]   \n",
      "Average Validation Loss of Epoch 2: 2.303819 | Acc: 9.79%\n",
      "####################Epoch 2 Model Saved#####################\n",
      "Increment early stopper to 1 because val loss (2.303819179534912) is greater than threshold (2.3029741170455)\n",
      "Epoch 3\n",
      "100%|██████████| 311/311 [05:30<00:00,  1.06s/batch, accuracy=0, loss=2.3]    \n",
      "Average Training Loss of Epoch 3: 2.305286 | Acc: 8.61%\n",
      "100%|██████████| 49/49 [00:47<00:00,  1.03batch/s, accuracy=0, loss=2.34]   \n",
      "Average Validation Loss of Epoch 3: 2.303543 | Acc: 10.31%\n",
      "####################Epoch 3 Model Saved#####################\n",
      "Increment early stopper to 2 because val loss (2.303543450881024) is greater than threshold (2.3029741170455)\n",
      "Epoch 4\n",
      "100%|██████████| 311/311 [05:34<00:00,  1.07s/batch, accuracy=0, loss=2.3]    \n",
      "Average Training Loss of Epoch 4: 2.304971 | Acc: 8.85%\n",
      "100%|██████████| 49/49 [00:48<00:00,  1.02batch/s, accuracy=0.5, loss=2.14] \n",
      "Average Validation Loss of Epoch 4: 2.309667 | Acc: 9.79%\n",
      "####################Epoch 4 Model Saved#####################\n",
      "Increment early stopper to 3 because val loss (2.309667339130324) is greater than threshold (2.3029741170455)\n",
      "Epoch 5\n",
      "100%|██████████| 311/311 [05:33<00:00,  1.07s/batch, accuracy=0, loss=2.32]   \n",
      "Average Training Loss of Epoch 5: 2.305459 | Acc: 8.93%\n",
      "100%|██████████| 49/49 [00:47<00:00,  1.02batch/s, accuracy=0, loss=2.38]   \n",
      "Average Validation Loss of Epoch 5: 2.307063 | Acc: 9.79%\n",
      "####################Epoch 5 Model Saved#####################\n",
      "Increment early stopper to 4 because val loss (2.307062951885924) is greater than threshold (2.3029741170455)\n",
      "Epoch 6\n",
      "  0%|          | 0/311 [00:00<?, ?batch/s]"
     ]
    },
    {
     "name": "stdout",
     "output_type": "stream",
     "text": [
      "Epoch     5: reducing learning rate of group 0 to 1.0000e-06.\n"
     ]
    },
    {
     "name": "stderr",
     "output_type": "stream",
     "text": [
      "100%|██████████| 311/311 [05:33<00:00,  1.07s/batch, accuracy=0.333, loss=2.28]\n",
      "Average Training Loss of Epoch 6: 2.301897 | Acc: 10.78%\n",
      "100%|██████████| 49/49 [00:48<00:00,  1.00batch/s, accuracy=0, loss=2.31]   \n",
      "Average Validation Loss of Epoch 6: 2.302148 | Acc: 8.76%\n",
      "####################Epoch 6 Model Saved#####################\n",
      "Epoch 7\n",
      "100%|██████████| 311/311 [05:37<00:00,  1.09s/batch, accuracy=0, loss=2.3]    \n",
      "Average Training Loss of Epoch 7: 2.301127 | Acc: 10.94%\n",
      "100%|██████████| 49/49 [00:48<00:00,  1.00batch/s, accuracy=0, loss=2.32]   \n",
      "Average Validation Loss of Epoch 7: 2.302239 | Acc: 10.31%\n",
      "####################Epoch 7 Model Saved#####################\n",
      "Increment early stopper to 1 because val loss (2.302239160148465) is greater than threshold (2.302148332401198)\n",
      "Epoch 8\n",
      "100%|██████████| 311/311 [05:35<00:00,  1.08s/batch, accuracy=0.333, loss=2.3]\n",
      "Average Training Loss of Epoch 8: 2.302370 | Acc: 10.62%\n",
      "100%|██████████| 49/49 [00:49<00:00,  1.00s/batch, accuracy=0, loss=2.31]   \n",
      "Average Validation Loss of Epoch 8: 2.302200 | Acc: 9.79%\n",
      "####################Epoch 8 Model Saved#####################\n",
      "Increment early stopper to 2 because val loss (2.3022002346661625) is greater than threshold (2.302148332401198)\n",
      "Epoch 9\n",
      "100%|██████████| 311/311 [05:38<00:00,  1.09s/batch, accuracy=0, loss=2.29]   \n",
      "Average Training Loss of Epoch 9: 2.301487 | Acc: 10.54%\n",
      "100%|██████████| 49/49 [00:48<00:00,  1.01batch/s, accuracy=0, loss=2.29]   \n",
      "Average Validation Loss of Epoch 9: 2.302037 | Acc: 8.76%\n",
      "####################Epoch 9 Model Saved#####################\n",
      "Epoch 10\n",
      "100%|██████████| 311/311 [05:38<00:00,  1.09s/batch, accuracy=0.333, loss=2.29]\n",
      "Average Training Loss of Epoch 10: 2.301048 | Acc: 11.26%\n",
      "100%|██████████| 49/49 [00:49<00:00,  1.01s/batch, accuracy=0, loss=2.32]   \n",
      "Average Validation Loss of Epoch 10: 2.302011 | Acc: 10.31%\n",
      "####################Epoch 10 Model Saved####################\n",
      "Epoch 11\n",
      "  0%|          | 0/311 [00:00<?, ?batch/s]"
     ]
    },
    {
     "name": "stdout",
     "output_type": "stream",
     "text": [
      "Epoch    10: reducing learning rate of group 0 to 1.0000e-07.\n"
     ]
    },
    {
     "name": "stderr",
     "output_type": "stream",
     "text": [
      "100%|██████████| 311/311 [05:40<00:00,  1.09s/batch, accuracy=0.333, loss=2.31]\n",
      "Average Training Loss of Epoch 11: 2.301482 | Acc: 9.90%\n",
      "100%|██████████| 49/49 [00:47<00:00,  1.03batch/s, accuracy=0, loss=2.31]   \n",
      "Average Validation Loss of Epoch 11: 2.302010 | Acc: 10.31%\n",
      "####################Epoch 11 Model Saved####################\n",
      "Epoch 12\n",
      "100%|██████████| 311/311 [05:39<00:00,  1.09s/batch, accuracy=0.333, loss=2.31]\n",
      "Average Training Loss of Epoch 12: 2.301519 | Acc: 11.34%\n",
      "100%|██████████| 49/49 [00:49<00:00,  1.02s/batch, accuracy=0, loss=2.31]   \n",
      "Average Validation Loss of Epoch 12: 2.302022 | Acc: 8.76%\n",
      "####################Epoch 12 Model Saved####################\n",
      "Increment early stopper to 1 because val loss (2.302022170047371) is greater than threshold (2.302010249118416)\n",
      "Epoch 13\n",
      "100%|██████████| 311/311 [05:43<00:00,  1.11s/batch, accuracy=0, loss=2.3]    \n",
      "Average Training Loss of Epoch 13: 2.300847 | Acc: 10.46%\n",
      "100%|██████████| 49/49 [00:49<00:00,  1.02s/batch, accuracy=0, loss=2.32]   \n",
      "Average Validation Loss of Epoch 13: 2.302090 | Acc: 8.76%\n",
      "####################Epoch 13 Model Saved####################\n",
      "Increment early stopper to 2 because val loss (2.3020895403258654) is greater than threshold (2.302010249118416)\n",
      "Epoch 14\n",
      "100%|██████████| 311/311 [05:45<00:00,  1.11s/batch, accuracy=0, loss=2.3]    \n",
      "Average Training Loss of Epoch 14: 2.301035 | Acc: 11.34%\n",
      "100%|██████████| 49/49 [00:49<00:00,  1.01s/batch, accuracy=0, loss=2.31]   \n",
      "Average Validation Loss of Epoch 14: 2.302022 | Acc: 9.79%\n",
      "####################Epoch 14 Model Saved####################\n",
      "Increment early stopper to 3 because val loss (2.3020216542847303) is greater than threshold (2.302010249118416)\n",
      "Epoch 15\n",
      "  0%|          | 0/311 [00:00<?, ?batch/s]"
     ]
    },
    {
     "name": "stdout",
     "output_type": "stream",
     "text": [
      "Epoch    14: reducing learning rate of group 0 to 1.0000e-08.\n"
     ]
    },
    {
     "name": "stderr",
     "output_type": "stream",
     "text": [
      "100%|██████████| 311/311 [05:47<00:00,  1.12s/batch, accuracy=0, loss=2.28]   \n",
      "Average Training Loss of Epoch 15: 2.301078 | Acc: 10.94%\n",
      "100%|██████████| 49/49 [00:49<00:00,  1.01s/batch, accuracy=0.5, loss=2.3]  \n",
      "Average Validation Loss of Epoch 15: 2.301900 | Acc: 8.76%\n",
      "####################Epoch 15 Model Saved####################\n",
      "Epoch 16\n",
      "100%|██████████| 311/311 [05:46<00:00,  1.11s/batch, accuracy=0, loss=2.29]   \n",
      "Average Training Loss of Epoch 16: 2.301203 | Acc: 10.54%\n",
      "100%|██████████| 49/49 [00:50<00:00,  1.02s/batch, accuracy=0, loss=2.28]   \n",
      "Average Validation Loss of Epoch 16: 2.301657 | Acc: 8.76%\n",
      "####################Epoch 16 Model Saved####################\n",
      "Epoch 17\n",
      "100%|██████████| 311/311 [05:47<00:00,  1.12s/batch, accuracy=0, loss=2.3]    \n",
      "Average Training Loss of Epoch 17: 2.301125 | Acc: 10.22%\n",
      "100%|██████████| 49/49 [00:49<00:00,  1.01s/batch, accuracy=0, loss=2.31]   \n",
      "Average Validation Loss of Epoch 17: 2.302038 | Acc: 8.76%\n",
      "####################Epoch 17 Model Saved####################\n",
      "Increment early stopper to 1 because val loss (2.3020384165705465) is greater than threshold (2.301657024694949)\n",
      "Epoch 18\n",
      "100%|██████████| 311/311 [05:44<00:00,  1.11s/batch, accuracy=0, loss=2.32]   \n",
      "Average Training Loss of Epoch 18: 2.300535 | Acc: 12.31%\n",
      "100%|██████████| 49/49 [00:50<00:00,  1.02s/batch, accuracy=0, loss=2.3]    \n",
      "Average Validation Loss of Epoch 18: 2.301927 | Acc: 8.76%\n",
      "####################Epoch 18 Model Saved####################\n",
      "Increment early stopper to 2 because val loss (2.3019272794528884) is greater than threshold (2.301657024694949)\n",
      "Epoch 19\n",
      "100%|██████████| 311/311 [05:42<00:00,  1.10s/batch, accuracy=0, loss=2.29]   \n",
      "Average Training Loss of Epoch 19: 2.300964 | Acc: 11.50%\n",
      "100%|██████████| 49/49 [00:49<00:00,  1.00s/batch, accuracy=0.5, loss=2.3]  \n",
      "Average Validation Loss of Epoch 19: 2.301911 | Acc: 8.25%\n",
      "####################Epoch 19 Model Saved####################\n",
      "Increment early stopper to 3 because val loss (2.3019108869591536) is greater than threshold (2.301657024694949)\n",
      "Epoch 20\n",
      "100%|██████████| 311/311 [05:42<00:00,  1.10s/batch, accuracy=0.667, loss=2.28]\n",
      "Average Training Loss of Epoch 20: 2.301138 | Acc: 11.67%\n",
      "100%|██████████| 49/49 [00:48<00:00,  1.01batch/s, accuracy=0, loss=2.29]   \n",
      "Average Validation Loss of Epoch 20: 2.301850 | Acc: 8.76%\n",
      "####################Epoch 20 Model Saved####################\n",
      "Increment early stopper to 4 because val loss (2.3018504697449353) is greater than threshold (2.301657024694949)\n",
      "Epoch 21\n",
      "100%|██████████| 311/311 [05:41<00:00,  1.10s/batch, accuracy=0.333, loss=2.28]\n",
      "Average Training Loss of Epoch 21: 2.300807 | Acc: 12.39%\n",
      "100%|██████████| 49/49 [00:48<00:00,  1.00batch/s, accuracy=0.5, loss=2.29] \n",
      "Average Validation Loss of Epoch 21: 2.301846 | Acc: 8.76%\n",
      "####################Epoch 21 Model Saved####################\n",
      "Increment early stopper to 5 because val loss (2.301845516477312) is greater than threshold (2.301657024694949)\n",
      "Epoch 22\n",
      "100%|██████████| 311/311 [05:39<00:00,  1.09s/batch, accuracy=0, loss=2.31]   \n",
      "Average Training Loss of Epoch 22: 2.300787 | Acc: 10.54%\n",
      "100%|██████████| 49/49 [00:48<00:00,  1.01batch/s, accuracy=0, loss=2.31]   \n",
      "Average Validation Loss of Epoch 22: 2.301975 | Acc: 8.76%\n",
      "####################Epoch 22 Model Saved####################\n",
      "Increment early stopper to 6 because val loss (2.3019753183637346) is greater than threshold (2.301657024694949)\n",
      "Epoch 23\n",
      "100%|██████████| 311/311 [05:40<00:00,  1.10s/batch, accuracy=0, loss=2.29]   \n",
      "Average Training Loss of Epoch 23: 2.301096 | Acc: 10.06%\n",
      "100%|██████████| 49/49 [00:49<00:00,  1.01s/batch, accuracy=0, loss=2.29]   \n",
      "Average Validation Loss of Epoch 23: 2.301812 | Acc: 8.76%\n",
      "####################Epoch 23 Model Saved####################\n",
      "Increment early stopper to 7 because val loss (2.30181157832243) is greater than threshold (2.301657024694949)\n",
      "Epoch 24\n",
      "100%|██████████| 311/311 [05:42<00:00,  1.10s/batch, accuracy=0, loss=2.29]   \n",
      "Average Training Loss of Epoch 24: 2.301305 | Acc: 10.70%\n",
      "100%|██████████| 49/49 [00:48<00:00,  1.01batch/s, accuracy=0, loss=2.29]   \n",
      "Average Validation Loss of Epoch 24: 2.301793 | Acc: 8.76%\n",
      "####################Epoch 24 Model Saved####################\n",
      "Increment early stopper to 8 because val loss (2.3017934633761037) is greater than threshold (2.301657024694949)\n",
      "Epoch 25\n",
      "100%|██████████| 311/311 [05:35<00:00,  1.08s/batch, accuracy=0.333, loss=2.3]\n",
      "Average Training Loss of Epoch 25: 2.301017 | Acc: 11.83%\n",
      "100%|██████████| 49/49 [00:46<00:00,  1.05batch/s, accuracy=0, loss=2.3]    \n",
      "Average Validation Loss of Epoch 25: 2.301908 | Acc: 8.76%\n",
      "####################Epoch 25 Model Saved####################\n",
      "Increment early stopper to 9 because val loss (2.301907982145037) is greater than threshold (2.301657024694949)\n",
      "Epoch 26\n",
      "100%|██████████| 311/311 [05:31<00:00,  1.07s/batch, accuracy=0, loss=2.3]    \n",
      "Average Training Loss of Epoch 26: 2.301188 | Acc: 10.46%\n",
      "100%|██████████| 49/49 [00:47<00:00,  1.04batch/s, accuracy=0, loss=2.32]   \n",
      "Average Validation Loss of Epoch 26: 2.302077 | Acc: 8.76%\n",
      "####################Epoch 26 Model Saved####################\n",
      "Increment early stopper to 10 because val loss (2.302077239873458) is greater than threshold (2.301657024694949)\n",
      "Model has overfit, early stopping...\n",
      "#####################Training Finished######################\n"
     ]
    },
    {
     "data": {
      "text/plain": [
       "CNN_LSTM(\n",
       "  (CNN): CNN(\n",
       "    (conv1): Conv2d(3, 64, kernel_size=(3, 3), stride=(2, 2))\n",
       "    (maxpool): MaxPool2d(kernel_size=3, stride=2, padding=0, dilation=1, ceil_mode=False)\n",
       "    (layers): Sequential(\n",
       "      (0): ConvBlock(\n",
       "        (conv1): Conv2d(64, 64, kernel_size=(3, 3), stride=(1, 1))\n",
       "        (conv2): Conv2d(64, 64, kernel_size=(3, 3), stride=(1, 1))\n",
       "        (batchnorm1): BatchNorm2d(64, eps=1e-05, momentum=0.01, affine=True, track_running_stats=True)\n",
       "        (batchnorm2): BatchNorm2d(64, eps=1e-05, momentum=0.01, affine=True, track_running_stats=True)\n",
       "        (a_fn): ReLU()\n",
       "        (pool): MaxPool2d(kernel_size=2, stride=2, padding=0, dilation=1, ceil_mode=False)\n",
       "      )\n",
       "    )\n",
       "    (conv2): ConvBlock(\n",
       "      (conv1): Conv2d(64, 128, kernel_size=(3, 3), stride=(1, 1))\n",
       "      (conv2): Conv2d(128, 128, kernel_size=(3, 3), stride=(1, 1))\n",
       "      (batchnorm1): BatchNorm2d(128, eps=1e-05, momentum=0.01, affine=True, track_running_stats=True)\n",
       "      (batchnorm2): BatchNorm2d(128, eps=1e-05, momentum=0.01, affine=True, track_running_stats=True)\n",
       "      (a_fn): ReLU()\n",
       "      (pool): AdaptiveAvgPool2d(output_size=1)\n",
       "    )\n",
       "    (fc): Linear(in_features=128, out_features=512, bias=True)\n",
       "  )\n",
       "  (RNN): RNN(\n",
       "    (lstm): LSTM(512, 512, batch_first=True)\n",
       "    (fc1): Linear(in_features=512, out_features=10, bias=True)\n",
       "    (a_fn): ReLU()\n",
       "  )\n",
       "  (dropout): Dropout(p=0.1, inplace=False)\n",
       "  (softmax): Softmax(dim=1)\n",
       ")"
      ]
     },
     "execution_count": 21,
     "metadata": {},
     "output_type": "execute_result"
    }
   ],
   "source": [
    "train(model, \n",
    "      train_loader, \n",
    "      val_loader, \n",
    "      no_of_epochs, \n",
    "      logger,\n",
    "      writer,\n",
    "      save_dir=save_dir, \n",
    "      save_checkpoint=True,\n",
    "      device=device, \n",
    "      patience=10, \n",
    "      optimizer_lr=optimizer_lr, \n",
    "      use_scheduler=True)"
   ]
  },
  {
   "cell_type": "markdown",
   "metadata": {},
   "source": [
    "### 5 layers"
   ]
  },
  {
   "cell_type": "code",
   "execution_count": 16,
   "metadata": {},
   "outputs": [],
   "source": [
    "model = CNN_LSTM(n_classes, \n",
    "                 latent_size=512, \n",
    "                 n_cnn_layers=5, \n",
    "                 n_rnn_layers=1, \n",
    "                 n_rnn_hidden_dim=512, \n",
    "                 cnn_bn=True)"
   ]
  },
  {
   "cell_type": "code",
   "execution_count": 17,
   "metadata": {},
   "outputs": [
    {
     "data": {
      "text/plain": [
       "==========================================================================================\n",
       "Layer (type:depth-idx)                   Output Shape              Param #\n",
       "==========================================================================================\n",
       "├─CNN_Encoder: 1-1                       [30, 512]                 --\n",
       "|    └─Conv2d: 2-1                       [30, 64, 127, 127]        1,792\n",
       "|    └─Sequential: 2-2                   [30, 256, 12, 12]         --\n",
       "|    |    └─ConvBlock: 3-1               [30, 64, 61, 61]          74,112\n",
       "|    |    └─ConvBlock: 3-2               [30, 128, 28, 28]         221,952\n",
       "|    |    └─ConvBlock: 3-3               [30, 256, 12, 12]         886,272\n",
       "|    └─ConvBlock: 2-3                    [30, 512, 1, 1]           --\n",
       "|    |    └─Conv2d: 3-4                  [30, 512, 10, 10]         1,180,160\n",
       "|    |    └─BatchNorm2d: 3-5             [30, 512, 10, 10]         1,024\n",
       "|    |    └─ReLU: 3-6                    [30, 512, 10, 10]         --\n",
       "|    |    └─Conv2d: 3-7                  [30, 512, 8, 8]           2,359,808\n",
       "|    |    └─BatchNorm2d: 3-8             [30, 512, 8, 8]           1,024\n",
       "|    |    └─ReLU: 3-9                    [30, 512, 8, 8]           --\n",
       "|    |    └─AdaptiveAvgPool2d: 3-10      [30, 512, 1, 1]           --\n",
       "|    └─Linear: 2-4                       [30, 512]                 262,656\n",
       "├─Dropout: 1-2                           [1, 30, 512]              --\n",
       "├─LSTM_Decoder: 1-3                      [1, 10]                   --\n",
       "|    └─LSTM: 2-5                         [1, 30, 512]              2,101,248\n",
       "|    └─Linear: 2-6                       [1, 10]                   5,130\n",
       "==========================================================================================\n",
       "Total params: 7,095,178\n",
       "Trainable params: 7,095,178\n",
       "Non-trainable params: 0\n",
       "Total mult-adds (G): 229.04\n",
       "==========================================================================================\n",
       "Input size (MB): 23.59\n",
       "Forward/backward pass size (MB): 1800.39\n",
       "Params size (MB): 28.38\n",
       "Estimated Total Size (MB): 1852.37\n",
       "=========================================================================================="
      ]
     },
     "execution_count": 17,
     "metadata": {},
     "output_type": "execute_result"
    }
   ],
   "source": [
    "# UNCOMMENT FOR PIP VERSION (torchinfo)\n",
    "summary(model, input_size=(1, 30, 3, 256, 256))\n",
    "\n",
    "# # UNCOMMENT FOR CONDA VERSION (pytorch_model_summary)\n",
    "# summary(model, torch.zeros((1, 30, 3, 256, 256)), show_input=False)"
   ]
  },
  {
   "cell_type": "code",
   "execution_count": 18,
   "metadata": {},
   "outputs": [],
   "source": [
    "if torch.cuda.device_count() > 1:\n",
    "    logger.info(\"Using {} GPUs\".format(torch.cuda.device_count()))\n",
    "    model = nn.DataParallel(model)"
   ]
  },
  {
   "cell_type": "code",
   "execution_count": 19,
   "metadata": {},
   "outputs": [],
   "source": [
    "# Hyperparams\n",
    "no_of_epochs = 1000\n",
    "optimizer_lr = 1e-5\n",
    "save_dir = \"saved_models/cnn_lstm2_512_5_1_512\""
   ]
  },
  {
   "cell_type": "code",
   "execution_count": 20,
   "metadata": {
    "scrolled": true
   },
   "outputs": [
    {
     "name": "stderr",
     "output_type": "stream",
     "text": [
      "######################Training Started######################\n",
      "Epoch 1\n",
      "100%|██████████| 311/311 [05:09<00:00,  1.00batch/s, accuracy=0, loss=2.34]   \n",
      "Average Training Loss of Epoch 1: 2.309555 | Acc: 8.85%\n",
      "100%|██████████| 49/49 [00:42<00:00,  1.14batch/s, accuracy=0, loss=2.32]   \n",
      "Average Validation Loss of Epoch 1: 2.304928 | Acc: 10.31%\n",
      "####################Epoch 1 Model Saved#####################\n",
      "Epoch 2\n",
      "100%|██████████| 311/311 [05:05<00:00,  1.02batch/s, accuracy=0, loss=2.32]   \n",
      "Average Training Loss of Epoch 2: 2.301474 | Acc: 10.86%\n",
      "100%|██████████| 49/49 [00:42<00:00,  1.15batch/s, accuracy=0, loss=2.26]   \n",
      "Average Validation Loss of Epoch 2: 2.306266 | Acc: 10.31%\n",
      "####################Epoch 2 Model Saved#####################\n",
      "Increment early stopper to 1 because val loss (2.306265976964211) is greater than threshold (2.304928492526619)\n",
      "Epoch 3\n",
      "100%|██████████| 311/311 [05:05<00:00,  1.02batch/s, accuracy=0, loss=2.3]    \n",
      "Average Training Loss of Epoch 3: 2.294804 | Acc: 12.39%\n",
      "100%|██████████| 49/49 [00:42<00:00,  1.15batch/s, accuracy=0.5, loss=2.11] \n",
      "Average Validation Loss of Epoch 3: 2.312808 | Acc: 10.31%\n",
      "####################Epoch 3 Model Saved#####################\n",
      "Increment early stopper to 2 because val loss (2.312808391999225) is greater than threshold (2.304928492526619)\n",
      "Epoch 4\n",
      "100%|██████████| 311/311 [05:06<00:00,  1.02batch/s, accuracy=0.333, loss=2.27]\n",
      "Average Training Loss of Epoch 4: 2.281796 | Acc: 14.24%\n",
      "100%|██████████| 49/49 [00:42<00:00,  1.15batch/s, accuracy=0, loss=2.59]   \n",
      "Average Validation Loss of Epoch 4: 2.324179 | Acc: 10.31%\n",
      "####################Epoch 4 Model Saved#####################\n",
      "Increment early stopper to 3 because val loss (2.324179167650184) is greater than threshold (2.304928492526619)\n",
      "Epoch 5\n",
      "100%|██████████| 311/311 [05:06<00:00,  1.02batch/s, accuracy=0.333, loss=2.35]\n",
      "Average Training Loss of Epoch 5: 2.266746 | Acc: 18.18%\n",
      "100%|██████████| 49/49 [00:42<00:00,  1.15batch/s, accuracy=0, loss=2.8]    \n",
      "Average Validation Loss of Epoch 5: 2.410297 | Acc: 10.31%\n",
      "####################Epoch 5 Model Saved#####################\n",
      "Increment early stopper to 4 because val loss (2.410296766125426) is greater than threshold (2.304928492526619)\n",
      "Epoch 6\n",
      "  0%|          | 0/311 [00:00<?, ?batch/s]"
     ]
    },
    {
     "name": "stdout",
     "output_type": "stream",
     "text": [
      "Epoch     5: reducing learning rate of group 0 to 1.0000e-06.\n"
     ]
    },
    {
     "name": "stderr",
     "output_type": "stream",
     "text": [
      "100%|██████████| 311/311 [05:05<00:00,  1.02batch/s, accuracy=0.667, loss=2.18]\n",
      "Average Training Loss of Epoch 6: 2.213421 | Acc: 25.74%\n",
      "100%|██████████| 49/49 [00:42<00:00,  1.16batch/s, accuracy=0, loss=2.17]   \n",
      "Average Validation Loss of Epoch 6: 2.341008 | Acc: 9.28%\n",
      "####################Epoch 6 Model Saved#####################\n",
      "Increment early stopper to 5 because val loss (2.3410075538012447) is greater than threshold (2.304928492526619)\n",
      "Epoch 7\n",
      "100%|██████████| 311/311 [05:05<00:00,  1.02batch/s, accuracy=0, loss=2.25]   \n",
      "Average Training Loss of Epoch 7: 2.191351 | Acc: 27.19%\n",
      "100%|██████████| 49/49 [00:42<00:00,  1.16batch/s, accuracy=0, loss=2.63]   \n",
      "Average Validation Loss of Epoch 7: 2.325224 | Acc: 8.25%\n",
      "####################Epoch 7 Model Saved#####################\n",
      "Increment early stopper to 6 because val loss (2.325224088162792) is greater than threshold (2.304928492526619)\n",
      "Epoch 8\n",
      "100%|██████████| 311/311 [05:05<00:00,  1.02batch/s, accuracy=1, loss=2.08]   \n",
      "Average Training Loss of Epoch 8: 2.167451 | Acc: 27.84%\n",
      "100%|██████████| 49/49 [00:42<00:00,  1.16batch/s, accuracy=0, loss=3.27]   \n",
      "Average Validation Loss of Epoch 8: 2.354315 | Acc: 10.31%\n",
      "####################Epoch 8 Model Saved#####################\n",
      "Increment early stopper to 7 because val loss (2.3543148867937984) is greater than threshold (2.304928492526619)\n",
      "Epoch 9\n",
      "100%|██████████| 311/311 [05:07<00:00,  1.01batch/s, accuracy=0.333, loss=2.2]\n",
      "Average Training Loss of Epoch 9: 2.145575 | Acc: 29.36%\n",
      "100%|██████████| 49/49 [00:42<00:00,  1.16batch/s, accuracy=0, loss=3.11]   \n",
      "Average Validation Loss of Epoch 9: 2.427822 | Acc: 9.79%\n",
      "####################Epoch 9 Model Saved#####################\n",
      "Increment early stopper to 8 because val loss (2.427821626468581) is greater than threshold (2.304928492526619)\n",
      "Epoch 10\n",
      "  0%|          | 0/311 [00:00<?, ?batch/s]"
     ]
    },
    {
     "name": "stdout",
     "output_type": "stream",
     "text": [
      "Epoch     9: reducing learning rate of group 0 to 1.0000e-07.\n"
     ]
    },
    {
     "name": "stderr",
     "output_type": "stream",
     "text": [
      "100%|██████████| 311/311 [05:12<00:00,  1.00s/batch, accuracy=0.333, loss=2.03]\n",
      "Average Training Loss of Epoch 10: 2.121360 | Acc: 30.25%\n",
      "100%|██████████| 49/49 [00:42<00:00,  1.15batch/s, accuracy=0, loss=2.33]   \n",
      "Average Validation Loss of Epoch 10: 2.342014 | Acc: 8.25%\n",
      "####################Epoch 10 Model Saved####################\n",
      "Increment early stopper to 9 because val loss (2.342013957549115) is greater than threshold (2.304928492526619)\n",
      "Epoch 11\n",
      "100%|██████████| 311/311 [05:06<00:00,  1.02batch/s, accuracy=0.667, loss=2]  \n",
      "Average Training Loss of Epoch 11: 2.124585 | Acc: 28.96%\n",
      "100%|██████████| 49/49 [00:42<00:00,  1.16batch/s, accuracy=0, loss=2.26]   \n",
      "Average Validation Loss of Epoch 11: 2.337740 | Acc: 6.19%\n",
      "####################Epoch 11 Model Saved####################\n",
      "Increment early stopper to 10 because val loss (2.3377399152638962) is greater than threshold (2.304928492526619)\n",
      "Model has overfit, early stopping...\n",
      "#####################Training Finished######################\n"
     ]
    },
    {
     "data": {
      "text/plain": [
       "CNN_LSTM(\n",
       "  (encoder): CNN_Encoder(\n",
       "    (conv1): Conv2d(3, 64, kernel_size=(3, 3), stride=(2, 2))\n",
       "    (maxpool): MaxPool2d(kernel_size=3, stride=2, padding=0, dilation=1, ceil_mode=False)\n",
       "    (layers): Sequential(\n",
       "      (0): ConvBlock(\n",
       "        (conv1): Conv2d(64, 64, kernel_size=(3, 3), stride=(1, 1))\n",
       "        (conv2): Conv2d(64, 64, kernel_size=(3, 3), stride=(1, 1))\n",
       "        (batchnorm1): BatchNorm2d(64, eps=1e-05, momentum=0.01, affine=True, track_running_stats=True)\n",
       "        (batchnorm2): BatchNorm2d(64, eps=1e-05, momentum=0.01, affine=True, track_running_stats=True)\n",
       "        (a_fn): ReLU()\n",
       "        (pool): MaxPool2d(kernel_size=2, stride=2, padding=0, dilation=1, ceil_mode=False)\n",
       "      )\n",
       "      (1): ConvBlock(\n",
       "        (conv1): Conv2d(64, 128, kernel_size=(3, 3), stride=(1, 1))\n",
       "        (conv2): Conv2d(128, 128, kernel_size=(3, 3), stride=(1, 1))\n",
       "        (batchnorm1): BatchNorm2d(128, eps=1e-05, momentum=0.01, affine=True, track_running_stats=True)\n",
       "        (batchnorm2): BatchNorm2d(128, eps=1e-05, momentum=0.01, affine=True, track_running_stats=True)\n",
       "        (a_fn): ReLU()\n",
       "        (pool): MaxPool2d(kernel_size=2, stride=2, padding=0, dilation=1, ceil_mode=False)\n",
       "      )\n",
       "      (2): ConvBlock(\n",
       "        (conv1): Conv2d(128, 256, kernel_size=(3, 3), stride=(1, 1))\n",
       "        (conv2): Conv2d(256, 256, kernel_size=(3, 3), stride=(1, 1))\n",
       "        (batchnorm1): BatchNorm2d(256, eps=1e-05, momentum=0.01, affine=True, track_running_stats=True)\n",
       "        (batchnorm2): BatchNorm2d(256, eps=1e-05, momentum=0.01, affine=True, track_running_stats=True)\n",
       "        (a_fn): ReLU()\n",
       "        (pool): MaxPool2d(kernel_size=2, stride=2, padding=0, dilation=1, ceil_mode=False)\n",
       "      )\n",
       "    )\n",
       "    (conv2): ConvBlock(\n",
       "      (conv1): Conv2d(256, 512, kernel_size=(3, 3), stride=(1, 1))\n",
       "      (conv2): Conv2d(512, 512, kernel_size=(3, 3), stride=(1, 1))\n",
       "      (batchnorm1): BatchNorm2d(512, eps=1e-05, momentum=0.01, affine=True, track_running_stats=True)\n",
       "      (batchnorm2): BatchNorm2d(512, eps=1e-05, momentum=0.01, affine=True, track_running_stats=True)\n",
       "      (a_fn): ReLU()\n",
       "      (pool): AdaptiveAvgPool2d(output_size=1)\n",
       "    )\n",
       "    (fc): Linear(in_features=512, out_features=512, bias=True)\n",
       "  )\n",
       "  (decoder): LSTM_Decoder(\n",
       "    (lstm): LSTM(512, 512, batch_first=True)\n",
       "    (fc1): Linear(in_features=512, out_features=10, bias=True)\n",
       "    (a_fn): ReLU()\n",
       "  )\n",
       "  (dropout): Dropout(p=0.1, inplace=False)\n",
       "  (softmax): Softmax(dim=1)\n",
       ")"
      ]
     },
     "execution_count": 20,
     "metadata": {},
     "output_type": "execute_result"
    }
   ],
   "source": [
    "train(model, \n",
    "      train_loader, \n",
    "      val_loader, \n",
    "      no_of_epochs, \n",
    "      logger,\n",
    "      writer,\n",
    "      save_dir=save_dir, \n",
    "      save_checkpoint=True,\n",
    "      device=device, \n",
    "      patience=10, \n",
    "      optimizer_lr=optimizer_lr, \n",
    "      use_scheduler=True)"
   ]
  },
  {
   "cell_type": "markdown",
   "metadata": {},
   "source": [
    "# Other experiments below"
   ]
  },
  {
   "cell_type": "markdown",
   "metadata": {},
   "source": [
    "#### w weight decay"
   ]
  },
  {
   "cell_type": "code",
   "execution_count": 16,
   "metadata": {},
   "outputs": [],
   "source": [
    "model = CNN_LSTM(n_classes, \n",
    "                 latent_size=512, \n",
    "                 n_cnn_layers=5, \n",
    "                 n_rnn_layers=1, \n",
    "                 n_rnn_hidden_dim=512, \n",
    "                 cnn_bn=True)"
   ]
  },
  {
   "cell_type": "code",
   "execution_count": 17,
   "metadata": {
    "scrolled": true
   },
   "outputs": [
    {
     "data": {
      "text/plain": [
       "==========================================================================================\n",
       "Layer (type:depth-idx)                   Output Shape              Param #\n",
       "==========================================================================================\n",
       "├─CNN_Encoder: 1-1                       [30, 512]                 --\n",
       "|    └─Conv2d: 2-1                       [30, 64, 127, 127]        1,792\n",
       "|    └─Sequential: 2-2                   [30, 64, 61, 61]          --\n",
       "|    |    └─ConvBlock: 3-1               [30, 64, 61, 61]          74,112\n",
       "|    └─ConvBlock: 2-3                    [30, 128, 1, 1]           --\n",
       "|    |    └─Conv2d: 3-2                  [30, 128, 59, 59]         73,856\n",
       "|    |    └─BatchNorm2d: 3-3             [30, 128, 59, 59]         256\n",
       "|    |    └─ReLU: 3-4                    [30, 128, 59, 59]         --\n",
       "|    |    └─Conv2d: 3-5                  [30, 128, 57, 57]         147,584\n",
       "|    |    └─BatchNorm2d: 3-6             [30, 128, 57, 57]         256\n",
       "|    |    └─ReLU: 3-7                    [30, 128, 57, 57]         --\n",
       "|    |    └─AdaptiveAvgPool2d: 3-8       [30, 128, 1, 1]           --\n",
       "|    └─Linear: 2-4                       [30, 512]                 66,048\n",
       "├─Dropout: 1-2                           [1, 30, 512]              --\n",
       "├─LSTM_Decoder: 1-3                      [1, 10]                   --\n",
       "|    └─LSTM: 2-5                         [1, 30, 512]              2,101,248\n",
       "|    └─Linear: 2-6                       [1, 10]                   5,130\n",
       "==========================================================================================\n",
       "Total params: 2,470,282\n",
       "Trainable params: 2,470,282\n",
       "Non-trainable params: 0\n",
       "Total mult-adds (G): 63.71\n",
       "==========================================================================================\n",
       "Input size (MB): 23.59\n",
       "Forward/backward pass size (MB): 1606.24\n",
       "Params size (MB): 9.88\n",
       "Estimated Total Size (MB): 1639.72\n",
       "=========================================================================================="
      ]
     },
     "execution_count": 17,
     "metadata": {},
     "output_type": "execute_result"
    }
   ],
   "source": [
    "summary(model, input_size=(1, 30, 3, 256, 256))"
   ]
  },
  {
   "cell_type": "code",
   "execution_count": 22,
   "metadata": {},
   "outputs": [],
   "source": [
    "# Hyperparams\n",
    "no_of_epochs = 30\n",
    "optimizer_lr = 1e-5\n",
    "weight_decay = 1e-5\n",
    "save_dir = \"saved_models/cnn_lstm2_512_3_1_512_weightd\""
   ]
  },
  {
   "cell_type": "code",
   "execution_count": null,
   "metadata": {
    "scrolled": true
   },
   "outputs": [
    {
     "name": "stderr",
     "output_type": "stream",
     "text": [
      "######################Training Started######################\n",
      "Epoch 1\n",
      "100%|██████████| 311/311 [05:29<00:00,  1.06s/batch, accuracy=0, loss=2.32]   \n",
      "Average Training Loss of Epoch 1: 2.307093 | Acc: 9.65%\n",
      "100%|██████████| 49/49 [00:47<00:00,  1.04batch/s, accuracy=0, loss=2.29]   \n",
      "Average Validation Loss of Epoch 1: 2.302886 | Acc: 10.31%\n",
      "####################Epoch 1 Model Saved#####################\n",
      "Epoch 2\n",
      "100%|██████████| 311/311 [05:28<00:00,  1.06s/batch, accuracy=0.333, loss=2.3]\n",
      "Average Training Loss of Epoch 2: 2.305597 | Acc: 9.17%\n",
      "100%|██████████| 49/49 [00:46<00:00,  1.04batch/s, accuracy=0, loss=2.31]   \n",
      "Average Validation Loss of Epoch 2: 2.303744 | Acc: 10.31%\n",
      "####################Epoch 2 Model Saved#####################\n",
      "Increment early stopper to 1 because val loss (2.3037443258324446) is greater than threshold (2.3028860919329586)\n",
      "Epoch 3\n",
      "100%|██████████| 311/311 [05:29<00:00,  1.06s/batch, accuracy=0, loss=2.31]   \n",
      "Average Training Loss of Epoch 3: 2.305223 | Acc: 8.85%\n",
      "100%|██████████| 49/49 [00:47<00:00,  1.03batch/s, accuracy=0, loss=2.31]   \n",
      "Average Validation Loss of Epoch 3: 2.302925 | Acc: 10.31%\n",
      "####################Epoch 3 Model Saved#####################\n",
      "Increment early stopper to 2 because val loss (2.3029246573545494) is greater than threshold (2.3028860919329586)\n",
      "Epoch 4\n",
      "100%|██████████| 311/311 [05:32<00:00,  1.07s/batch, accuracy=0, loss=2.32]   \n",
      "Average Training Loss of Epoch 4: 2.306013 | Acc: 7.72%\n",
      "100%|██████████| 49/49 [00:47<00:00,  1.03batch/s, accuracy=0, loss=2.33]   \n",
      "Average Validation Loss of Epoch 4: 2.304976 | Acc: 9.79%\n",
      "####################Epoch 4 Model Saved#####################\n",
      "Increment early stopper to 3 because val loss (2.3049757237337074) is greater than threshold (2.3028860919329586)\n",
      "Epoch 5\n",
      "100%|██████████| 311/311 [05:30<00:00,  1.06s/batch, accuracy=0, loss=2.3]    \n",
      "Average Training Loss of Epoch 5: 2.305018 | Acc: 8.53%\n",
      "100%|██████████| 49/49 [00:47<00:00,  1.02batch/s, accuracy=0, loss=2.33]   \n",
      "Average Validation Loss of Epoch 5: 2.301745 | Acc: 10.31%\n",
      "####################Epoch 5 Model Saved#####################\n",
      "Epoch 6\n",
      "100%|██████████| 311/311 [05:30<00:00,  1.06s/batch, accuracy=0, loss=2.31]   \n",
      "Average Training Loss of Epoch 6: 2.303901 | Acc: 8.61%\n",
      "100%|██████████| 49/49 [00:47<00:00,  1.04batch/s, accuracy=0, loss=2.28]   \n",
      "Average Validation Loss of Epoch 6: 2.309599 | Acc: 8.76%\n",
      "####################Epoch 6 Model Saved#####################\n",
      "Increment early stopper to 1 because val loss (2.3095991611480713) is greater than threshold (2.3017448649114494)\n",
      "Epoch 7\n",
      "100%|██████████| 311/311 [05:30<00:00,  1.06s/batch, accuracy=0, loss=2.32]   \n",
      "Average Training Loss of Epoch 7: 2.304066 | Acc: 9.01%\n",
      "100%|██████████| 49/49 [00:47<00:00,  1.03batch/s, accuracy=0, loss=2.36]   \n",
      "Average Validation Loss of Epoch 7: 2.304421 | Acc: 9.79%\n",
      "####################Epoch 7 Model Saved#####################\n",
      "Increment early stopper to 2 because val loss (2.3044214200000375) is greater than threshold (2.3017448649114494)\n",
      "Epoch 8\n",
      "100%|██████████| 311/311 [05:31<00:00,  1.07s/batch, accuracy=0, loss=2.3]    \n",
      "Average Training Loss of Epoch 8: 2.303628 | Acc: 9.33%\n",
      "100%|██████████| 49/49 [00:47<00:00,  1.04batch/s, accuracy=0, loss=2.37]   \n",
      "Average Validation Loss of Epoch 8: 2.306168 | Acc: 10.31%\n",
      "####################Epoch 8 Model Saved#####################\n",
      "Increment early stopper to 3 because val loss (2.306168259406576) is greater than threshold (2.3017448649114494)\n",
      "Epoch 9\n",
      "100%|██████████| 311/311 [05:27<00:00,  1.05s/batch, accuracy=0, loss=2.29]   \n",
      "Average Training Loss of Epoch 9: 2.303108 | Acc: 8.29%\n",
      "100%|██████████| 49/49 [00:46<00:00,  1.06batch/s, accuracy=0, loss=2.39]   \n",
      "Average Validation Loss of Epoch 9: 2.306702 | Acc: 10.31%\n",
      "####################Epoch 9 Model Saved#####################\n",
      "Increment early stopper to 4 because val loss (2.3067021418590934) is greater than threshold (2.3017448649114494)\n",
      "Epoch 10\n",
      " 51%|█████     | 158/311 [02:47<02:42,  1.06s/batch, accuracy=0, loss=2.31]   "
     ]
    }
   ],
   "source": [
    "train(model, \n",
    "      train_loader, \n",
    "      val_loader, \n",
    "      no_of_epochs, \n",
    "      logger,\n",
    "      writer,\n",
    "      save_dir=save_dir, \n",
    "      save_checkpoint=True,\n",
    "      device=device, \n",
    "      patience=10, \n",
    "      optimizer_lr=optimizer_lr, \n",
    "      weight_decay=weight_decay)"
   ]
  },
  {
   "cell_type": "code",
   "execution_count": null,
   "metadata": {},
   "outputs": [],
   "source": []
  },
  {
   "cell_type": "markdown",
   "metadata": {},
   "source": [
    "### GRU"
   ]
  },
  {
   "cell_type": "code",
   "execution_count": null,
   "metadata": {},
   "outputs": [],
   "source": [
    "from models import CNN_GRU"
   ]
  },
  {
   "cell_type": "code",
   "execution_count": null,
   "metadata": {},
   "outputs": [],
   "source": [
    "model = CNN_GRU(n_classes, \n",
    "                 latent_size=512, \n",
    "                 n_cnn_layers=3, \n",
    "                 n_rnn_layers=1, \n",
    "                 n_rnn_hidden_dim=512, \n",
    "                 cnn_bn=True)"
   ]
  },
  {
   "cell_type": "code",
   "execution_count": null,
   "metadata": {},
   "outputs": [],
   "source": [
    "summary(model, input_size=(1, 30, 3, 256, 256))"
   ]
  },
  {
   "cell_type": "code",
   "execution_count": null,
   "metadata": {},
   "outputs": [],
   "source": [
    "# Hyperparams\n",
    "no_of_epochs = 1000\n",
    "optimizer_lr = 1e-5\n",
    "save_dir = \"saved_models/cnn_gru_512_3_1_512\""
   ]
  },
  {
   "cell_type": "code",
   "execution_count": null,
   "metadata": {},
   "outputs": [],
   "source": [
    "train(model, \n",
    "      train_loader, \n",
    "      val_loader, \n",
    "      no_of_epochs, \n",
    "      logger,\n",
    "      writer,\n",
    "      save_dir=save_dir, \n",
    "      save_checkpoint=True,\n",
    "      device=device, \n",
    "      patience=10, \n",
    "      optimizer_lr=optimizer_lr)"
   ]
  },
  {
   "cell_type": "markdown",
   "metadata": {},
   "source": [
    "### RNN"
   ]
  },
  {
   "cell_type": "code",
   "execution_count": null,
   "metadata": {},
   "outputs": [],
   "source": []
  },
  {
   "cell_type": "code",
   "execution_count": null,
   "metadata": {},
   "outputs": [],
   "source": []
  },
  {
   "cell_type": "code",
   "execution_count": null,
   "metadata": {},
   "outputs": [],
   "source": []
  },
  {
   "cell_type": "code",
   "execution_count": 17,
   "metadata": {},
   "outputs": [],
   "source": [
    "if torch.cuda.device_count() > 1:\n",
    "    logger.info(\"Using {} GPUs\".format(torch.cuda.device_count()))\n",
    "    model = nn.DataParallel(model)"
   ]
  },
  {
   "cell_type": "code",
   "execution_count": 18,
   "metadata": {},
   "outputs": [],
   "source": [
    "# Hyperparams\n",
    "no_of_epochs = 1000\n",
    "optimizer_lr = 1e-5\n",
    "save_dir = \"saved_models/cnn_lstm_7_3_1_512\"\n",
    "# save_dir = \"saved_models/cnn_lstm_test\"\n",
    "# sample_size = 128\n",
    "# sample_duration = 16\n",
    "# num_classes = 100\n",
    "# lstm_hidden_size = 512\n",
    "# lstm_num_layers = 1\n",
    "# attention = False"
   ]
  },
  {
   "cell_type": "code",
   "execution_count": 19,
   "metadata": {
    "scrolled": true
   },
   "outputs": [
    {
     "name": "stderr",
     "output_type": "stream",
     "text": [
      "######################Training Started######################\n",
      "Epoch 1\n",
      "100%|██████████| 1243/1243 [08:17<00:00,  2.50batch/s, accuracy=0, loss=2.32]\n",
      "Average Training Loss of Epoch 2: 2.311381 | Acc: 9.81%\n",
      "100%|██████████| 194/194 [00:54<00:00,  3.55batch/s, accuracy=0, loss=2.31]\n",
      "Average Validation Loss of Epoch 2: 2.306467 | Acc: 9.79%\n",
      "####################Epoch 1 Model Saved#####################\n",
      "Epoch 2\n",
      "100%|██████████| 1243/1243 [08:19<00:00,  2.49batch/s, accuracy=1, loss=2.14]\n",
      "Average Training Loss of Epoch 3: 2.311290 | Acc: 8.37%\n",
      "100%|██████████| 194/194 [00:54<00:00,  3.56batch/s, accuracy=0, loss=2.33]\n",
      "Average Validation Loss of Epoch 3: 2.306574 | Acc: 8.76%\n",
      "####################Epoch 2 Model Saved#####################\n",
      "Epoch 3\n",
      "  0%|          | 0/1243 [00:00<?, ?batch/s]"
     ]
    },
    {
     "name": "stdout",
     "output_type": "stream",
     "text": [
      "Increment early stopper to 1 because val loss (2.3065741652065945) is greater than threshold (2.306467354912119)\n"
     ]
    },
    {
     "name": "stderr",
     "output_type": "stream",
     "text": [
      "100%|██████████| 1243/1243 [08:20<00:00,  2.48batch/s, accuracy=0, loss=2.38]\n",
      "Average Training Loss of Epoch 4: 2.311438 | Acc: 9.17%\n",
      "100%|██████████| 194/194 [00:55<00:00,  3.50batch/s, accuracy=0, loss=2.34]\n",
      "Average Validation Loss of Epoch 4: 2.303561 | Acc: 9.79%\n",
      "####################Epoch 3 Model Saved#####################\n",
      "Epoch 4\n",
      "100%|██████████| 1243/1243 [08:17<00:00,  2.50batch/s, accuracy=1, loss=2.03]\n",
      "Average Training Loss of Epoch 5: 2.308335 | Acc: 9.90%\n",
      "100%|██████████| 194/194 [00:54<00:00,  3.56batch/s, accuracy=0, loss=2.35]\n",
      "Average Validation Loss of Epoch 5: 2.307190 | Acc: 9.79%\n",
      "####################Epoch 4 Model Saved#####################\n",
      "Epoch 5\n",
      "  0%|          | 0/1243 [00:00<?, ?batch/s]"
     ]
    },
    {
     "name": "stdout",
     "output_type": "stream",
     "text": [
      "Increment early stopper to 1 because val loss (2.3071902068619874) is greater than threshold (2.3035611934268596)\n"
     ]
    },
    {
     "name": "stderr",
     "output_type": "stream",
     "text": [
      "100%|██████████| 1243/1243 [08:15<00:00,  2.51batch/s, accuracy=0, loss=2.4] \n",
      "Average Training Loss of Epoch 6: 2.309446 | Acc: 9.09%\n",
      "100%|██████████| 194/194 [00:55<00:00,  3.52batch/s, accuracy=0, loss=2.35]\n",
      "Average Validation Loss of Epoch 6: 2.306353 | Acc: 10.31%\n",
      "####################Epoch 5 Model Saved#####################\n",
      "Epoch 6\n",
      "  0%|          | 0/1243 [00:00<?, ?batch/s]"
     ]
    },
    {
     "name": "stdout",
     "output_type": "stream",
     "text": [
      "Increment early stopper to 2 because val loss (2.3063528427143685) is greater than threshold (2.3035611934268596)\n"
     ]
    },
    {
     "name": "stderr",
     "output_type": "stream",
     "text": [
      "100%|██████████| 1243/1243 [08:22<00:00,  2.48batch/s, accuracy=0, loss=2.32]\n",
      "Average Training Loss of Epoch 7: 2.310766 | Acc: 8.93%\n",
      "100%|██████████| 194/194 [00:54<00:00,  3.57batch/s, accuracy=0, loss=2.36]\n",
      "Average Validation Loss of Epoch 7: 2.302652 | Acc: 10.31%\n",
      "####################Epoch 6 Model Saved#####################\n",
      "Epoch 7\n",
      "100%|██████████| 1243/1243 [08:15<00:00,  2.51batch/s, accuracy=1, loss=2.24]\n",
      "Average Training Loss of Epoch 8: 2.311297 | Acc: 7.96%\n",
      "100%|██████████| 194/194 [00:55<00:00,  3.52batch/s, accuracy=0, loss=2.33]\n",
      "Average Validation Loss of Epoch 8: 2.303501 | Acc: 9.79%\n",
      "####################Epoch 7 Model Saved#####################\n",
      "Epoch 8\n",
      "  0%|          | 0/1243 [00:00<?, ?batch/s]"
     ]
    },
    {
     "name": "stdout",
     "output_type": "stream",
     "text": [
      "Increment early stopper to 1 because val loss (2.303501447451483) is greater than threshold (2.302651710116986)\n"
     ]
    },
    {
     "name": "stderr",
     "output_type": "stream",
     "text": [
      "100%|██████████| 1243/1243 [08:16<00:00,  2.50batch/s, accuracy=1, loss=2.09]\n",
      "Average Training Loss of Epoch 9: 2.307127 | Acc: 10.06%\n",
      "100%|██████████| 194/194 [00:54<00:00,  3.57batch/s, accuracy=0, loss=2.39]\n",
      "Average Validation Loss of Epoch 9: 2.313574 | Acc: 10.31%\n",
      "####################Epoch 8 Model Saved#####################\n",
      "Epoch 9\n",
      "  0%|          | 0/1243 [00:00<?, ?batch/s]"
     ]
    },
    {
     "name": "stdout",
     "output_type": "stream",
     "text": [
      "Increment early stopper to 2 because val loss (2.3135736099223503) is greater than threshold (2.302651710116986)\n"
     ]
    },
    {
     "name": "stderr",
     "output_type": "stream",
     "text": [
      "100%|██████████| 1243/1243 [08:13<00:00,  2.52batch/s, accuracy=0, loss=2.31]\n",
      "Average Training Loss of Epoch 10: 2.311952 | Acc: 8.29%\n",
      "100%|██████████| 194/194 [00:54<00:00,  3.57batch/s, accuracy=0, loss=2.32]\n",
      "Average Validation Loss of Epoch 10: 2.303765 | Acc: 10.31%\n",
      "####################Epoch 9 Model Saved#####################\n",
      "Epoch 10\n",
      "  0%|          | 0/1243 [00:00<?, ?batch/s]"
     ]
    },
    {
     "name": "stdout",
     "output_type": "stream",
     "text": [
      "Increment early stopper to 3 because val loss (2.303765425977019) is greater than threshold (2.302651710116986)\n"
     ]
    },
    {
     "name": "stderr",
     "output_type": "stream",
     "text": [
      "100%|██████████| 1243/1243 [08:17<00:00,  2.50batch/s, accuracy=0, loss=2.25]\n",
      "Average Training Loss of Epoch 11: 2.310190 | Acc: 8.85%\n",
      "100%|██████████| 194/194 [00:55<00:00,  3.51batch/s, accuracy=0, loss=2.33]\n",
      "Average Validation Loss of Epoch 11: 2.302614 | Acc: 9.79%\n",
      "####################Epoch 10 Model Saved####################\n",
      "Epoch 11\n",
      "100%|██████████| 1243/1243 [08:31<00:00,  2.43batch/s, accuracy=0, loss=2.34]\n",
      "Average Training Loss of Epoch 12: 2.308601 | Acc: 9.98%\n",
      "100%|██████████| 194/194 [00:56<00:00,  3.43batch/s, accuracy=0, loss=2.3] \n",
      "Average Validation Loss of Epoch 12: 2.302675 | Acc: 10.31%\n",
      "####################Epoch 11 Model Saved####################\n",
      "Epoch 12\n",
      "  0%|          | 0/1243 [00:00<?, ?batch/s]"
     ]
    },
    {
     "name": "stdout",
     "output_type": "stream",
     "text": [
      "Increment early stopper to 1 because val loss (2.3026751267541314) is greater than threshold (2.3026137265962423)\n"
     ]
    },
    {
     "name": "stderr",
     "output_type": "stream",
     "text": [
      "100%|██████████| 1243/1243 [08:23<00:00,  2.47batch/s, accuracy=0, loss=2.34]\n",
      "Average Training Loss of Epoch 13: 2.309350 | Acc: 10.38%\n",
      "100%|██████████| 194/194 [00:54<00:00,  3.56batch/s, accuracy=0, loss=2.29]\n",
      "Average Validation Loss of Epoch 13: 2.305182 | Acc: 10.31%\n",
      "####################Epoch 12 Model Saved####################\n",
      "Epoch 13\n",
      "  0%|          | 0/1243 [00:00<?, ?batch/s]"
     ]
    },
    {
     "name": "stdout",
     "output_type": "stream",
     "text": [
      "Increment early stopper to 2 because val loss (2.3051820981133844) is greater than threshold (2.3026137265962423)\n"
     ]
    },
    {
     "name": "stderr",
     "output_type": "stream",
     "text": [
      "100%|██████████| 1243/1243 [08:16<00:00,  2.50batch/s, accuracy=0, loss=2.34]\n",
      "Average Training Loss of Epoch 14: 2.310773 | Acc: 8.05%\n",
      "100%|██████████| 194/194 [00:54<00:00,  3.58batch/s, accuracy=0, loss=2.33]\n",
      "Average Validation Loss of Epoch 14: 2.302495 | Acc: 10.31%\n",
      "####################Epoch 13 Model Saved####################\n",
      "Epoch 14\n",
      "100%|██████████| 1243/1243 [08:17<00:00,  2.50batch/s, accuracy=0, loss=2.3] \n",
      "Average Training Loss of Epoch 15: 2.311000 | Acc: 9.65%\n",
      "100%|██████████| 194/194 [00:55<00:00,  3.50batch/s, accuracy=0, loss=2.31]\n",
      "Average Validation Loss of Epoch 15: 2.305094 | Acc: 9.79%\n",
      "####################Epoch 14 Model Saved####################\n",
      "Epoch 15\n",
      "  0%|          | 0/1243 [00:00<?, ?batch/s]"
     ]
    },
    {
     "name": "stdout",
     "output_type": "stream",
     "text": [
      "Increment early stopper to 1 because val loss (2.305093926252778) is greater than threshold (2.302495033470626)\n"
     ]
    },
    {
     "name": "stderr",
     "output_type": "stream",
     "text": [
      "100%|██████████| 1243/1243 [08:16<00:00,  2.50batch/s, accuracy=1, loss=2.05]\n",
      "Average Training Loss of Epoch 16: 2.312573 | Acc: 9.01%\n",
      "100%|██████████| 194/194 [00:54<00:00,  3.57batch/s, accuracy=1, loss=2.2] \n",
      "Average Validation Loss of Epoch 16: 2.305358 | Acc: 10.31%\n",
      "####################Epoch 15 Model Saved####################\n",
      "Epoch 16\n",
      "  0%|          | 0/1243 [00:00<?, ?batch/s]"
     ]
    },
    {
     "name": "stdout",
     "output_type": "stream",
     "text": [
      "Increment early stopper to 2 because val loss (2.3053582415138325) is greater than threshold (2.302495033470626)\n"
     ]
    },
    {
     "name": "stderr",
     "output_type": "stream",
     "text": [
      "100%|██████████| 1243/1243 [08:14<00:00,  2.52batch/s, accuracy=0, loss=2.39]\n",
      "Average Training Loss of Epoch 17: 2.311398 | Acc: 7.96%\n",
      "100%|██████████| 194/194 [00:54<00:00,  3.58batch/s, accuracy=0, loss=2.36]\n",
      "Average Validation Loss of Epoch 17: 2.304583 | Acc: 10.31%\n",
      "####################Epoch 16 Model Saved####################\n",
      "Epoch 17\n",
      "  0%|          | 0/1243 [00:00<?, ?batch/s]"
     ]
    },
    {
     "name": "stdout",
     "output_type": "stream",
     "text": [
      "Increment early stopper to 3 because val loss (2.304583432748146) is greater than threshold (2.302495033470626)\n"
     ]
    },
    {
     "name": "stderr",
     "output_type": "stream",
     "text": [
      "100%|██████████| 1243/1243 [08:12<00:00,  2.52batch/s, accuracy=0, loss=2.37]\n",
      "Average Training Loss of Epoch 18: 2.310488 | Acc: 9.33%\n",
      "100%|██████████| 194/194 [00:54<00:00,  3.53batch/s, accuracy=0, loss=2.35]\n",
      "Average Validation Loss of Epoch 18: 2.304921 | Acc: 10.31%\n",
      "####################Epoch 17 Model Saved####################\n",
      "Epoch 18\n",
      "  0%|          | 0/1243 [00:00<?, ?batch/s]"
     ]
    },
    {
     "name": "stdout",
     "output_type": "stream",
     "text": [
      "Increment early stopper to 4 because val loss (2.3049206426463176) is greater than threshold (2.302495033470626)\n"
     ]
    },
    {
     "name": "stderr",
     "output_type": "stream",
     "text": [
      " 65%|██████▌   | 809/1243 [05:22<02:52,  2.51batch/s, accuracy=1, loss=2.21]\n"
     ]
    },
    {
     "ename": "KeyboardInterrupt",
     "evalue": "",
     "output_type": "error",
     "traceback": [
      "\u001b[0;31m---------------------------------------------------------------------------\u001b[0m",
      "\u001b[0;31mKeyboardInterrupt\u001b[0m                         Traceback (most recent call last)",
      "\u001b[0;32m<ipython-input-19-36353b1375f3>\u001b[0m in \u001b[0;36m<module>\u001b[0;34m\u001b[0m\n\u001b[1;32m      9\u001b[0m       \u001b[0mdevice\u001b[0m\u001b[0;34m=\u001b[0m\u001b[0mdevice\u001b[0m\u001b[0;34m,\u001b[0m\u001b[0;34m\u001b[0m\u001b[0;34m\u001b[0m\u001b[0m\n\u001b[1;32m     10\u001b[0m       \u001b[0mpatience\u001b[0m\u001b[0;34m=\u001b[0m\u001b[0;36m10\u001b[0m\u001b[0;34m,\u001b[0m\u001b[0;34m\u001b[0m\u001b[0;34m\u001b[0m\u001b[0m\n\u001b[0;32m---> 11\u001b[0;31m       optimizer_lr=optimizer_lr)\n\u001b[0m",
      "\u001b[0;32m~/signo-lingo/model_fns.py\u001b[0m in \u001b[0;36mtrain\u001b[0;34m(model, train_loader, val_loader, no_of_epochs, logger, writer, save_dir, save_checkpoint, load_dir, load_epoch, load_checkpoint, device, patience, optimizer_lr, weight_decay)\u001b[0m\n\u001b[1;32m    158\u001b[0m \u001b[0;34m\u001b[0m\u001b[0m\n\u001b[1;32m    159\u001b[0m         \u001b[0;31m# Train the model\u001b[0m\u001b[0;34m\u001b[0m\u001b[0;34m\u001b[0m\u001b[0;34m\u001b[0m\u001b[0m\n\u001b[0;32m--> 160\u001b[0;31m         \u001b[0mtrain_loss\u001b[0m\u001b[0;34m,\u001b[0m \u001b[0mtrain_acc\u001b[0m \u001b[0;34m=\u001b[0m \u001b[0m_train_epoch\u001b[0m\u001b[0;34m(\u001b[0m\u001b[0mmodel\u001b[0m\u001b[0;34m,\u001b[0m \u001b[0mcriterion\u001b[0m\u001b[0;34m,\u001b[0m \u001b[0moptimizer\u001b[0m\u001b[0;34m,\u001b[0m \u001b[0mtrain_loader\u001b[0m\u001b[0;34m,\u001b[0m \u001b[0mdevice\u001b[0m\u001b[0;34m)\u001b[0m\u001b[0;34m\u001b[0m\u001b[0;34m\u001b[0m\u001b[0m\n\u001b[0m\u001b[1;32m    161\u001b[0m \u001b[0;34m\u001b[0m\u001b[0m\n\u001b[1;32m    162\u001b[0m         \u001b[0mwriter\u001b[0m\u001b[0;34m.\u001b[0m\u001b[0madd_scalars\u001b[0m\u001b[0;34m(\u001b[0m\u001b[0;34m'Loss'\u001b[0m\u001b[0;34m,\u001b[0m \u001b[0;34m{\u001b[0m\u001b[0;34m'train'\u001b[0m\u001b[0;34m:\u001b[0m \u001b[0mtrain_loss\u001b[0m\u001b[0;34m}\u001b[0m\u001b[0;34m,\u001b[0m \u001b[0mepoch\u001b[0m\u001b[0;34m+\u001b[0m\u001b[0;36m1\u001b[0m\u001b[0;34m)\u001b[0m\u001b[0;34m\u001b[0m\u001b[0;34m\u001b[0m\u001b[0m\n",
      "\u001b[0;32m~/signo-lingo/model_fns.py\u001b[0m in \u001b[0;36m_train_epoch\u001b[0;34m(model, criterion, optimizer, dataloader, device)\u001b[0m\n\u001b[1;32m     43\u001b[0m \u001b[0;34m\u001b[0m\u001b[0m\n\u001b[1;32m     44\u001b[0m     \u001b[0;32mwith\u001b[0m \u001b[0mtqdm\u001b[0m\u001b[0;34m(\u001b[0m\u001b[0mdataloader\u001b[0m\u001b[0;34m,\u001b[0m \u001b[0munit\u001b[0m\u001b[0;34m=\u001b[0m\u001b[0;34m\"batch\"\u001b[0m\u001b[0;34m)\u001b[0m \u001b[0;32mas\u001b[0m \u001b[0mtepoch\u001b[0m\u001b[0;34m:\u001b[0m\u001b[0;34m\u001b[0m\u001b[0;34m\u001b[0m\u001b[0m\n\u001b[0;32m---> 45\u001b[0;31m         \u001b[0;32mfor\u001b[0m \u001b[0minputs\u001b[0m\u001b[0;34m,\u001b[0m \u001b[0mlabels\u001b[0m \u001b[0;32min\u001b[0m \u001b[0mtepoch\u001b[0m\u001b[0;34m:\u001b[0m\u001b[0;34m\u001b[0m\u001b[0;34m\u001b[0m\u001b[0m\n\u001b[0m\u001b[1;32m     46\u001b[0m             \u001b[0;31m# get the inputs and labels\u001b[0m\u001b[0;34m\u001b[0m\u001b[0;34m\u001b[0m\u001b[0;34m\u001b[0m\u001b[0m\n\u001b[1;32m     47\u001b[0m             \u001b[0minputs\u001b[0m\u001b[0;34m,\u001b[0m \u001b[0mlabels\u001b[0m \u001b[0;34m=\u001b[0m \u001b[0minputs\u001b[0m\u001b[0;34m.\u001b[0m\u001b[0mto\u001b[0m\u001b[0;34m(\u001b[0m\u001b[0mdevice\u001b[0m\u001b[0;34m)\u001b[0m\u001b[0;34m,\u001b[0m \u001b[0mlabels\u001b[0m\u001b[0;34m.\u001b[0m\u001b[0mto\u001b[0m\u001b[0;34m(\u001b[0m\u001b[0mdevice\u001b[0m\u001b[0;34m)\u001b[0m\u001b[0;34m\u001b[0m\u001b[0;34m\u001b[0m\u001b[0m\n",
      "\u001b[0;32m~/signo-lingo/venv/lib/python3.6/site-packages/tqdm/std.py\u001b[0m in \u001b[0;36m__iter__\u001b[0;34m(self)\u001b[0m\n\u001b[1;32m   1176\u001b[0m \u001b[0;34m\u001b[0m\u001b[0m\n\u001b[1;32m   1177\u001b[0m         \u001b[0;32mtry\u001b[0m\u001b[0;34m:\u001b[0m\u001b[0;34m\u001b[0m\u001b[0;34m\u001b[0m\u001b[0m\n\u001b[0;32m-> 1178\u001b[0;31m             \u001b[0;32mfor\u001b[0m \u001b[0mobj\u001b[0m \u001b[0;32min\u001b[0m \u001b[0miterable\u001b[0m\u001b[0;34m:\u001b[0m\u001b[0;34m\u001b[0m\u001b[0;34m\u001b[0m\u001b[0m\n\u001b[0m\u001b[1;32m   1179\u001b[0m                 \u001b[0;32myield\u001b[0m \u001b[0mobj\u001b[0m\u001b[0;34m\u001b[0m\u001b[0;34m\u001b[0m\u001b[0m\n\u001b[1;32m   1180\u001b[0m                 \u001b[0;31m# Update and possibly print the progressbar.\u001b[0m\u001b[0;34m\u001b[0m\u001b[0;34m\u001b[0m\u001b[0;34m\u001b[0m\u001b[0m\n",
      "\u001b[0;32m~/signo-lingo/venv/lib/python3.6/site-packages/torch/utils/data/dataloader.py\u001b[0m in \u001b[0;36m__next__\u001b[0;34m(self)\u001b[0m\n\u001b[1;32m    343\u001b[0m \u001b[0;34m\u001b[0m\u001b[0m\n\u001b[1;32m    344\u001b[0m     \u001b[0;32mdef\u001b[0m \u001b[0m__next__\u001b[0m\u001b[0;34m(\u001b[0m\u001b[0mself\u001b[0m\u001b[0;34m)\u001b[0m\u001b[0;34m:\u001b[0m\u001b[0;34m\u001b[0m\u001b[0;34m\u001b[0m\u001b[0m\n\u001b[0;32m--> 345\u001b[0;31m         \u001b[0mdata\u001b[0m \u001b[0;34m=\u001b[0m \u001b[0mself\u001b[0m\u001b[0;34m.\u001b[0m\u001b[0m_next_data\u001b[0m\u001b[0;34m(\u001b[0m\u001b[0;34m)\u001b[0m\u001b[0;34m\u001b[0m\u001b[0;34m\u001b[0m\u001b[0m\n\u001b[0m\u001b[1;32m    346\u001b[0m         \u001b[0mself\u001b[0m\u001b[0;34m.\u001b[0m\u001b[0m_num_yielded\u001b[0m \u001b[0;34m+=\u001b[0m \u001b[0;36m1\u001b[0m\u001b[0;34m\u001b[0m\u001b[0;34m\u001b[0m\u001b[0m\n\u001b[1;32m    347\u001b[0m         \u001b[0;32mif\u001b[0m \u001b[0mself\u001b[0m\u001b[0;34m.\u001b[0m\u001b[0m_dataset_kind\u001b[0m \u001b[0;34m==\u001b[0m \u001b[0m_DatasetKind\u001b[0m\u001b[0;34m.\u001b[0m\u001b[0mIterable\u001b[0m \u001b[0;32mand\u001b[0m\u001b[0;31m \u001b[0m\u001b[0;31m\\\u001b[0m\u001b[0;34m\u001b[0m\u001b[0;34m\u001b[0m\u001b[0m\n",
      "\u001b[0;32m~/signo-lingo/venv/lib/python3.6/site-packages/torch/utils/data/dataloader.py\u001b[0m in \u001b[0;36m_next_data\u001b[0;34m(self)\u001b[0m\n\u001b[1;32m    383\u001b[0m     \u001b[0;32mdef\u001b[0m \u001b[0m_next_data\u001b[0m\u001b[0;34m(\u001b[0m\u001b[0mself\u001b[0m\u001b[0;34m)\u001b[0m\u001b[0;34m:\u001b[0m\u001b[0;34m\u001b[0m\u001b[0;34m\u001b[0m\u001b[0m\n\u001b[1;32m    384\u001b[0m         \u001b[0mindex\u001b[0m \u001b[0;34m=\u001b[0m \u001b[0mself\u001b[0m\u001b[0;34m.\u001b[0m\u001b[0m_next_index\u001b[0m\u001b[0;34m(\u001b[0m\u001b[0;34m)\u001b[0m  \u001b[0;31m# may raise StopIteration\u001b[0m\u001b[0;34m\u001b[0m\u001b[0;34m\u001b[0m\u001b[0m\n\u001b[0;32m--> 385\u001b[0;31m         \u001b[0mdata\u001b[0m \u001b[0;34m=\u001b[0m \u001b[0mself\u001b[0m\u001b[0;34m.\u001b[0m\u001b[0m_dataset_fetcher\u001b[0m\u001b[0;34m.\u001b[0m\u001b[0mfetch\u001b[0m\u001b[0;34m(\u001b[0m\u001b[0mindex\u001b[0m\u001b[0;34m)\u001b[0m  \u001b[0;31m# may raise StopIteration\u001b[0m\u001b[0;34m\u001b[0m\u001b[0;34m\u001b[0m\u001b[0m\n\u001b[0m\u001b[1;32m    386\u001b[0m         \u001b[0;32mif\u001b[0m \u001b[0mself\u001b[0m\u001b[0;34m.\u001b[0m\u001b[0m_pin_memory\u001b[0m\u001b[0;34m:\u001b[0m\u001b[0;34m\u001b[0m\u001b[0;34m\u001b[0m\u001b[0m\n\u001b[1;32m    387\u001b[0m             \u001b[0mdata\u001b[0m \u001b[0;34m=\u001b[0m \u001b[0m_utils\u001b[0m\u001b[0;34m.\u001b[0m\u001b[0mpin_memory\u001b[0m\u001b[0;34m.\u001b[0m\u001b[0mpin_memory\u001b[0m\u001b[0;34m(\u001b[0m\u001b[0mdata\u001b[0m\u001b[0;34m)\u001b[0m\u001b[0;34m\u001b[0m\u001b[0;34m\u001b[0m\u001b[0m\n",
      "\u001b[0;32m~/signo-lingo/venv/lib/python3.6/site-packages/torch/utils/data/_utils/fetch.py\u001b[0m in \u001b[0;36mfetch\u001b[0;34m(self, possibly_batched_index)\u001b[0m\n\u001b[1;32m     42\u001b[0m     \u001b[0;32mdef\u001b[0m \u001b[0mfetch\u001b[0m\u001b[0;34m(\u001b[0m\u001b[0mself\u001b[0m\u001b[0;34m,\u001b[0m \u001b[0mpossibly_batched_index\u001b[0m\u001b[0;34m)\u001b[0m\u001b[0;34m:\u001b[0m\u001b[0;34m\u001b[0m\u001b[0;34m\u001b[0m\u001b[0m\n\u001b[1;32m     43\u001b[0m         \u001b[0;32mif\u001b[0m \u001b[0mself\u001b[0m\u001b[0;34m.\u001b[0m\u001b[0mauto_collation\u001b[0m\u001b[0;34m:\u001b[0m\u001b[0;34m\u001b[0m\u001b[0;34m\u001b[0m\u001b[0m\n\u001b[0;32m---> 44\u001b[0;31m             \u001b[0mdata\u001b[0m \u001b[0;34m=\u001b[0m \u001b[0;34m[\u001b[0m\u001b[0mself\u001b[0m\u001b[0;34m.\u001b[0m\u001b[0mdataset\u001b[0m\u001b[0;34m[\u001b[0m\u001b[0midx\u001b[0m\u001b[0;34m]\u001b[0m \u001b[0;32mfor\u001b[0m \u001b[0midx\u001b[0m \u001b[0;32min\u001b[0m \u001b[0mpossibly_batched_index\u001b[0m\u001b[0;34m]\u001b[0m\u001b[0;34m\u001b[0m\u001b[0;34m\u001b[0m\u001b[0m\n\u001b[0m\u001b[1;32m     45\u001b[0m         \u001b[0;32melse\u001b[0m\u001b[0;34m:\u001b[0m\u001b[0;34m\u001b[0m\u001b[0;34m\u001b[0m\u001b[0m\n\u001b[1;32m     46\u001b[0m             \u001b[0mdata\u001b[0m \u001b[0;34m=\u001b[0m \u001b[0mself\u001b[0m\u001b[0;34m.\u001b[0m\u001b[0mdataset\u001b[0m\u001b[0;34m[\u001b[0m\u001b[0mpossibly_batched_index\u001b[0m\u001b[0;34m]\u001b[0m\u001b[0;34m\u001b[0m\u001b[0;34m\u001b[0m\u001b[0m\n",
      "\u001b[0;32m~/signo-lingo/venv/lib/python3.6/site-packages/torch/utils/data/_utils/fetch.py\u001b[0m in \u001b[0;36m<listcomp>\u001b[0;34m(.0)\u001b[0m\n\u001b[1;32m     42\u001b[0m     \u001b[0;32mdef\u001b[0m \u001b[0mfetch\u001b[0m\u001b[0;34m(\u001b[0m\u001b[0mself\u001b[0m\u001b[0;34m,\u001b[0m \u001b[0mpossibly_batched_index\u001b[0m\u001b[0;34m)\u001b[0m\u001b[0;34m:\u001b[0m\u001b[0;34m\u001b[0m\u001b[0;34m\u001b[0m\u001b[0m\n\u001b[1;32m     43\u001b[0m         \u001b[0;32mif\u001b[0m \u001b[0mself\u001b[0m\u001b[0;34m.\u001b[0m\u001b[0mauto_collation\u001b[0m\u001b[0;34m:\u001b[0m\u001b[0;34m\u001b[0m\u001b[0;34m\u001b[0m\u001b[0m\n\u001b[0;32m---> 44\u001b[0;31m             \u001b[0mdata\u001b[0m \u001b[0;34m=\u001b[0m \u001b[0;34m[\u001b[0m\u001b[0mself\u001b[0m\u001b[0;34m.\u001b[0m\u001b[0mdataset\u001b[0m\u001b[0;34m[\u001b[0m\u001b[0midx\u001b[0m\u001b[0;34m]\u001b[0m \u001b[0;32mfor\u001b[0m \u001b[0midx\u001b[0m \u001b[0;32min\u001b[0m \u001b[0mpossibly_batched_index\u001b[0m\u001b[0;34m]\u001b[0m\u001b[0;34m\u001b[0m\u001b[0;34m\u001b[0m\u001b[0m\n\u001b[0m\u001b[1;32m     45\u001b[0m         \u001b[0;32melse\u001b[0m\u001b[0;34m:\u001b[0m\u001b[0;34m\u001b[0m\u001b[0;34m\u001b[0m\u001b[0m\n\u001b[1;32m     46\u001b[0m             \u001b[0mdata\u001b[0m \u001b[0;34m=\u001b[0m \u001b[0mself\u001b[0m\u001b[0;34m.\u001b[0m\u001b[0mdataset\u001b[0m\u001b[0;34m[\u001b[0m\u001b[0mpossibly_batched_index\u001b[0m\u001b[0;34m]\u001b[0m\u001b[0;34m\u001b[0m\u001b[0;34m\u001b[0m\u001b[0m\n",
      "\u001b[0;32m<ipython-input-9-5a95599f21c5>\u001b[0m in \u001b[0;36m__getitem__\u001b[0;34m(self, index)\u001b[0m\n\u001b[1;32m     17\u001b[0m \u001b[0;34m\u001b[0m\u001b[0m\n\u001b[1;32m     18\u001b[0m         \u001b[0;31m# get videos\u001b[0m\u001b[0;34m\u001b[0m\u001b[0;34m\u001b[0m\u001b[0;34m\u001b[0m\u001b[0m\n\u001b[0;32m---> 19\u001b[0;31m         \u001b[0mrgb_arr\u001b[0m \u001b[0;34m=\u001b[0m \u001b[0mextract_frames\u001b[0m\u001b[0;34m(\u001b[0m\u001b[0mvid_color\u001b[0m\u001b[0;34m,\u001b[0m \u001b[0mtransforms\u001b[0m\u001b[0;34m=\u001b[0m\u001b[0mself\u001b[0m\u001b[0;34m.\u001b[0m\u001b[0mtransforms\u001b[0m\u001b[0;34m,\u001b[0m \u001b[0mframes_cap\u001b[0m\u001b[0;34m=\u001b[0m\u001b[0mself\u001b[0m\u001b[0;34m.\u001b[0m\u001b[0mframes_cap\u001b[0m\u001b[0;34m)\u001b[0m \u001b[0;31m# self.frames_cap,\u001b[0m\u001b[0;34m\u001b[0m\u001b[0;34m\u001b[0m\u001b[0m\n\u001b[0m\u001b[1;32m     20\u001b[0m         \u001b[0;31m# depth_arr = extract_frames(vid_depth, self.frames_cap, transforms=self.transforms)\u001b[0m\u001b[0;34m\u001b[0m\u001b[0;34m\u001b[0m\u001b[0;34m\u001b[0m\u001b[0m\n\u001b[1;32m     21\u001b[0m \u001b[0;34m\u001b[0m\u001b[0m\n",
      "\u001b[0;32m<ipython-input-7-0606166c0db0>\u001b[0m in \u001b[0;36mextract_frames\u001b[0;34m(vid_path, transforms, frames_cap)\u001b[0m\n\u001b[1;32m     21\u001b[0m             \u001b[0;32mif\u001b[0m \u001b[0minterval\u001b[0m \u001b[0;34m<\u001b[0m \u001b[0;36m1\u001b[0m\u001b[0;34m:\u001b[0m\u001b[0;34m\u001b[0m\u001b[0;34m\u001b[0m\u001b[0m\n\u001b[1;32m     22\u001b[0m                 \u001b[0;32mraise\u001b[0m \u001b[0mValueError\u001b[0m\u001b[0;34m(\u001b[0m\u001b[0;34mf\"video with path '{vid_path}' is too short, please make sure that video has >={frames_cap} frames\"\u001b[0m\u001b[0;34m)\u001b[0m\u001b[0;34m\u001b[0m\u001b[0;34m\u001b[0m\u001b[0m\n\u001b[0;32m---> 23\u001b[0;31m         \u001b[0;32mfor\u001b[0m \u001b[0mframe_no\u001b[0m\u001b[0;34m,\u001b[0m \u001b[0mframe\u001b[0m \u001b[0;32min\u001b[0m \u001b[0menumerate\u001b[0m\u001b[0;34m(\u001b[0m\u001b[0mcontainer\u001b[0m\u001b[0;34m.\u001b[0m\u001b[0mdecode\u001b[0m\u001b[0;34m(\u001b[0m\u001b[0mstream\u001b[0m\u001b[0;34m)\u001b[0m\u001b[0;34m)\u001b[0m\u001b[0;34m:\u001b[0m\u001b[0;34m\u001b[0m\u001b[0;34m\u001b[0m\u001b[0m\n\u001b[0m\u001b[1;32m     24\u001b[0m             \u001b[0;32mif\u001b[0m \u001b[0mframes_cap\u001b[0m \u001b[0;32mand\u001b[0m \u001b[0mframe_no\u001b[0m \u001b[0;34m!=\u001b[0m \u001b[0mtake_frame_idx\u001b[0m\u001b[0;34m:\u001b[0m\u001b[0;34m\u001b[0m\u001b[0;34m\u001b[0m\u001b[0m\n\u001b[1;32m     25\u001b[0m                 \u001b[0;32mcontinue\u001b[0m\u001b[0;34m\u001b[0m\u001b[0;34m\u001b[0m\u001b[0m\n",
      "\u001b[0;31mKeyboardInterrupt\u001b[0m: "
     ]
    }
   ],
   "source": [
    "train(model, \n",
    "      train_loader, \n",
    "      val_loader, \n",
    "      no_of_epochs, \n",
    "      logger,\n",
    "      writer,\n",
    "      save_dir=save_dir, \n",
    "      save_checkpoint=True,\n",
    "      device=device, \n",
    "      patience=10, \n",
    "      optimizer_lr=optimizer_lr)"
   ]
  },
  {
   "cell_type": "code",
   "execution_count": 20,
   "metadata": {},
   "outputs": [],
   "source": [
    "model_1 = CRNN(num_classes=n_classes)"
   ]
  },
  {
   "cell_type": "code",
   "execution_count": 21,
   "metadata": {},
   "outputs": [
    {
     "data": {
      "text/plain": [
       "==========================================================================================\n",
       "Layer (type:depth-idx)                   Output Shape              Param #\n",
       "==========================================================================================\n",
       "├─Sequential: 1-1                        [1, 64, 62, 62]           --\n",
       "|    └─Conv2d: 2-1                       [1, 64, 125, 125]         9,472\n",
       "|    └─BatchNorm2d: 2-2                  [1, 64, 125, 125]         128\n",
       "|    └─ReLU: 2-3                         [1, 64, 125, 125]         --\n",
       "|    └─Conv2d: 2-4                       [1, 64, 125, 125]         4,160\n",
       "|    └─MaxPool2d: 2-5                    [1, 64, 62, 62]           --\n",
       "├─Sequential: 1-2                        [1, 128, 30, 30]          --\n",
       "|    └─Conv2d: 2-6                       [1, 128, 60, 60]          73,856\n",
       "|    └─BatchNorm2d: 2-7                  [1, 128, 60, 60]          256\n",
       "|    └─ReLU: 2-8                         [1, 128, 60, 60]          --\n",
       "|    └─Conv2d: 2-9                       [1, 128, 60, 60]          16,512\n",
       "|    └─MaxPool2d: 2-10                   [1, 128, 30, 30]          --\n",
       "├─Sequential: 1-3                        [1, 256, 14, 14]          --\n",
       "|    └─Conv2d: 2-11                      [1, 256, 28, 28]          295,168\n",
       "|    └─BatchNorm2d: 2-12                 [1, 256, 28, 28]          512\n",
       "|    └─ReLU: 2-13                        [1, 256, 28, 28]          --\n",
       "|    └─Conv2d: 2-14                      [1, 256, 28, 28]          65,792\n",
       "|    └─MaxPool2d: 2-15                   [1, 256, 14, 14]          --\n",
       "├─Sequential: 1-4                        [1, 512, 1, 1]            --\n",
       "|    └─Conv2d: 2-16                      [1, 512, 12, 12]          1,180,160\n",
       "|    └─BatchNorm2d: 2-17                 [1, 512, 12, 12]          1,024\n",
       "|    └─ReLU: 2-18                        [1, 512, 12, 12]          --\n",
       "|    └─Conv2d: 2-19                      [1, 512, 12, 12]          262,656\n",
       "|    └─AdaptiveAvgPool2d: 2-20           [1, 512, 1, 1]            --\n",
       "├─Sequential: 1-5                        [1, 64, 62, 62]           (recursive)\n",
       "|    └─Conv2d: 2-21                      [1, 64, 125, 125]         (recursive)\n",
       "|    └─BatchNorm2d: 2-22                 [1, 64, 125, 125]         (recursive)\n",
       "|    └─ReLU: 2-23                        [1, 64, 125, 125]         --\n",
       "|    └─Conv2d: 2-24                      [1, 64, 125, 125]         (recursive)\n",
       "|    └─MaxPool2d: 2-25                   [1, 64, 62, 62]           --\n",
       "├─Sequential: 1-6                        [1, 128, 30, 30]          (recursive)\n",
       "|    └─Conv2d: 2-26                      [1, 128, 60, 60]          (recursive)\n",
       "|    └─BatchNorm2d: 2-27                 [1, 128, 60, 60]          (recursive)\n",
       "|    └─ReLU: 2-28                        [1, 128, 60, 60]          --\n",
       "|    └─Conv2d: 2-29                      [1, 128, 60, 60]          (recursive)\n",
       "|    └─MaxPool2d: 2-30                   [1, 128, 30, 30]          --\n",
       "├─Sequential: 1-7                        [1, 256, 14, 14]          (recursive)\n",
       "|    └─Conv2d: 2-31                      [1, 256, 28, 28]          (recursive)\n",
       "|    └─BatchNorm2d: 2-32                 [1, 256, 28, 28]          (recursive)\n",
       "|    └─ReLU: 2-33                        [1, 256, 28, 28]          --\n",
       "|    └─Conv2d: 2-34                      [1, 256, 28, 28]          (recursive)\n",
       "|    └─MaxPool2d: 2-35                   [1, 256, 14, 14]          --\n",
       "├─Sequential: 1-8                        [1, 512, 1, 1]            (recursive)\n",
       "|    └─Conv2d: 2-36                      [1, 512, 12, 12]          (recursive)\n",
       "|    └─BatchNorm2d: 2-37                 [1, 512, 12, 12]          (recursive)\n",
       "|    └─ReLU: 2-38                        [1, 512, 12, 12]          --\n",
       "|    └─Conv2d: 2-39                      [1, 512, 12, 12]          (recursive)\n",
       "|    └─AdaptiveAvgPool2d: 2-40           [1, 512, 1, 1]            --\n",
       "├─Sequential: 1-9                        [1, 64, 62, 62]           (recursive)\n",
       "|    └─Conv2d: 2-41                      [1, 64, 125, 125]         (recursive)\n",
       "|    └─BatchNorm2d: 2-42                 [1, 64, 125, 125]         (recursive)\n",
       "|    └─ReLU: 2-43                        [1, 64, 125, 125]         --\n",
       "|    └─Conv2d: 2-44                      [1, 64, 125, 125]         (recursive)\n",
       "|    └─MaxPool2d: 2-45                   [1, 64, 62, 62]           --\n",
       "├─Sequential: 1-10                       [1, 128, 30, 30]          (recursive)\n",
       "|    └─Conv2d: 2-46                      [1, 128, 60, 60]          (recursive)\n",
       "|    └─BatchNorm2d: 2-47                 [1, 128, 60, 60]          (recursive)\n",
       "|    └─ReLU: 2-48                        [1, 128, 60, 60]          --\n",
       "|    └─Conv2d: 2-49                      [1, 128, 60, 60]          (recursive)\n",
       "|    └─MaxPool2d: 2-50                   [1, 128, 30, 30]          --\n",
       "├─Sequential: 1-11                       [1, 256, 14, 14]          (recursive)\n",
       "|    └─Conv2d: 2-51                      [1, 256, 28, 28]          (recursive)\n",
       "|    └─BatchNorm2d: 2-52                 [1, 256, 28, 28]          (recursive)\n",
       "|    └─ReLU: 2-53                        [1, 256, 28, 28]          --\n",
       "|    └─Conv2d: 2-54                      [1, 256, 28, 28]          (recursive)\n",
       "|    └─MaxPool2d: 2-55                   [1, 256, 14, 14]          --\n",
       "├─Sequential: 1-12                       [1, 512, 1, 1]            (recursive)\n",
       "|    └─Conv2d: 2-56                      [1, 512, 12, 12]          (recursive)\n",
       "|    └─BatchNorm2d: 2-57                 [1, 512, 12, 12]          (recursive)\n",
       "|    └─ReLU: 2-58                        [1, 512, 12, 12]          --\n",
       "|    └─Conv2d: 2-59                      [1, 512, 12, 12]          (recursive)\n",
       "|    └─AdaptiveAvgPool2d: 2-60           [1, 512, 1, 1]            --\n",
       "├─Sequential: 1-13                       [1, 64, 62, 62]           (recursive)\n",
       "|    └─Conv2d: 2-61                      [1, 64, 125, 125]         (recursive)\n",
       "|    └─BatchNorm2d: 2-62                 [1, 64, 125, 125]         (recursive)\n",
       "|    └─ReLU: 2-63                        [1, 64, 125, 125]         --\n",
       "|    └─Conv2d: 2-64                      [1, 64, 125, 125]         (recursive)\n",
       "|    └─MaxPool2d: 2-65                   [1, 64, 62, 62]           --\n",
       "├─Sequential: 1-14                       [1, 128, 30, 30]          (recursive)\n",
       "|    └─Conv2d: 2-66                      [1, 128, 60, 60]          (recursive)\n",
       "|    └─BatchNorm2d: 2-67                 [1, 128, 60, 60]          (recursive)\n",
       "|    └─ReLU: 2-68                        [1, 128, 60, 60]          --\n",
       "|    └─Conv2d: 2-69                      [1, 128, 60, 60]          (recursive)\n",
       "|    └─MaxPool2d: 2-70                   [1, 128, 30, 30]          --\n",
       "├─Sequential: 1-15                       [1, 256, 14, 14]          (recursive)\n",
       "|    └─Conv2d: 2-71                      [1, 256, 28, 28]          (recursive)\n",
       "|    └─BatchNorm2d: 2-72                 [1, 256, 28, 28]          (recursive)\n",
       "|    └─ReLU: 2-73                        [1, 256, 28, 28]          --\n",
       "|    └─Conv2d: 2-74                      [1, 256, 28, 28]          (recursive)\n",
       "|    └─MaxPool2d: 2-75                   [1, 256, 14, 14]          --\n",
       "├─Sequential: 1-16                       [1, 512, 1, 1]            (recursive)\n",
       "|    └─Conv2d: 2-76                      [1, 512, 12, 12]          (recursive)\n",
       "|    └─BatchNorm2d: 2-77                 [1, 512, 12, 12]          (recursive)\n",
       "|    └─ReLU: 2-78                        [1, 512, 12, 12]          --\n",
       "|    └─Conv2d: 2-79                      [1, 512, 12, 12]          (recursive)\n",
       "|    └─AdaptiveAvgPool2d: 2-80           [1, 512, 1, 1]            --\n",
       "├─Sequential: 1-17                       [1, 64, 62, 62]           (recursive)\n",
       "|    └─Conv2d: 2-81                      [1, 64, 125, 125]         (recursive)\n",
       "|    └─BatchNorm2d: 2-82                 [1, 64, 125, 125]         (recursive)\n",
       "|    └─ReLU: 2-83                        [1, 64, 125, 125]         --\n",
       "|    └─Conv2d: 2-84                      [1, 64, 125, 125]         (recursive)\n",
       "|    └─MaxPool2d: 2-85                   [1, 64, 62, 62]           --\n",
       "├─Sequential: 1-18                       [1, 128, 30, 30]          (recursive)\n",
       "|    └─Conv2d: 2-86                      [1, 128, 60, 60]          (recursive)\n",
       "|    └─BatchNorm2d: 2-87                 [1, 128, 60, 60]          (recursive)\n",
       "|    └─ReLU: 2-88                        [1, 128, 60, 60]          --\n",
       "|    └─Conv2d: 2-89                      [1, 128, 60, 60]          (recursive)\n",
       "|    └─MaxPool2d: 2-90                   [1, 128, 30, 30]          --\n",
       "├─Sequential: 1-19                       [1, 256, 14, 14]          (recursive)\n",
       "|    └─Conv2d: 2-91                      [1, 256, 28, 28]          (recursive)\n",
       "|    └─BatchNorm2d: 2-92                 [1, 256, 28, 28]          (recursive)\n",
       "|    └─ReLU: 2-93                        [1, 256, 28, 28]          --\n",
       "|    └─Conv2d: 2-94                      [1, 256, 28, 28]          (recursive)\n",
       "|    └─MaxPool2d: 2-95                   [1, 256, 14, 14]          --\n",
       "├─Sequential: 1-20                       [1, 512, 1, 1]            (recursive)\n",
       "|    └─Conv2d: 2-96                      [1, 512, 12, 12]          (recursive)\n",
       "|    └─BatchNorm2d: 2-97                 [1, 512, 12, 12]          (recursive)\n",
       "|    └─ReLU: 2-98                        [1, 512, 12, 12]          --\n",
       "|    └─Conv2d: 2-99                      [1, 512, 12, 12]          (recursive)\n",
       "|    └─AdaptiveAvgPool2d: 2-100          [1, 512, 1, 1]            --\n",
       "├─Sequential: 1-21                       [1, 64, 62, 62]           (recursive)\n",
       "|    └─Conv2d: 2-101                     [1, 64, 125, 125]         (recursive)\n",
       "|    └─BatchNorm2d: 2-102                [1, 64, 125, 125]         (recursive)\n",
       "|    └─ReLU: 2-103                       [1, 64, 125, 125]         --\n",
       "|    └─Conv2d: 2-104                     [1, 64, 125, 125]         (recursive)\n",
       "|    └─MaxPool2d: 2-105                  [1, 64, 62, 62]           --\n",
       "├─Sequential: 1-22                       [1, 128, 30, 30]          (recursive)\n",
       "|    └─Conv2d: 2-106                     [1, 128, 60, 60]          (recursive)\n",
       "|    └─BatchNorm2d: 2-107                [1, 128, 60, 60]          (recursive)\n",
       "|    └─ReLU: 2-108                       [1, 128, 60, 60]          --\n",
       "|    └─Conv2d: 2-109                     [1, 128, 60, 60]          (recursive)\n",
       "|    └─MaxPool2d: 2-110                  [1, 128, 30, 30]          --\n",
       "├─Sequential: 1-23                       [1, 256, 14, 14]          (recursive)\n",
       "|    └─Conv2d: 2-111                     [1, 256, 28, 28]          (recursive)\n",
       "|    └─BatchNorm2d: 2-112                [1, 256, 28, 28]          (recursive)\n",
       "|    └─ReLU: 2-113                       [1, 256, 28, 28]          --\n",
       "|    └─Conv2d: 2-114                     [1, 256, 28, 28]          (recursive)\n",
       "|    └─MaxPool2d: 2-115                  [1, 256, 14, 14]          --\n",
       "├─Sequential: 1-24                       [1, 512, 1, 1]            (recursive)\n",
       "|    └─Conv2d: 2-116                     [1, 512, 12, 12]          (recursive)\n",
       "|    └─BatchNorm2d: 2-117                [1, 512, 12, 12]          (recursive)\n",
       "|    └─ReLU: 2-118                       [1, 512, 12, 12]          --\n",
       "|    └─Conv2d: 2-119                     [1, 512, 12, 12]          (recursive)\n",
       "|    └─AdaptiveAvgPool2d: 2-120          [1, 512, 1, 1]            --\n",
       "├─Sequential: 1-25                       [1, 64, 62, 62]           (recursive)\n",
       "|    └─Conv2d: 2-121                     [1, 64, 125, 125]         (recursive)\n",
       "|    └─BatchNorm2d: 2-122                [1, 64, 125, 125]         (recursive)\n",
       "|    └─ReLU: 2-123                       [1, 64, 125, 125]         --\n",
       "|    └─Conv2d: 2-124                     [1, 64, 125, 125]         (recursive)\n",
       "|    └─MaxPool2d: 2-125                  [1, 64, 62, 62]           --\n",
       "├─Sequential: 1-26                       [1, 128, 30, 30]          (recursive)\n",
       "|    └─Conv2d: 2-126                     [1, 128, 60, 60]          (recursive)\n",
       "|    └─BatchNorm2d: 2-127                [1, 128, 60, 60]          (recursive)\n",
       "|    └─ReLU: 2-128                       [1, 128, 60, 60]          --\n",
       "|    └─Conv2d: 2-129                     [1, 128, 60, 60]          (recursive)\n",
       "|    └─MaxPool2d: 2-130                  [1, 128, 30, 30]          --\n",
       "├─Sequential: 1-27                       [1, 256, 14, 14]          (recursive)\n",
       "|    └─Conv2d: 2-131                     [1, 256, 28, 28]          (recursive)\n",
       "|    └─BatchNorm2d: 2-132                [1, 256, 28, 28]          (recursive)\n",
       "|    └─ReLU: 2-133                       [1, 256, 28, 28]          --\n",
       "|    └─Conv2d: 2-134                     [1, 256, 28, 28]          (recursive)\n",
       "|    └─MaxPool2d: 2-135                  [1, 256, 14, 14]          --\n",
       "├─Sequential: 1-28                       [1, 512, 1, 1]            (recursive)\n",
       "|    └─Conv2d: 2-136                     [1, 512, 12, 12]          (recursive)\n",
       "|    └─BatchNorm2d: 2-137                [1, 512, 12, 12]          (recursive)\n",
       "|    └─ReLU: 2-138                       [1, 512, 12, 12]          --\n",
       "|    └─Conv2d: 2-139                     [1, 512, 12, 12]          (recursive)\n",
       "|    └─AdaptiveAvgPool2d: 2-140          [1, 512, 1, 1]            --\n",
       "├─Sequential: 1-29                       [1, 64, 62, 62]           (recursive)\n",
       "|    └─Conv2d: 2-141                     [1, 64, 125, 125]         (recursive)\n",
       "|    └─BatchNorm2d: 2-142                [1, 64, 125, 125]         (recursive)\n",
       "|    └─ReLU: 2-143                       [1, 64, 125, 125]         --\n",
       "|    └─Conv2d: 2-144                     [1, 64, 125, 125]         (recursive)\n",
       "|    └─MaxPool2d: 2-145                  [1, 64, 62, 62]           --\n",
       "├─Sequential: 1-30                       [1, 128, 30, 30]          (recursive)\n",
       "|    └─Conv2d: 2-146                     [1, 128, 60, 60]          (recursive)\n",
       "|    └─BatchNorm2d: 2-147                [1, 128, 60, 60]          (recursive)\n",
       "|    └─ReLU: 2-148                       [1, 128, 60, 60]          --\n",
       "|    └─Conv2d: 2-149                     [1, 128, 60, 60]          (recursive)\n",
       "|    └─MaxPool2d: 2-150                  [1, 128, 30, 30]          --\n",
       "├─Sequential: 1-31                       [1, 256, 14, 14]          (recursive)\n",
       "|    └─Conv2d: 2-151                     [1, 256, 28, 28]          (recursive)\n",
       "|    └─BatchNorm2d: 2-152                [1, 256, 28, 28]          (recursive)\n",
       "|    └─ReLU: 2-153                       [1, 256, 28, 28]          --\n",
       "|    └─Conv2d: 2-154                     [1, 256, 28, 28]          (recursive)\n",
       "|    └─MaxPool2d: 2-155                  [1, 256, 14, 14]          --\n",
       "├─Sequential: 1-32                       [1, 512, 1, 1]            (recursive)\n",
       "|    └─Conv2d: 2-156                     [1, 512, 12, 12]          (recursive)\n",
       "|    └─BatchNorm2d: 2-157                [1, 512, 12, 12]          (recursive)\n",
       "|    └─ReLU: 2-158                       [1, 512, 12, 12]          --\n",
       "|    └─Conv2d: 2-159                     [1, 512, 12, 12]          (recursive)\n",
       "|    └─AdaptiveAvgPool2d: 2-160          [1, 512, 1, 1]            --\n",
       "├─Sequential: 1-33                       [1, 64, 62, 62]           (recursive)\n",
       "|    └─Conv2d: 2-161                     [1, 64, 125, 125]         (recursive)\n",
       "|    └─BatchNorm2d: 2-162                [1, 64, 125, 125]         (recursive)\n",
       "|    └─ReLU: 2-163                       [1, 64, 125, 125]         --\n",
       "|    └─Conv2d: 2-164                     [1, 64, 125, 125]         (recursive)\n",
       "|    └─MaxPool2d: 2-165                  [1, 64, 62, 62]           --\n",
       "├─Sequential: 1-34                       [1, 128, 30, 30]          (recursive)\n",
       "|    └─Conv2d: 2-166                     [1, 128, 60, 60]          (recursive)\n",
       "|    └─BatchNorm2d: 2-167                [1, 128, 60, 60]          (recursive)\n",
       "|    └─ReLU: 2-168                       [1, 128, 60, 60]          --\n",
       "|    └─Conv2d: 2-169                     [1, 128, 60, 60]          (recursive)\n",
       "|    └─MaxPool2d: 2-170                  [1, 128, 30, 30]          --\n",
       "├─Sequential: 1-35                       [1, 256, 14, 14]          (recursive)\n",
       "|    └─Conv2d: 2-171                     [1, 256, 28, 28]          (recursive)\n",
       "|    └─BatchNorm2d: 2-172                [1, 256, 28, 28]          (recursive)\n",
       "|    └─ReLU: 2-173                       [1, 256, 28, 28]          --\n",
       "|    └─Conv2d: 2-174                     [1, 256, 28, 28]          (recursive)\n",
       "|    └─MaxPool2d: 2-175                  [1, 256, 14, 14]          --\n",
       "├─Sequential: 1-36                       [1, 512, 1, 1]            (recursive)\n",
       "|    └─Conv2d: 2-176                     [1, 512, 12, 12]          (recursive)\n",
       "|    └─BatchNorm2d: 2-177                [1, 512, 12, 12]          (recursive)\n",
       "|    └─ReLU: 2-178                       [1, 512, 12, 12]          --\n",
       "|    └─Conv2d: 2-179                     [1, 512, 12, 12]          (recursive)\n",
       "|    └─AdaptiveAvgPool2d: 2-180          [1, 512, 1, 1]            --\n",
       "├─Sequential: 1-37                       [1, 64, 62, 62]           (recursive)\n",
       "|    └─Conv2d: 2-181                     [1, 64, 125, 125]         (recursive)\n",
       "|    └─BatchNorm2d: 2-182                [1, 64, 125, 125]         (recursive)\n",
       "|    └─ReLU: 2-183                       [1, 64, 125, 125]         --\n",
       "|    └─Conv2d: 2-184                     [1, 64, 125, 125]         (recursive)\n",
       "|    └─MaxPool2d: 2-185                  [1, 64, 62, 62]           --\n",
       "├─Sequential: 1-38                       [1, 128, 30, 30]          (recursive)\n",
       "|    └─Conv2d: 2-186                     [1, 128, 60, 60]          (recursive)\n",
       "|    └─BatchNorm2d: 2-187                [1, 128, 60, 60]          (recursive)\n",
       "|    └─ReLU: 2-188                       [1, 128, 60, 60]          --\n",
       "|    └─Conv2d: 2-189                     [1, 128, 60, 60]          (recursive)\n",
       "|    └─MaxPool2d: 2-190                  [1, 128, 30, 30]          --\n",
       "├─Sequential: 1-39                       [1, 256, 14, 14]          (recursive)\n",
       "|    └─Conv2d: 2-191                     [1, 256, 28, 28]          (recursive)\n",
       "|    └─BatchNorm2d: 2-192                [1, 256, 28, 28]          (recursive)\n",
       "|    └─ReLU: 2-193                       [1, 256, 28, 28]          --\n",
       "|    └─Conv2d: 2-194                     [1, 256, 28, 28]          (recursive)\n",
       "|    └─MaxPool2d: 2-195                  [1, 256, 14, 14]          --\n",
       "├─Sequential: 1-40                       [1, 512, 1, 1]            (recursive)\n",
       "|    └─Conv2d: 2-196                     [1, 512, 12, 12]          (recursive)\n",
       "|    └─BatchNorm2d: 2-197                [1, 512, 12, 12]          (recursive)\n",
       "|    └─ReLU: 2-198                       [1, 512, 12, 12]          --\n",
       "|    └─Conv2d: 2-199                     [1, 512, 12, 12]          (recursive)\n",
       "|    └─AdaptiveAvgPool2d: 2-200          [1, 512, 1, 1]            --\n",
       "├─Sequential: 1-41                       [1, 64, 62, 62]           (recursive)\n",
       "|    └─Conv2d: 2-201                     [1, 64, 125, 125]         (recursive)\n",
       "|    └─BatchNorm2d: 2-202                [1, 64, 125, 125]         (recursive)\n",
       "|    └─ReLU: 2-203                       [1, 64, 125, 125]         --\n",
       "|    └─Conv2d: 2-204                     [1, 64, 125, 125]         (recursive)\n",
       "|    └─MaxPool2d: 2-205                  [1, 64, 62, 62]           --\n",
       "├─Sequential: 1-42                       [1, 128, 30, 30]          (recursive)\n",
       "|    └─Conv2d: 2-206                     [1, 128, 60, 60]          (recursive)\n",
       "|    └─BatchNorm2d: 2-207                [1, 128, 60, 60]          (recursive)\n",
       "|    └─ReLU: 2-208                       [1, 128, 60, 60]          --\n",
       "|    └─Conv2d: 2-209                     [1, 128, 60, 60]          (recursive)\n",
       "|    └─MaxPool2d: 2-210                  [1, 128, 30, 30]          --\n",
       "├─Sequential: 1-43                       [1, 256, 14, 14]          (recursive)\n",
       "|    └─Conv2d: 2-211                     [1, 256, 28, 28]          (recursive)\n",
       "|    └─BatchNorm2d: 2-212                [1, 256, 28, 28]          (recursive)\n",
       "|    └─ReLU: 2-213                       [1, 256, 28, 28]          --\n",
       "|    └─Conv2d: 2-214                     [1, 256, 28, 28]          (recursive)\n",
       "|    └─MaxPool2d: 2-215                  [1, 256, 14, 14]          --\n",
       "├─Sequential: 1-44                       [1, 512, 1, 1]            (recursive)\n",
       "|    └─Conv2d: 2-216                     [1, 512, 12, 12]          (recursive)\n",
       "|    └─BatchNorm2d: 2-217                [1, 512, 12, 12]          (recursive)\n",
       "|    └─ReLU: 2-218                       [1, 512, 12, 12]          --\n",
       "|    └─Conv2d: 2-219                     [1, 512, 12, 12]          (recursive)\n",
       "|    └─AdaptiveAvgPool2d: 2-220          [1, 512, 1, 1]            --\n",
       "├─Sequential: 1-45                       [1, 64, 62, 62]           (recursive)\n",
       "|    └─Conv2d: 2-221                     [1, 64, 125, 125]         (recursive)\n",
       "|    └─BatchNorm2d: 2-222                [1, 64, 125, 125]         (recursive)\n",
       "|    └─ReLU: 2-223                       [1, 64, 125, 125]         --\n",
       "|    └─Conv2d: 2-224                     [1, 64, 125, 125]         (recursive)\n",
       "|    └─MaxPool2d: 2-225                  [1, 64, 62, 62]           --\n",
       "├─Sequential: 1-46                       [1, 128, 30, 30]          (recursive)\n",
       "|    └─Conv2d: 2-226                     [1, 128, 60, 60]          (recursive)\n",
       "|    └─BatchNorm2d: 2-227                [1, 128, 60, 60]          (recursive)\n",
       "|    └─ReLU: 2-228                       [1, 128, 60, 60]          --\n",
       "|    └─Conv2d: 2-229                     [1, 128, 60, 60]          (recursive)\n",
       "|    └─MaxPool2d: 2-230                  [1, 128, 30, 30]          --\n",
       "├─Sequential: 1-47                       [1, 256, 14, 14]          (recursive)\n",
       "|    └─Conv2d: 2-231                     [1, 256, 28, 28]          (recursive)\n",
       "|    └─BatchNorm2d: 2-232                [1, 256, 28, 28]          (recursive)\n",
       "|    └─ReLU: 2-233                       [1, 256, 28, 28]          --\n",
       "|    └─Conv2d: 2-234                     [1, 256, 28, 28]          (recursive)\n",
       "|    └─MaxPool2d: 2-235                  [1, 256, 14, 14]          --\n",
       "├─Sequential: 1-48                       [1, 512, 1, 1]            (recursive)\n",
       "|    └─Conv2d: 2-236                     [1, 512, 12, 12]          (recursive)\n",
       "|    └─BatchNorm2d: 2-237                [1, 512, 12, 12]          (recursive)\n",
       "|    └─ReLU: 2-238                       [1, 512, 12, 12]          --\n",
       "|    └─Conv2d: 2-239                     [1, 512, 12, 12]          (recursive)\n",
       "|    └─AdaptiveAvgPool2d: 2-240          [1, 512, 1, 1]            --\n",
       "├─Sequential: 1-49                       [1, 64, 62, 62]           (recursive)\n",
       "|    └─Conv2d: 2-241                     [1, 64, 125, 125]         (recursive)\n",
       "|    └─BatchNorm2d: 2-242                [1, 64, 125, 125]         (recursive)\n",
       "|    └─ReLU: 2-243                       [1, 64, 125, 125]         --\n",
       "|    └─Conv2d: 2-244                     [1, 64, 125, 125]         (recursive)\n",
       "|    └─MaxPool2d: 2-245                  [1, 64, 62, 62]           --\n",
       "├─Sequential: 1-50                       [1, 128, 30, 30]          (recursive)\n",
       "|    └─Conv2d: 2-246                     [1, 128, 60, 60]          (recursive)\n",
       "|    └─BatchNorm2d: 2-247                [1, 128, 60, 60]          (recursive)\n",
       "|    └─ReLU: 2-248                       [1, 128, 60, 60]          --\n",
       "|    └─Conv2d: 2-249                     [1, 128, 60, 60]          (recursive)\n",
       "|    └─MaxPool2d: 2-250                  [1, 128, 30, 30]          --\n",
       "├─Sequential: 1-51                       [1, 256, 14, 14]          (recursive)\n",
       "|    └─Conv2d: 2-251                     [1, 256, 28, 28]          (recursive)\n",
       "|    └─BatchNorm2d: 2-252                [1, 256, 28, 28]          (recursive)\n",
       "|    └─ReLU: 2-253                       [1, 256, 28, 28]          --\n",
       "|    └─Conv2d: 2-254                     [1, 256, 28, 28]          (recursive)\n",
       "|    └─MaxPool2d: 2-255                  [1, 256, 14, 14]          --\n",
       "├─Sequential: 1-52                       [1, 512, 1, 1]            (recursive)\n",
       "|    └─Conv2d: 2-256                     [1, 512, 12, 12]          (recursive)\n",
       "|    └─BatchNorm2d: 2-257                [1, 512, 12, 12]          (recursive)\n",
       "|    └─ReLU: 2-258                       [1, 512, 12, 12]          --\n",
       "|    └─Conv2d: 2-259                     [1, 512, 12, 12]          (recursive)\n",
       "|    └─AdaptiveAvgPool2d: 2-260          [1, 512, 1, 1]            --\n",
       "├─Sequential: 1-53                       [1, 64, 62, 62]           (recursive)\n",
       "|    └─Conv2d: 2-261                     [1, 64, 125, 125]         (recursive)\n",
       "|    └─BatchNorm2d: 2-262                [1, 64, 125, 125]         (recursive)\n",
       "|    └─ReLU: 2-263                       [1, 64, 125, 125]         --\n",
       "|    └─Conv2d: 2-264                     [1, 64, 125, 125]         (recursive)\n",
       "|    └─MaxPool2d: 2-265                  [1, 64, 62, 62]           --\n",
       "├─Sequential: 1-54                       [1, 128, 30, 30]          (recursive)\n",
       "|    └─Conv2d: 2-266                     [1, 128, 60, 60]          (recursive)\n",
       "|    └─BatchNorm2d: 2-267                [1, 128, 60, 60]          (recursive)\n",
       "|    └─ReLU: 2-268                       [1, 128, 60, 60]          --\n",
       "|    └─Conv2d: 2-269                     [1, 128, 60, 60]          (recursive)\n",
       "|    └─MaxPool2d: 2-270                  [1, 128, 30, 30]          --\n",
       "├─Sequential: 1-55                       [1, 256, 14, 14]          (recursive)\n",
       "|    └─Conv2d: 2-271                     [1, 256, 28, 28]          (recursive)\n",
       "|    └─BatchNorm2d: 2-272                [1, 256, 28, 28]          (recursive)\n",
       "|    └─ReLU: 2-273                       [1, 256, 28, 28]          --\n",
       "|    └─Conv2d: 2-274                     [1, 256, 28, 28]          (recursive)\n",
       "|    └─MaxPool2d: 2-275                  [1, 256, 14, 14]          --\n",
       "├─Sequential: 1-56                       [1, 512, 1, 1]            (recursive)\n",
       "|    └─Conv2d: 2-276                     [1, 512, 12, 12]          (recursive)\n",
       "|    └─BatchNorm2d: 2-277                [1, 512, 12, 12]          (recursive)\n",
       "|    └─ReLU: 2-278                       [1, 512, 12, 12]          --\n",
       "|    └─Conv2d: 2-279                     [1, 512, 12, 12]          (recursive)\n",
       "|    └─AdaptiveAvgPool2d: 2-280          [1, 512, 1, 1]            --\n",
       "├─Sequential: 1-57                       [1, 64, 62, 62]           (recursive)\n",
       "|    └─Conv2d: 2-281                     [1, 64, 125, 125]         (recursive)\n",
       "|    └─BatchNorm2d: 2-282                [1, 64, 125, 125]         (recursive)\n",
       "|    └─ReLU: 2-283                       [1, 64, 125, 125]         --\n",
       "|    └─Conv2d: 2-284                     [1, 64, 125, 125]         (recursive)\n",
       "|    └─MaxPool2d: 2-285                  [1, 64, 62, 62]           --\n",
       "├─Sequential: 1-58                       [1, 128, 30, 30]          (recursive)\n",
       "|    └─Conv2d: 2-286                     [1, 128, 60, 60]          (recursive)\n",
       "|    └─BatchNorm2d: 2-287                [1, 128, 60, 60]          (recursive)\n",
       "|    └─ReLU: 2-288                       [1, 128, 60, 60]          --\n",
       "|    └─Conv2d: 2-289                     [1, 128, 60, 60]          (recursive)\n",
       "|    └─MaxPool2d: 2-290                  [1, 128, 30, 30]          --\n",
       "├─Sequential: 1-59                       [1, 256, 14, 14]          (recursive)\n",
       "|    └─Conv2d: 2-291                     [1, 256, 28, 28]          (recursive)\n",
       "|    └─BatchNorm2d: 2-292                [1, 256, 28, 28]          (recursive)\n",
       "|    └─ReLU: 2-293                       [1, 256, 28, 28]          --\n",
       "|    └─Conv2d: 2-294                     [1, 256, 28, 28]          (recursive)\n",
       "|    └─MaxPool2d: 2-295                  [1, 256, 14, 14]          --\n",
       "├─Sequential: 1-60                       [1, 512, 1, 1]            (recursive)\n",
       "|    └─Conv2d: 2-296                     [1, 512, 12, 12]          (recursive)\n",
       "|    └─BatchNorm2d: 2-297                [1, 512, 12, 12]          (recursive)\n",
       "|    └─ReLU: 2-298                       [1, 512, 12, 12]          --\n",
       "|    └─Conv2d: 2-299                     [1, 512, 12, 12]          (recursive)\n",
       "|    └─AdaptiveAvgPool2d: 2-300          [1, 512, 1, 1]            --\n",
       "├─Sequential: 1-61                       [1, 64, 62, 62]           (recursive)\n",
       "|    └─Conv2d: 2-301                     [1, 64, 125, 125]         (recursive)\n",
       "|    └─BatchNorm2d: 2-302                [1, 64, 125, 125]         (recursive)\n",
       "|    └─ReLU: 2-303                       [1, 64, 125, 125]         --\n",
       "|    └─Conv2d: 2-304                     [1, 64, 125, 125]         (recursive)\n",
       "|    └─MaxPool2d: 2-305                  [1, 64, 62, 62]           --\n",
       "├─Sequential: 1-62                       [1, 128, 30, 30]          (recursive)\n",
       "|    └─Conv2d: 2-306                     [1, 128, 60, 60]          (recursive)\n",
       "|    └─BatchNorm2d: 2-307                [1, 128, 60, 60]          (recursive)\n",
       "|    └─ReLU: 2-308                       [1, 128, 60, 60]          --\n",
       "|    └─Conv2d: 2-309                     [1, 128, 60, 60]          (recursive)\n",
       "|    └─MaxPool2d: 2-310                  [1, 128, 30, 30]          --\n",
       "├─Sequential: 1-63                       [1, 256, 14, 14]          (recursive)\n",
       "|    └─Conv2d: 2-311                     [1, 256, 28, 28]          (recursive)\n",
       "|    └─BatchNorm2d: 2-312                [1, 256, 28, 28]          (recursive)\n",
       "|    └─ReLU: 2-313                       [1, 256, 28, 28]          --\n",
       "|    └─Conv2d: 2-314                     [1, 256, 28, 28]          (recursive)\n",
       "|    └─MaxPool2d: 2-315                  [1, 256, 14, 14]          --\n",
       "├─Sequential: 1-64                       [1, 512, 1, 1]            (recursive)\n",
       "|    └─Conv2d: 2-316                     [1, 512, 12, 12]          (recursive)\n",
       "|    └─BatchNorm2d: 2-317                [1, 512, 12, 12]          (recursive)\n",
       "|    └─ReLU: 2-318                       [1, 512, 12, 12]          --\n",
       "|    └─Conv2d: 2-319                     [1, 512, 12, 12]          (recursive)\n",
       "|    └─AdaptiveAvgPool2d: 2-320          [1, 512, 1, 1]            --\n",
       "├─Sequential: 1-65                       [1, 64, 62, 62]           (recursive)\n",
       "|    └─Conv2d: 2-321                     [1, 64, 125, 125]         (recursive)\n",
       "|    └─BatchNorm2d: 2-322                [1, 64, 125, 125]         (recursive)\n",
       "|    └─ReLU: 2-323                       [1, 64, 125, 125]         --\n",
       "|    └─Conv2d: 2-324                     [1, 64, 125, 125]         (recursive)\n",
       "|    └─MaxPool2d: 2-325                  [1, 64, 62, 62]           --\n",
       "├─Sequential: 1-66                       [1, 128, 30, 30]          (recursive)\n",
       "|    └─Conv2d: 2-326                     [1, 128, 60, 60]          (recursive)\n",
       "|    └─BatchNorm2d: 2-327                [1, 128, 60, 60]          (recursive)\n",
       "|    └─ReLU: 2-328                       [1, 128, 60, 60]          --\n",
       "|    └─Conv2d: 2-329                     [1, 128, 60, 60]          (recursive)\n",
       "|    └─MaxPool2d: 2-330                  [1, 128, 30, 30]          --\n",
       "├─Sequential: 1-67                       [1, 256, 14, 14]          (recursive)\n",
       "|    └─Conv2d: 2-331                     [1, 256, 28, 28]          (recursive)\n",
       "|    └─BatchNorm2d: 2-332                [1, 256, 28, 28]          (recursive)\n",
       "|    └─ReLU: 2-333                       [1, 256, 28, 28]          --\n",
       "|    └─Conv2d: 2-334                     [1, 256, 28, 28]          (recursive)\n",
       "|    └─MaxPool2d: 2-335                  [1, 256, 14, 14]          --\n",
       "├─Sequential: 1-68                       [1, 512, 1, 1]            (recursive)\n",
       "|    └─Conv2d: 2-336                     [1, 512, 12, 12]          (recursive)\n",
       "|    └─BatchNorm2d: 2-337                [1, 512, 12, 12]          (recursive)\n",
       "|    └─ReLU: 2-338                       [1, 512, 12, 12]          --\n",
       "|    └─Conv2d: 2-339                     [1, 512, 12, 12]          (recursive)\n",
       "|    └─AdaptiveAvgPool2d: 2-340          [1, 512, 1, 1]            --\n",
       "├─Sequential: 1-69                       [1, 64, 62, 62]           (recursive)\n",
       "|    └─Conv2d: 2-341                     [1, 64, 125, 125]         (recursive)\n",
       "|    └─BatchNorm2d: 2-342                [1, 64, 125, 125]         (recursive)\n",
       "|    └─ReLU: 2-343                       [1, 64, 125, 125]         --\n",
       "|    └─Conv2d: 2-344                     [1, 64, 125, 125]         (recursive)\n",
       "|    └─MaxPool2d: 2-345                  [1, 64, 62, 62]           --\n",
       "├─Sequential: 1-70                       [1, 128, 30, 30]          (recursive)\n",
       "|    └─Conv2d: 2-346                     [1, 128, 60, 60]          (recursive)\n",
       "|    └─BatchNorm2d: 2-347                [1, 128, 60, 60]          (recursive)\n",
       "|    └─ReLU: 2-348                       [1, 128, 60, 60]          --\n",
       "|    └─Conv2d: 2-349                     [1, 128, 60, 60]          (recursive)\n",
       "|    └─MaxPool2d: 2-350                  [1, 128, 30, 30]          --\n",
       "├─Sequential: 1-71                       [1, 256, 14, 14]          (recursive)\n",
       "|    └─Conv2d: 2-351                     [1, 256, 28, 28]          (recursive)\n",
       "|    └─BatchNorm2d: 2-352                [1, 256, 28, 28]          (recursive)\n",
       "|    └─ReLU: 2-353                       [1, 256, 28, 28]          --\n",
       "|    └─Conv2d: 2-354                     [1, 256, 28, 28]          (recursive)\n",
       "|    └─MaxPool2d: 2-355                  [1, 256, 14, 14]          --\n",
       "├─Sequential: 1-72                       [1, 512, 1, 1]            (recursive)\n",
       "|    └─Conv2d: 2-356                     [1, 512, 12, 12]          (recursive)\n",
       "|    └─BatchNorm2d: 2-357                [1, 512, 12, 12]          (recursive)\n",
       "|    └─ReLU: 2-358                       [1, 512, 12, 12]          --\n",
       "|    └─Conv2d: 2-359                     [1, 512, 12, 12]          (recursive)\n",
       "|    └─AdaptiveAvgPool2d: 2-360          [1, 512, 1, 1]            --\n",
       "├─Sequential: 1-73                       [1, 64, 62, 62]           (recursive)\n",
       "|    └─Conv2d: 2-361                     [1, 64, 125, 125]         (recursive)\n",
       "|    └─BatchNorm2d: 2-362                [1, 64, 125, 125]         (recursive)\n",
       "|    └─ReLU: 2-363                       [1, 64, 125, 125]         --\n",
       "|    └─Conv2d: 2-364                     [1, 64, 125, 125]         (recursive)\n",
       "|    └─MaxPool2d: 2-365                  [1, 64, 62, 62]           --\n",
       "├─Sequential: 1-74                       [1, 128, 30, 30]          (recursive)\n",
       "|    └─Conv2d: 2-366                     [1, 128, 60, 60]          (recursive)\n",
       "|    └─BatchNorm2d: 2-367                [1, 128, 60, 60]          (recursive)\n",
       "|    └─ReLU: 2-368                       [1, 128, 60, 60]          --\n",
       "|    └─Conv2d: 2-369                     [1, 128, 60, 60]          (recursive)\n",
       "|    └─MaxPool2d: 2-370                  [1, 128, 30, 30]          --\n",
       "├─Sequential: 1-75                       [1, 256, 14, 14]          (recursive)\n",
       "|    └─Conv2d: 2-371                     [1, 256, 28, 28]          (recursive)\n",
       "|    └─BatchNorm2d: 2-372                [1, 256, 28, 28]          (recursive)\n",
       "|    └─ReLU: 2-373                       [1, 256, 28, 28]          --\n",
       "|    └─Conv2d: 2-374                     [1, 256, 28, 28]          (recursive)\n",
       "|    └─MaxPool2d: 2-375                  [1, 256, 14, 14]          --\n",
       "├─Sequential: 1-76                       [1, 512, 1, 1]            (recursive)\n",
       "|    └─Conv2d: 2-376                     [1, 512, 12, 12]          (recursive)\n",
       "|    └─BatchNorm2d: 2-377                [1, 512, 12, 12]          (recursive)\n",
       "|    └─ReLU: 2-378                       [1, 512, 12, 12]          --\n",
       "|    └─Conv2d: 2-379                     [1, 512, 12, 12]          (recursive)\n",
       "|    └─AdaptiveAvgPool2d: 2-380          [1, 512, 1, 1]            --\n",
       "├─Sequential: 1-77                       [1, 64, 62, 62]           (recursive)\n",
       "|    └─Conv2d: 2-381                     [1, 64, 125, 125]         (recursive)\n",
       "|    └─BatchNorm2d: 2-382                [1, 64, 125, 125]         (recursive)\n",
       "|    └─ReLU: 2-383                       [1, 64, 125, 125]         --\n",
       "|    └─Conv2d: 2-384                     [1, 64, 125, 125]         (recursive)\n",
       "|    └─MaxPool2d: 2-385                  [1, 64, 62, 62]           --\n",
       "├─Sequential: 1-78                       [1, 128, 30, 30]          (recursive)\n",
       "|    └─Conv2d: 2-386                     [1, 128, 60, 60]          (recursive)\n",
       "|    └─BatchNorm2d: 2-387                [1, 128, 60, 60]          (recursive)\n",
       "|    └─ReLU: 2-388                       [1, 128, 60, 60]          --\n",
       "|    └─Conv2d: 2-389                     [1, 128, 60, 60]          (recursive)\n",
       "|    └─MaxPool2d: 2-390                  [1, 128, 30, 30]          --\n",
       "├─Sequential: 1-79                       [1, 256, 14, 14]          (recursive)\n",
       "|    └─Conv2d: 2-391                     [1, 256, 28, 28]          (recursive)\n",
       "|    └─BatchNorm2d: 2-392                [1, 256, 28, 28]          (recursive)\n",
       "|    └─ReLU: 2-393                       [1, 256, 28, 28]          --\n",
       "|    └─Conv2d: 2-394                     [1, 256, 28, 28]          (recursive)\n",
       "|    └─MaxPool2d: 2-395                  [1, 256, 14, 14]          --\n",
       "├─Sequential: 1-80                       [1, 512, 1, 1]            (recursive)\n",
       "|    └─Conv2d: 2-396                     [1, 512, 12, 12]          (recursive)\n",
       "|    └─BatchNorm2d: 2-397                [1, 512, 12, 12]          (recursive)\n",
       "|    └─ReLU: 2-398                       [1, 512, 12, 12]          --\n",
       "|    └─Conv2d: 2-399                     [1, 512, 12, 12]          (recursive)\n",
       "|    └─AdaptiveAvgPool2d: 2-400          [1, 512, 1, 1]            --\n",
       "├─Sequential: 1-81                       [1, 64, 62, 62]           (recursive)\n",
       "|    └─Conv2d: 2-401                     [1, 64, 125, 125]         (recursive)\n",
       "|    └─BatchNorm2d: 2-402                [1, 64, 125, 125]         (recursive)\n",
       "|    └─ReLU: 2-403                       [1, 64, 125, 125]         --\n",
       "|    └─Conv2d: 2-404                     [1, 64, 125, 125]         (recursive)\n",
       "|    └─MaxPool2d: 2-405                  [1, 64, 62, 62]           --\n",
       "├─Sequential: 1-82                       [1, 128, 30, 30]          (recursive)\n",
       "|    └─Conv2d: 2-406                     [1, 128, 60, 60]          (recursive)\n",
       "|    └─BatchNorm2d: 2-407                [1, 128, 60, 60]          (recursive)\n",
       "|    └─ReLU: 2-408                       [1, 128, 60, 60]          --\n",
       "|    └─Conv2d: 2-409                     [1, 128, 60, 60]          (recursive)\n",
       "|    └─MaxPool2d: 2-410                  [1, 128, 30, 30]          --\n",
       "├─Sequential: 1-83                       [1, 256, 14, 14]          (recursive)\n",
       "|    └─Conv2d: 2-411                     [1, 256, 28, 28]          (recursive)\n",
       "|    └─BatchNorm2d: 2-412                [1, 256, 28, 28]          (recursive)\n",
       "|    └─ReLU: 2-413                       [1, 256, 28, 28]          --\n",
       "|    └─Conv2d: 2-414                     [1, 256, 28, 28]          (recursive)\n",
       "|    └─MaxPool2d: 2-415                  [1, 256, 14, 14]          --\n",
       "├─Sequential: 1-84                       [1, 512, 1, 1]            (recursive)\n",
       "|    └─Conv2d: 2-416                     [1, 512, 12, 12]          (recursive)\n",
       "|    └─BatchNorm2d: 2-417                [1, 512, 12, 12]          (recursive)\n",
       "|    └─ReLU: 2-418                       [1, 512, 12, 12]          --\n",
       "|    └─Conv2d: 2-419                     [1, 512, 12, 12]          (recursive)\n",
       "|    └─AdaptiveAvgPool2d: 2-420          [1, 512, 1, 1]            --\n",
       "├─Sequential: 1-85                       [1, 64, 62, 62]           (recursive)\n",
       "|    └─Conv2d: 2-421                     [1, 64, 125, 125]         (recursive)\n",
       "|    └─BatchNorm2d: 2-422                [1, 64, 125, 125]         (recursive)\n",
       "|    └─ReLU: 2-423                       [1, 64, 125, 125]         --\n",
       "|    └─Conv2d: 2-424                     [1, 64, 125, 125]         (recursive)\n",
       "|    └─MaxPool2d: 2-425                  [1, 64, 62, 62]           --\n",
       "├─Sequential: 1-86                       [1, 128, 30, 30]          (recursive)\n",
       "|    └─Conv2d: 2-426                     [1, 128, 60, 60]          (recursive)\n",
       "|    └─BatchNorm2d: 2-427                [1, 128, 60, 60]          (recursive)\n",
       "|    └─ReLU: 2-428                       [1, 128, 60, 60]          --\n",
       "|    └─Conv2d: 2-429                     [1, 128, 60, 60]          (recursive)\n",
       "|    └─MaxPool2d: 2-430                  [1, 128, 30, 30]          --\n",
       "├─Sequential: 1-87                       [1, 256, 14, 14]          (recursive)\n",
       "|    └─Conv2d: 2-431                     [1, 256, 28, 28]          (recursive)\n",
       "|    └─BatchNorm2d: 2-432                [1, 256, 28, 28]          (recursive)\n",
       "|    └─ReLU: 2-433                       [1, 256, 28, 28]          --\n",
       "|    └─Conv2d: 2-434                     [1, 256, 28, 28]          (recursive)\n",
       "|    └─MaxPool2d: 2-435                  [1, 256, 14, 14]          --\n",
       "├─Sequential: 1-88                       [1, 512, 1, 1]            (recursive)\n",
       "|    └─Conv2d: 2-436                     [1, 512, 12, 12]          (recursive)\n",
       "|    └─BatchNorm2d: 2-437                [1, 512, 12, 12]          (recursive)\n",
       "|    └─ReLU: 2-438                       [1, 512, 12, 12]          --\n",
       "|    └─Conv2d: 2-439                     [1, 512, 12, 12]          (recursive)\n",
       "|    └─AdaptiveAvgPool2d: 2-440          [1, 512, 1, 1]            --\n",
       "├─Sequential: 1-89                       [1, 64, 62, 62]           (recursive)\n",
       "|    └─Conv2d: 2-441                     [1, 64, 125, 125]         (recursive)\n",
       "|    └─BatchNorm2d: 2-442                [1, 64, 125, 125]         (recursive)\n",
       "|    └─ReLU: 2-443                       [1, 64, 125, 125]         --\n",
       "|    └─Conv2d: 2-444                     [1, 64, 125, 125]         (recursive)\n",
       "|    └─MaxPool2d: 2-445                  [1, 64, 62, 62]           --\n",
       "├─Sequential: 1-90                       [1, 128, 30, 30]          (recursive)\n",
       "|    └─Conv2d: 2-446                     [1, 128, 60, 60]          (recursive)\n",
       "|    └─BatchNorm2d: 2-447                [1, 128, 60, 60]          (recursive)\n",
       "|    └─ReLU: 2-448                       [1, 128, 60, 60]          --\n",
       "|    └─Conv2d: 2-449                     [1, 128, 60, 60]          (recursive)\n",
       "|    └─MaxPool2d: 2-450                  [1, 128, 30, 30]          --\n",
       "├─Sequential: 1-91                       [1, 256, 14, 14]          (recursive)\n",
       "|    └─Conv2d: 2-451                     [1, 256, 28, 28]          (recursive)\n",
       "|    └─BatchNorm2d: 2-452                [1, 256, 28, 28]          (recursive)\n",
       "|    └─ReLU: 2-453                       [1, 256, 28, 28]          --\n",
       "|    └─Conv2d: 2-454                     [1, 256, 28, 28]          (recursive)\n",
       "|    └─MaxPool2d: 2-455                  [1, 256, 14, 14]          --\n",
       "├─Sequential: 1-92                       [1, 512, 1, 1]            (recursive)\n",
       "|    └─Conv2d: 2-456                     [1, 512, 12, 12]          (recursive)\n",
       "|    └─BatchNorm2d: 2-457                [1, 512, 12, 12]          (recursive)\n",
       "|    └─ReLU: 2-458                       [1, 512, 12, 12]          --\n",
       "|    └─Conv2d: 2-459                     [1, 512, 12, 12]          (recursive)\n",
       "|    └─AdaptiveAvgPool2d: 2-460          [1, 512, 1, 1]            --\n",
       "├─Sequential: 1-93                       [1, 64, 62, 62]           (recursive)\n",
       "|    └─Conv2d: 2-461                     [1, 64, 125, 125]         (recursive)\n",
       "|    └─BatchNorm2d: 2-462                [1, 64, 125, 125]         (recursive)\n",
       "|    └─ReLU: 2-463                       [1, 64, 125, 125]         --\n",
       "|    └─Conv2d: 2-464                     [1, 64, 125, 125]         (recursive)\n",
       "|    └─MaxPool2d: 2-465                  [1, 64, 62, 62]           --\n",
       "├─Sequential: 1-94                       [1, 128, 30, 30]          (recursive)\n",
       "|    └─Conv2d: 2-466                     [1, 128, 60, 60]          (recursive)\n",
       "|    └─BatchNorm2d: 2-467                [1, 128, 60, 60]          (recursive)\n",
       "|    └─ReLU: 2-468                       [1, 128, 60, 60]          --\n",
       "|    └─Conv2d: 2-469                     [1, 128, 60, 60]          (recursive)\n",
       "|    └─MaxPool2d: 2-470                  [1, 128, 30, 30]          --\n",
       "├─Sequential: 1-95                       [1, 256, 14, 14]          (recursive)\n",
       "|    └─Conv2d: 2-471                     [1, 256, 28, 28]          (recursive)\n",
       "|    └─BatchNorm2d: 2-472                [1, 256, 28, 28]          (recursive)\n",
       "|    └─ReLU: 2-473                       [1, 256, 28, 28]          --\n",
       "|    └─Conv2d: 2-474                     [1, 256, 28, 28]          (recursive)\n",
       "|    └─MaxPool2d: 2-475                  [1, 256, 14, 14]          --\n",
       "├─Sequential: 1-96                       [1, 512, 1, 1]            (recursive)\n",
       "|    └─Conv2d: 2-476                     [1, 512, 12, 12]          (recursive)\n",
       "|    └─BatchNorm2d: 2-477                [1, 512, 12, 12]          (recursive)\n",
       "|    └─ReLU: 2-478                       [1, 512, 12, 12]          --\n",
       "|    └─Conv2d: 2-479                     [1, 512, 12, 12]          (recursive)\n",
       "|    └─AdaptiveAvgPool2d: 2-480          [1, 512, 1, 1]            --\n",
       "├─Sequential: 1-97                       [1, 64, 62, 62]           (recursive)\n",
       "|    └─Conv2d: 2-481                     [1, 64, 125, 125]         (recursive)\n",
       "|    └─BatchNorm2d: 2-482                [1, 64, 125, 125]         (recursive)\n",
       "|    └─ReLU: 2-483                       [1, 64, 125, 125]         --\n",
       "|    └─Conv2d: 2-484                     [1, 64, 125, 125]         (recursive)\n",
       "|    └─MaxPool2d: 2-485                  [1, 64, 62, 62]           --\n",
       "├─Sequential: 1-98                       [1, 128, 30, 30]          (recursive)\n",
       "|    └─Conv2d: 2-486                     [1, 128, 60, 60]          (recursive)\n",
       "|    └─BatchNorm2d: 2-487                [1, 128, 60, 60]          (recursive)\n",
       "|    └─ReLU: 2-488                       [1, 128, 60, 60]          --\n",
       "|    └─Conv2d: 2-489                     [1, 128, 60, 60]          (recursive)\n",
       "|    └─MaxPool2d: 2-490                  [1, 128, 30, 30]          --\n",
       "├─Sequential: 1-99                       [1, 256, 14, 14]          (recursive)\n",
       "|    └─Conv2d: 2-491                     [1, 256, 28, 28]          (recursive)\n",
       "|    └─BatchNorm2d: 2-492                [1, 256, 28, 28]          (recursive)\n",
       "|    └─ReLU: 2-493                       [1, 256, 28, 28]          --\n",
       "|    └─Conv2d: 2-494                     [1, 256, 28, 28]          (recursive)\n",
       "|    └─MaxPool2d: 2-495                  [1, 256, 14, 14]          --\n",
       "├─Sequential: 1-100                      [1, 512, 1, 1]            (recursive)\n",
       "|    └─Conv2d: 2-496                     [1, 512, 12, 12]          (recursive)\n",
       "|    └─BatchNorm2d: 2-497                [1, 512, 12, 12]          (recursive)\n",
       "|    └─ReLU: 2-498                       [1, 512, 12, 12]          --\n",
       "|    └─Conv2d: 2-499                     [1, 512, 12, 12]          (recursive)\n",
       "|    └─AdaptiveAvgPool2d: 2-500          [1, 512, 1, 1]            --\n",
       "├─Sequential: 1-101                      [1, 64, 62, 62]           (recursive)\n",
       "|    └─Conv2d: 2-501                     [1, 64, 125, 125]         (recursive)\n",
       "|    └─BatchNorm2d: 2-502                [1, 64, 125, 125]         (recursive)\n",
       "|    └─ReLU: 2-503                       [1, 64, 125, 125]         --\n",
       "|    └─Conv2d: 2-504                     [1, 64, 125, 125]         (recursive)\n",
       "|    └─MaxPool2d: 2-505                  [1, 64, 62, 62]           --\n",
       "├─Sequential: 1-102                      [1, 128, 30, 30]          (recursive)\n",
       "|    └─Conv2d: 2-506                     [1, 128, 60, 60]          (recursive)\n",
       "|    └─BatchNorm2d: 2-507                [1, 128, 60, 60]          (recursive)\n",
       "|    └─ReLU: 2-508                       [1, 128, 60, 60]          --\n",
       "|    └─Conv2d: 2-509                     [1, 128, 60, 60]          (recursive)\n",
       "|    └─MaxPool2d: 2-510                  [1, 128, 30, 30]          --\n",
       "├─Sequential: 1-103                      [1, 256, 14, 14]          (recursive)\n",
       "|    └─Conv2d: 2-511                     [1, 256, 28, 28]          (recursive)\n",
       "|    └─BatchNorm2d: 2-512                [1, 256, 28, 28]          (recursive)\n",
       "|    └─ReLU: 2-513                       [1, 256, 28, 28]          --\n",
       "|    └─Conv2d: 2-514                     [1, 256, 28, 28]          (recursive)\n",
       "|    └─MaxPool2d: 2-515                  [1, 256, 14, 14]          --\n",
       "├─Sequential: 1-104                      [1, 512, 1, 1]            (recursive)\n",
       "|    └─Conv2d: 2-516                     [1, 512, 12, 12]          (recursive)\n",
       "|    └─BatchNorm2d: 2-517                [1, 512, 12, 12]          (recursive)\n",
       "|    └─ReLU: 2-518                       [1, 512, 12, 12]          --\n",
       "|    └─Conv2d: 2-519                     [1, 512, 12, 12]          (recursive)\n",
       "|    └─AdaptiveAvgPool2d: 2-520          [1, 512, 1, 1]            --\n",
       "├─Sequential: 1-105                      [1, 64, 62, 62]           (recursive)\n",
       "|    └─Conv2d: 2-521                     [1, 64, 125, 125]         (recursive)\n",
       "|    └─BatchNorm2d: 2-522                [1, 64, 125, 125]         (recursive)\n",
       "|    └─ReLU: 2-523                       [1, 64, 125, 125]         --\n",
       "|    └─Conv2d: 2-524                     [1, 64, 125, 125]         (recursive)\n",
       "|    └─MaxPool2d: 2-525                  [1, 64, 62, 62]           --\n",
       "├─Sequential: 1-106                      [1, 128, 30, 30]          (recursive)\n",
       "|    └─Conv2d: 2-526                     [1, 128, 60, 60]          (recursive)\n",
       "|    └─BatchNorm2d: 2-527                [1, 128, 60, 60]          (recursive)\n",
       "|    └─ReLU: 2-528                       [1, 128, 60, 60]          --\n",
       "|    └─Conv2d: 2-529                     [1, 128, 60, 60]          (recursive)\n",
       "|    └─MaxPool2d: 2-530                  [1, 128, 30, 30]          --\n",
       "├─Sequential: 1-107                      [1, 256, 14, 14]          (recursive)\n",
       "|    └─Conv2d: 2-531                     [1, 256, 28, 28]          (recursive)\n",
       "|    └─BatchNorm2d: 2-532                [1, 256, 28, 28]          (recursive)\n",
       "|    └─ReLU: 2-533                       [1, 256, 28, 28]          --\n",
       "|    └─Conv2d: 2-534                     [1, 256, 28, 28]          (recursive)\n",
       "|    └─MaxPool2d: 2-535                  [1, 256, 14, 14]          --\n",
       "├─Sequential: 1-108                      [1, 512, 1, 1]            (recursive)\n",
       "|    └─Conv2d: 2-536                     [1, 512, 12, 12]          (recursive)\n",
       "|    └─BatchNorm2d: 2-537                [1, 512, 12, 12]          (recursive)\n",
       "|    └─ReLU: 2-538                       [1, 512, 12, 12]          --\n",
       "|    └─Conv2d: 2-539                     [1, 512, 12, 12]          (recursive)\n",
       "|    └─AdaptiveAvgPool2d: 2-540          [1, 512, 1, 1]            --\n",
       "├─Sequential: 1-109                      [1, 64, 62, 62]           (recursive)\n",
       "|    └─Conv2d: 2-541                     [1, 64, 125, 125]         (recursive)\n",
       "|    └─BatchNorm2d: 2-542                [1, 64, 125, 125]         (recursive)\n",
       "|    └─ReLU: 2-543                       [1, 64, 125, 125]         --\n",
       "|    └─Conv2d: 2-544                     [1, 64, 125, 125]         (recursive)\n",
       "|    └─MaxPool2d: 2-545                  [1, 64, 62, 62]           --\n",
       "├─Sequential: 1-110                      [1, 128, 30, 30]          (recursive)\n",
       "|    └─Conv2d: 2-546                     [1, 128, 60, 60]          (recursive)\n",
       "|    └─BatchNorm2d: 2-547                [1, 128, 60, 60]          (recursive)\n",
       "|    └─ReLU: 2-548                       [1, 128, 60, 60]          --\n",
       "|    └─Conv2d: 2-549                     [1, 128, 60, 60]          (recursive)\n",
       "|    └─MaxPool2d: 2-550                  [1, 128, 30, 30]          --\n",
       "├─Sequential: 1-111                      [1, 256, 14, 14]          (recursive)\n",
       "|    └─Conv2d: 2-551                     [1, 256, 28, 28]          (recursive)\n",
       "|    └─BatchNorm2d: 2-552                [1, 256, 28, 28]          (recursive)\n",
       "|    └─ReLU: 2-553                       [1, 256, 28, 28]          --\n",
       "|    └─Conv2d: 2-554                     [1, 256, 28, 28]          (recursive)\n",
       "|    └─MaxPool2d: 2-555                  [1, 256, 14, 14]          --\n",
       "├─Sequential: 1-112                      [1, 512, 1, 1]            (recursive)\n",
       "|    └─Conv2d: 2-556                     [1, 512, 12, 12]          (recursive)\n",
       "|    └─BatchNorm2d: 2-557                [1, 512, 12, 12]          (recursive)\n",
       "|    └─ReLU: 2-558                       [1, 512, 12, 12]          --\n",
       "|    └─Conv2d: 2-559                     [1, 512, 12, 12]          (recursive)\n",
       "|    └─AdaptiveAvgPool2d: 2-560          [1, 512, 1, 1]            --\n",
       "├─Sequential: 1-113                      [1, 64, 62, 62]           (recursive)\n",
       "|    └─Conv2d: 2-561                     [1, 64, 125, 125]         (recursive)\n",
       "|    └─BatchNorm2d: 2-562                [1, 64, 125, 125]         (recursive)\n",
       "|    └─ReLU: 2-563                       [1, 64, 125, 125]         --\n",
       "|    └─Conv2d: 2-564                     [1, 64, 125, 125]         (recursive)\n",
       "|    └─MaxPool2d: 2-565                  [1, 64, 62, 62]           --\n",
       "├─Sequential: 1-114                      [1, 128, 30, 30]          (recursive)\n",
       "|    └─Conv2d: 2-566                     [1, 128, 60, 60]          (recursive)\n",
       "|    └─BatchNorm2d: 2-567                [1, 128, 60, 60]          (recursive)\n",
       "|    └─ReLU: 2-568                       [1, 128, 60, 60]          --\n",
       "|    └─Conv2d: 2-569                     [1, 128, 60, 60]          (recursive)\n",
       "|    └─MaxPool2d: 2-570                  [1, 128, 30, 30]          --\n",
       "├─Sequential: 1-115                      [1, 256, 14, 14]          (recursive)\n",
       "|    └─Conv2d: 2-571                     [1, 256, 28, 28]          (recursive)\n",
       "|    └─BatchNorm2d: 2-572                [1, 256, 28, 28]          (recursive)\n",
       "|    └─ReLU: 2-573                       [1, 256, 28, 28]          --\n",
       "|    └─Conv2d: 2-574                     [1, 256, 28, 28]          (recursive)\n",
       "|    └─MaxPool2d: 2-575                  [1, 256, 14, 14]          --\n",
       "├─Sequential: 1-116                      [1, 512, 1, 1]            (recursive)\n",
       "|    └─Conv2d: 2-576                     [1, 512, 12, 12]          (recursive)\n",
       "|    └─BatchNorm2d: 2-577                [1, 512, 12, 12]          (recursive)\n",
       "|    └─ReLU: 2-578                       [1, 512, 12, 12]          --\n",
       "|    └─Conv2d: 2-579                     [1, 512, 12, 12]          (recursive)\n",
       "|    └─AdaptiveAvgPool2d: 2-580          [1, 512, 1, 1]            --\n",
       "├─Sequential: 1-117                      [1, 64, 62, 62]           (recursive)\n",
       "|    └─Conv2d: 2-581                     [1, 64, 125, 125]         (recursive)\n",
       "|    └─BatchNorm2d: 2-582                [1, 64, 125, 125]         (recursive)\n",
       "|    └─ReLU: 2-583                       [1, 64, 125, 125]         --\n",
       "|    └─Conv2d: 2-584                     [1, 64, 125, 125]         (recursive)\n",
       "|    └─MaxPool2d: 2-585                  [1, 64, 62, 62]           --\n",
       "├─Sequential: 1-118                      [1, 128, 30, 30]          (recursive)\n",
       "|    └─Conv2d: 2-586                     [1, 128, 60, 60]          (recursive)\n",
       "|    └─BatchNorm2d: 2-587                [1, 128, 60, 60]          (recursive)\n",
       "|    └─ReLU: 2-588                       [1, 128, 60, 60]          --\n",
       "|    └─Conv2d: 2-589                     [1, 128, 60, 60]          (recursive)\n",
       "|    └─MaxPool2d: 2-590                  [1, 128, 30, 30]          --\n",
       "├─Sequential: 1-119                      [1, 256, 14, 14]          (recursive)\n",
       "|    └─Conv2d: 2-591                     [1, 256, 28, 28]          (recursive)\n",
       "|    └─BatchNorm2d: 2-592                [1, 256, 28, 28]          (recursive)\n",
       "|    └─ReLU: 2-593                       [1, 256, 28, 28]          --\n",
       "|    └─Conv2d: 2-594                     [1, 256, 28, 28]          (recursive)\n",
       "|    └─MaxPool2d: 2-595                  [1, 256, 14, 14]          --\n",
       "├─Sequential: 1-120                      [1, 512, 1, 1]            (recursive)\n",
       "|    └─Conv2d: 2-596                     [1, 512, 12, 12]          (recursive)\n",
       "|    └─BatchNorm2d: 2-597                [1, 512, 12, 12]          (recursive)\n",
       "|    └─ReLU: 2-598                       [1, 512, 12, 12]          --\n",
       "|    └─Conv2d: 2-599                     [1, 512, 12, 12]          (recursive)\n",
       "|    └─AdaptiveAvgPool2d: 2-600          [1, 512, 1, 1]            --\n",
       "├─LSTM: 1-121                            [1, 30, 512]              2,101,248\n",
       "├─Linear: 1-122                          [1, 10]                   5,130\n",
       "==========================================================================================\n",
       "Total params: 4,016,074\n",
       "Trainable params: 4,016,074\n",
       "Non-trainable params: 0\n",
       "Total mult-adds (G): 56.13\n",
       "==========================================================================================\n",
       "Input size (MB): 23.59\n",
       "Forward/backward pass size (MB): 41.77\n",
       "Params size (MB): 16.06\n",
       "Estimated Total Size (MB): 81.43\n",
       "=========================================================================================="
      ]
     },
     "execution_count": 21,
     "metadata": {},
     "output_type": "execute_result"
    }
   ],
   "source": [
    "summary(model_1, input_size=(1, 30, 3, 256, 256))"
   ]
  },
  {
   "cell_type": "code",
   "execution_count": null,
   "metadata": {},
   "outputs": [],
   "source": []
  },
  {
   "cell_type": "code",
   "execution_count": 20,
   "metadata": {},
   "outputs": [],
   "source": [
    "# Hyperparams\n",
    "epochs = 30\n",
    "# batch_size = 4\n",
    "learning_rate = 1e-5\n",
    "weight_decay = 1e-5\n",
    "log_interval = 20\n",
    "# sample_size = 128\n",
    "# sample_duration = 16\n",
    "# num_classes = 100\n",
    "# lstm_hidden_size = 512\n",
    "# lstm_num_layers = 1\n",
    "# attention = False"
   ]
  },
  {
   "cell_type": "code",
   "execution_count": 18,
   "metadata": {},
   "outputs": [],
   "source": [
    "model = CRNN(num_classes=u_len_label).to(device)"
   ]
  },
  {
   "cell_type": "code",
   "execution_count": 19,
   "metadata": {},
   "outputs": [],
   "source": [
    "if torch.cuda.device_count() > 1:\n",
    "    logger.info(\"Using {} GPUs\".format(torch.cuda.device_count()))\n",
    "    model = nn.DataParallel(model)"
   ]
  },
  {
   "cell_type": "code",
   "execution_count": 20,
   "metadata": {},
   "outputs": [],
   "source": [
    "criterion = nn.CrossEntropyLoss()\n",
    "optimizer = optim.Adam(model.parameters(), lr=learning_rate, weight_decay=weight_decay)"
   ]
  },
  {
   "cell_type": "code",
   "execution_count": 21,
   "metadata": {
    "scrolled": true
   },
   "outputs": [
    {
     "name": "stderr",
     "output_type": "stream",
     "text": [
      "######################Training Started######################\n",
      "Epoch 0\n",
      "100%|██████████| 311/311 [05:31<00:00,  1.07s/batch, accuracy=0, loss=2.34]   \n",
      "Average Training Loss of Epoch 1: 2.309455 | Acc: 7.48%\n",
      "Average Validation Loss of Epoch 1: 2.302975 | Acc: 6.70%\n",
      "####################Epoch 1 Model Saved#####################\n",
      "Epoch 1\n",
      "100%|██████████| 311/311 [05:31<00:00,  1.07s/batch, accuracy=0, loss=2.3]    \n",
      "Average Training Loss of Epoch 2: 2.306907 | Acc: 7.88%\n",
      "Average Validation Loss of Epoch 2: 2.302246 | Acc: 9.79%\n",
      "####################Epoch 2 Model Saved#####################\n",
      "Epoch 2\n",
      "100%|██████████| 311/311 [05:32<00:00,  1.07s/batch, accuracy=0.333, loss=2.27]\n",
      "Average Training Loss of Epoch 3: 2.305091 | Acc: 9.25%\n",
      "Average Validation Loss of Epoch 3: 2.302334 | Acc: 9.79%\n",
      "####################Epoch 3 Model Saved#####################\n",
      "Epoch 3\n",
      "100%|██████████| 311/311 [05:33<00:00,  1.07s/batch, accuracy=0, loss=2.29]   \n",
      "Average Training Loss of Epoch 4: 2.303278 | Acc: 9.09%\n",
      "Average Validation Loss of Epoch 4: 2.302526 | Acc: 10.31%\n",
      "####################Epoch 4 Model Saved#####################\n",
      "Epoch 4\n",
      "100%|██████████| 311/311 [05:33<00:00,  1.07s/batch, accuracy=0, loss=2.31]   \n",
      "Average Training Loss of Epoch 5: 2.302977 | Acc: 9.73%\n",
      "Average Validation Loss of Epoch 5: 2.301750 | Acc: 9.79%\n",
      "####################Epoch 5 Model Saved#####################\n",
      "Epoch 5\n",
      "100%|██████████| 311/311 [05:32<00:00,  1.07s/batch, accuracy=0, loss=2.3]    \n",
      "Average Training Loss of Epoch 6: 2.302598 | Acc: 10.94%\n",
      "Average Validation Loss of Epoch 6: 2.301315 | Acc: 8.76%\n",
      "####################Epoch 6 Model Saved#####################\n",
      "Epoch 6\n",
      "100%|██████████| 311/311 [05:33<00:00,  1.07s/batch, accuracy=0, loss=2.32]   \n",
      "Average Training Loss of Epoch 7: 2.300002 | Acc: 10.38%\n",
      "Average Validation Loss of Epoch 7: 2.302481 | Acc: 10.31%\n",
      "####################Epoch 7 Model Saved#####################\n",
      "Epoch 7\n",
      "100%|██████████| 311/311 [05:34<00:00,  1.08s/batch, accuracy=0.333, loss=2.28]\n",
      "Average Training Loss of Epoch 8: 2.298534 | Acc: 10.86%\n",
      "Average Validation Loss of Epoch 8: 2.302605 | Acc: 10.82%\n",
      "####################Epoch 8 Model Saved#####################\n",
      "Epoch 8\n",
      "100%|██████████| 311/311 [05:37<00:00,  1.08s/batch, accuracy=0, loss=2.33]   \n",
      "Average Training Loss of Epoch 9: 2.294223 | Acc: 12.39%\n",
      "Average Validation Loss of Epoch 9: 2.304462 | Acc: 8.76%\n",
      "####################Epoch 9 Model Saved#####################\n",
      "Epoch 9\n",
      "100%|██████████| 311/311 [05:35<00:00,  1.08s/batch, accuracy=0, loss=2.33]   \n",
      "Average Training Loss of Epoch 10: 2.291482 | Acc: 12.15%\n",
      "Average Validation Loss of Epoch 10: 2.306779 | Acc: 7.73%\n",
      "####################Epoch 10 Model Saved####################\n",
      "Epoch 10\n",
      "100%|██████████| 311/311 [05:35<00:00,  1.08s/batch, accuracy=0, loss=2.14]   \n",
      "Average Training Loss of Epoch 11: 2.290547 | Acc: 11.67%\n",
      "Average Validation Loss of Epoch 11: 2.308007 | Acc: 9.28%\n",
      "####################Epoch 11 Model Saved####################\n",
      "Epoch 11\n",
      "100%|██████████| 311/311 [05:31<00:00,  1.07s/batch, accuracy=0.333, loss=2.3]\n",
      "Average Training Loss of Epoch 12: 2.282667 | Acc: 11.67%\n",
      "Average Validation Loss of Epoch 12: 2.318475 | Acc: 8.76%\n",
      "####################Epoch 12 Model Saved####################\n",
      "Epoch 12\n",
      "100%|██████████| 311/311 [05:35<00:00,  1.08s/batch, accuracy=0, loss=2.41]   \n",
      "Average Training Loss of Epoch 13: 2.275518 | Acc: 13.92%\n",
      "Average Validation Loss of Epoch 13: 2.316373 | Acc: 10.82%\n",
      "####################Epoch 13 Model Saved####################\n",
      "Epoch 13\n",
      "100%|██████████| 311/311 [05:35<00:00,  1.08s/batch, accuracy=0.333, loss=2.21]\n",
      "Average Training Loss of Epoch 14: 2.262429 | Acc: 12.87%\n",
      "Average Validation Loss of Epoch 14: 2.339904 | Acc: 11.34%\n",
      "####################Epoch 14 Model Saved####################\n",
      "Epoch 14\n",
      "100%|██████████| 311/311 [05:33<00:00,  1.07s/batch, accuracy=0, loss=2.44]   \n",
      "Average Training Loss of Epoch 15: 2.245033 | Acc: 16.01%\n",
      "Average Validation Loss of Epoch 15: 2.394520 | Acc: 8.76%\n",
      "####################Epoch 15 Model Saved####################\n",
      "Epoch 15\n",
      "100%|██████████| 311/311 [05:36<00:00,  1.08s/batch, accuracy=0.333, loss=2.18]\n",
      "Average Training Loss of Epoch 16: 2.209613 | Acc: 15.45%\n",
      "Average Validation Loss of Epoch 16: 2.420737 | Acc: 10.31%\n",
      "####################Epoch 16 Model Saved####################\n",
      "Epoch 16\n",
      "100%|██████████| 311/311 [05:36<00:00,  1.08s/batch, accuracy=0.333, loss=2.26]\n",
      "Average Training Loss of Epoch 17: 2.174410 | Acc: 16.33%\n",
      "Average Validation Loss of Epoch 17: 2.515430 | Acc: 10.31%\n",
      "####################Epoch 17 Model Saved####################\n",
      "Epoch 17\n",
      "100%|██████████| 311/311 [05:38<00:00,  1.09s/batch, accuracy=0.333, loss=2.58]\n",
      "Average Training Loss of Epoch 18: 2.143711 | Acc: 18.18%\n",
      "Average Validation Loss of Epoch 18: 2.453741 | Acc: 15.46%\n",
      "####################Epoch 18 Model Saved####################\n",
      "Epoch 18\n",
      "100%|██████████| 311/311 [05:37<00:00,  1.09s/batch, accuracy=0, loss=2.22]   \n",
      "Average Training Loss of Epoch 19: 2.108865 | Acc: 17.46%\n",
      "Average Validation Loss of Epoch 19: 2.489833 | Acc: 6.70%\n",
      "####################Epoch 19 Model Saved####################\n",
      "Epoch 19\n",
      "100%|██████████| 311/311 [05:36<00:00,  1.08s/batch, accuracy=0, loss=1.99]   \n",
      "Average Training Loss of Epoch 20: 2.070395 | Acc: 19.23%\n",
      "Average Validation Loss of Epoch 20: 2.600180 | Acc: 9.79%\n",
      "####################Epoch 20 Model Saved####################\n",
      "Epoch 20\n",
      "100%|██████████| 311/311 [05:35<00:00,  1.08s/batch, accuracy=0, loss=2.2]    \n",
      "Average Training Loss of Epoch 21: 2.024928 | Acc: 21.64%\n",
      "Average Validation Loss of Epoch 21: 2.730648 | Acc: 11.86%\n",
      "####################Epoch 21 Model Saved####################\n",
      "Epoch 21\n",
      "100%|██████████| 311/311 [05:36<00:00,  1.08s/batch, accuracy=0, loss=1.76]   \n",
      "Average Training Loss of Epoch 22: 1.979612 | Acc: 22.20%\n",
      "Average Validation Loss of Epoch 22: 2.712262 | Acc: 9.79%\n",
      "####################Epoch 22 Model Saved####################\n",
      "Epoch 22\n",
      "100%|██████████| 311/311 [05:33<00:00,  1.07s/batch, accuracy=0.333, loss=2.28]\n",
      "Average Training Loss of Epoch 23: 1.965413 | Acc: 21.16%\n",
      "Average Validation Loss of Epoch 23: 2.779890 | Acc: 9.28%\n",
      "####################Epoch 23 Model Saved####################\n",
      "Epoch 23\n",
      "100%|██████████| 311/311 [05:33<00:00,  1.07s/batch, accuracy=0, loss=2.25]   \n",
      "Average Training Loss of Epoch 24: 1.916824 | Acc: 23.65%\n",
      "Average Validation Loss of Epoch 24: 2.865685 | Acc: 9.28%\n",
      "####################Epoch 24 Model Saved####################\n",
      "Epoch 24\n",
      "100%|██████████| 311/311 [05:32<00:00,  1.07s/batch, accuracy=0.333, loss=1.84]\n",
      "Average Training Loss of Epoch 25: 1.908285 | Acc: 24.94%\n",
      "Average Validation Loss of Epoch 25: 3.320475 | Acc: 12.89%\n",
      "####################Epoch 25 Model Saved####################\n",
      "Epoch 25\n",
      "100%|██████████| 311/311 [05:32<00:00,  1.07s/batch, accuracy=0.333, loss=1.85]\n",
      "Average Training Loss of Epoch 26: 1.880867 | Acc: 24.46%\n",
      "Average Validation Loss of Epoch 26: 2.770808 | Acc: 14.95%\n",
      "####################Epoch 26 Model Saved####################\n",
      "Epoch 26\n",
      "100%|██████████| 311/311 [05:32<00:00,  1.07s/batch, accuracy=0.333, loss=1.9]\n",
      "Average Training Loss of Epoch 27: 1.875341 | Acc: 25.02%\n",
      "Average Validation Loss of Epoch 27: 2.713839 | Acc: 13.40%\n",
      "####################Epoch 27 Model Saved####################\n",
      "Epoch 27\n",
      "100%|██████████| 311/311 [05:38<00:00,  1.09s/batch, accuracy=0, loss=1.81]   \n",
      "Average Training Loss of Epoch 28: 1.864433 | Acc: 23.57%\n",
      "Average Validation Loss of Epoch 28: 3.011904 | Acc: 11.34%\n",
      "####################Epoch 28 Model Saved####################\n",
      "Epoch 28\n",
      "100%|██████████| 311/311 [05:38<00:00,  1.09s/batch, accuracy=0.333, loss=2.11]\n",
      "Average Training Loss of Epoch 29: 1.838924 | Acc: 27.51%\n",
      "Average Validation Loss of Epoch 29: 3.338310 | Acc: 11.34%\n",
      "####################Epoch 29 Model Saved####################\n",
      "Epoch 29\n",
      "100%|██████████| 311/311 [05:37<00:00,  1.09s/batch, accuracy=0.333, loss=1.37]\n",
      "Average Training Loss of Epoch 30: 1.807271 | Acc: 26.95%\n",
      "Average Validation Loss of Epoch 30: 3.752782 | Acc: 10.82%\n",
      "####################Epoch 30 Model Saved####################\n",
      "#####################Training Finished######################\n"
     ]
    }
   ],
   "source": [
    "# Start training\n",
    "logger.info(\"Training Started\".center(60, '#'))\n",
    "for epoch in range(epochs):\n",
    "    logger.info(f\"Epoch {epoch+1}\")\n",
    "    \n",
    "    # Train the model\n",
    "    train_epoch(model, criterion, optimizer, train_loader, device, epoch, logger, log_interval, writer)\n",
    "\n",
    "    # Validate the model\n",
    "    val_epoch(model, criterion, val_loader, device, epoch, logger, writer)\n",
    "\n",
    "    # Save model\n",
    "    torch.save(model.state_dict(), os.path.join(\"saved_models/slr_convlstm2_epoch{:03d}.pth\".format(epoch+1)))\n",
    "    logger.info(\"Epoch {} Model Saved\".format(epoch+1).center(60, '#'))\n",
    "\n",
    "logger.info(\"Training Finished\".center(60, '#'))"
   ]
  },
  {
   "cell_type": "code",
   "execution_count": null,
   "metadata": {},
   "outputs": [],
   "source": []
  },
  {
   "cell_type": "code",
   "execution_count": null,
   "metadata": {},
   "outputs": [],
   "source": [
    "model = CRNN(num_classes=u_len_label)"
   ]
  },
  {
   "cell_type": "code",
   "execution_count": null,
   "metadata": {
    "scrolled": true
   },
   "outputs": [],
   "source": [
    "train_loss_store, train_acc_store, val_loss_store, val_acc_store, val_metrics_store = model_fns.train(model, \n",
    "                                                                                                      train_loader, \n",
    "                                                                                                      val_loader, \n",
    "                                                                                                      no_of_epochs=10, \n",
    "                                                                                                      device=device, \n",
    "                                                                                                      save_dir=\"saved_models/crnn\", \n",
    "                                                                                                      lr_scheduler=True)"
   ]
  },
  {
   "cell_type": "code",
   "execution_count": null,
   "metadata": {},
   "outputs": [],
   "source": []
  },
  {
   "cell_type": "markdown",
   "metadata": {},
   "source": [
    "## CNN-LSTM (with dropout)"
   ]
  },
  {
   "cell_type": "code",
   "execution_count": null,
   "metadata": {},
   "outputs": [],
   "source": [
    "model = CNN_LSTM(u_len_label, 300, 2, 2, channel_in=3, cnn_bn=True, bidirectional=True)"
   ]
  },
  {
   "cell_type": "code",
   "execution_count": null,
   "metadata": {
    "scrolled": true
   },
   "outputs": [],
   "source": [
    "train_loss_store, train_acc_store, val_loss_store, val_acc_store, val_metrics_store = model_fns.train(model, \n",
    "                                                                                                      train_loader, \n",
    "                                                                                                      val_loader, \n",
    "                                                                                                      no_of_epochs=10, \n",
    "                                                                                                      device=device, \n",
    "                                                                                                      save_dir=\"saved_models/cnn_lstm_dropout\", \n",
    "                                                                                                      lr_scheduler=True)"
   ]
  },
  {
   "cell_type": "markdown",
   "metadata": {},
   "source": [
    "## CNN-LSTM (from scratch)"
   ]
  },
  {
   "cell_type": "code",
   "execution_count": null,
   "metadata": {},
   "outputs": [],
   "source": [
    "model = CNN_RNN(u_len_label, 30, 2, 2, channel_in=3, cnn_bn=True, bidirectional=True)"
   ]
  },
  {
   "cell_type": "code",
   "execution_count": null,
   "metadata": {},
   "outputs": [],
   "source": [
    "train_loss_store, train_acc_store, val_loss_store, val_acc_store, val_metrics_store = model_fns.train(model, \n",
    "                                                                                                      train_loader, \n",
    "                                                                                                      val_loader, \n",
    "                                                                                                      no_of_epochs=10, \n",
    "                                                                                                      device=device, \n",
    "                                                                                                      save_dir=\"saved_models/cnn_rnn_bn_bidir\", \n",
    "                                                                                                      lr_scheduler=True)"
   ]
  },
  {
   "cell_type": "markdown",
   "metadata": {},
   "source": [
    "## CNN-LSTM (VGG11)"
   ]
  },
  {
   "cell_type": "code",
   "execution_count": null,
   "metadata": {},
   "outputs": [],
   "source": [
    "model = VGG_LSTM(u_len_label, 300, 2, bidirectional=True)"
   ]
  },
  {
   "cell_type": "code",
   "execution_count": null,
   "metadata": {
    "scrolled": true
   },
   "outputs": [],
   "source": [
    "train_loss_store, train_acc_store, val_loss_store, val_acc_store, val_metrics_store = model_fns.train(model, \n",
    "                                                                                                      train_loader, \n",
    "                                                                                                      val_loader, \n",
    "                                                                                                      no_of_epochs=10, \n",
    "                                                                                                      device=device, \n",
    "                                                                                                      save_dir=\"saved_models/vgg_lstm_bidir\", \n",
    "                                                                                                      lr_scheduler=True)"
   ]
  },
  {
   "cell_type": "markdown",
   "metadata": {},
   "source": [
    "## CNN-LSTM (ResNet101)"
   ]
  },
  {
   "cell_type": "code",
   "execution_count": null,
   "metadata": {
    "scrolled": true
   },
   "outputs": [],
   "source": [
    "model = ResNet_LSTM(u_len_label, 300, resnet_opt=\"resnet101\")"
   ]
  },
  {
   "cell_type": "code",
   "execution_count": null,
   "metadata": {},
   "outputs": [],
   "source": [
    "train_loss_store, train_acc_store, val_loss_store, val_acc_store, val_metrics_store = model_fns.train(model, \n",
    "                                                                                                      train_loader, \n",
    "                                                                                                      val_loader, \n",
    "                                                                                                      no_of_epochs=10, \n",
    "                                                                                                      device=device, \n",
    "                                                                                                      save_dir=\"saved_models/cnn_lstm_101\", \n",
    "                                                                                                      lr_scheduler=True)"
   ]
  },
  {
   "cell_type": "markdown",
   "metadata": {},
   "source": [
    "# Graph"
   ]
  },
  {
   "cell_type": "code",
   "execution_count": 24,
   "metadata": {},
   "outputs": [],
   "source": [
    "# UNCOMMENT TO CLEAR GPU CACHE\n",
    "import gc\n",
    "gc.collect()\n",
    "torch.cuda.empty_cache()"
   ]
  },
  {
   "cell_type": "code",
   "execution_count": null,
   "metadata": {},
   "outputs": [],
   "source": []
  }
 ],
 "metadata": {
  "kernelspec": {
   "display_name": "dl-big-proj",
   "language": "python",
   "name": "dl-big-proj"
  },
  "language_info": {
   "codemirror_mode": {
    "name": "ipython",
    "version": 3
   },
   "file_extension": ".py",
   "mimetype": "text/x-python",
   "name": "python",
   "nbconvert_exporter": "python",
   "pygments_lexer": "ipython3",
   "version": "3.6.10"
  }
 },
 "nbformat": 4,
 "nbformat_minor": 4
}
